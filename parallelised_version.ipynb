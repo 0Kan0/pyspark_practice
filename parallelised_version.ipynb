{
 "cells": [
  {
   "cell_type": "code",
   "execution_count": 1,
   "metadata": {
    "ExecuteTime": {
     "end_time": "2024-02-14T10:30:05.578959Z",
     "start_time": "2024-02-14T10:30:04.777103Z"
    }
   },
   "outputs": [],
   "source": [
    "import random\n",
    "import math\n",
    "from operator import add\n",
    "import numpy as np\n",
    "import time\n",
    "import findspark\n",
    "import matplotlib.pyplot as plt\n",
    "from pyspark import SparkContext"
   ]
  },
  {
   "cell_type": "code",
   "execution_count": 2,
   "metadata": {
    "ExecuteTime": {
     "end_time": "2024-02-14T10:30:21.366329Z",
     "start_time": "2024-02-14T10:30:05.581139Z"
    }
   },
   "outputs": [
    {
     "name": "stdout",
     "output_type": "stream",
     "text": [
      "24/02/14 11:30:08 WARN Utils: Your hostname, vm resolves to a loopback address: 127.0.1.1; using 10.0.2.15 instead (on interface enp0s3)\n",
      "24/02/14 11:30:08 WARN Utils: Set SPARK_LOCAL_IP if you need to bind to another address\n"
     ]
    },
    {
     "name": "stderr",
     "output_type": "stream",
     "text": [
      "Setting default log level to \"WARN\".\n",
      "To adjust logging level use sc.setLogLevel(newLevel). For SparkR, use setLogLevel(newLevel).\n"
     ]
    },
    {
     "name": "stdout",
     "output_type": "stream",
     "text": [
      "24/02/14 11:30:19 WARN NativeCodeLoader: Unable to load native-hadoop library for your platform... using builtin-java classes where applicable\n"
     ]
    }
   ],
   "source": [
    "findspark.init()\n",
    "sc = SparkContext(\"local[*]\", \"Paralelize\")"
   ]
  },
  {
   "cell_type": "markdown",
   "metadata": {},
   "source": [
    "# Declaración de funciones"
   ]
  },
  {
   "cell_type": "code",
   "execution_count": 3,
   "metadata": {
    "ExecuteTime": {
     "end_time": "2024-02-14T10:30:21.378764Z",
     "start_time": "2024-02-14T10:30:21.374355Z"
    }
   },
   "outputs": [],
   "source": [
    "def readFile(path, cols=np.inf):\n",
    "    # Inicializar una sesión de Spark\n",
    "    rdd = sc.textFile(path)\n",
    "    rdd.cache()\n",
    "    rdd.count()\n",
    "    # Leer el archivo como un RDD de líneas\n",
    "    def parse_line(rdd):\n",
    "        # Dividir la línea por comas\n",
    "        parts = rdd.split(',')\n",
    "        # Convertir las partes en números y extraer solo las columnas necesarias\n",
    "        cols_to_take = min(cols, len(parts) - 1)\n",
    "        x = [float(x) for x in parts[:cols_to_take]]\n",
    "        y = float(parts[-1])\n",
    "        return (x, y)\n",
    "\n",
    "    # Aplicar la función de parseo a cada línea\n",
    "    parsed_data = rdd.map(parse_line)\n",
    "\n",
    "    numpy_data = parsed_data.map(lambda x: (np.array(x[0], dtype=float), x[1]))\n",
    "\n",
    "    # Convertir los datos en un arreglo numpy y retornarlo\n",
    "    return numpy_data"
   ]
  },
  {
   "cell_type": "code",
   "execution_count": 4,
   "metadata": {
    "ExecuteTime": {
     "end_time": "2024-02-14T10:30:21.388526Z",
     "start_time": "2024-02-14T10:30:21.380561Z"
    }
   },
   "outputs": [],
   "source": [
    "def normalize(X_y):\n",
    "    X = X_y.map(lambda x: x[0])\n",
    "    y = X_y.map(lambda x: x[1])\n",
    "\n",
    "    m = X.count()\n",
    "    n = len(X.reduce(lambda x, y: x + y))\n",
    "    \n",
    "    col_sum = X.map(lambda x: np.array(x)).reduce(lambda x, y: np.add(x, y))\n",
    "    sum_squares_col = X.map(lambda x: np.array(x**2)).reduce(lambda x, y: np.add(x, y))\n",
    "\n",
    "    means = col_sum / m\n",
    "    print(f\"Means: {means}\\n\")\n",
    "    \n",
    "    var = ((sum_squares_col / m) - (means**2))\n",
    "    std = var**0.5\n",
    "    print(f\"Std: {std}\\n\")\n",
    "    \n",
    "    normalized_rdd = X_y.map(lambda x: (np.array((x[0] - means) / std, dtype=object), x[1]))\n",
    "    \n",
    "    return normalized_rdd"
   ]
  },
  {
   "cell_type": "code",
   "execution_count": 5,
   "metadata": {
    "ExecuteTime": {
     "end_time": "2024-02-14T10:30:21.401182Z",
     "start_time": "2024-02-14T10:30:21.390962Z"
    }
   },
   "outputs": [],
   "source": [
    "def get_y_hat (x,w):\n",
    "    #print (x.shape, w.shape)\n",
    "    return sigmoid(get_dot_xw(x,w))\n",
    "\n",
    "def get_dot_xw(x,w):\n",
    "    r = 0.\n",
    "    if (len(x)>=len(w)):\n",
    "        #print (\"getdot\",len(x),len(w))\n",
    "        pass\n",
    "    for i in range(len(x)):\n",
    "        r += float(x[i])*float(w[i])\n",
    "    return r + w[-1]\n",
    "\n",
    "def sigmoid(x):\n",
    "    try:\n",
    "        return 1. / (1.+math.exp(-x))\n",
    "    except OverflowError:\n",
    "        return 0.0"
   ]
  },
  {
   "cell_type": "code",
   "execution_count": 6,
   "metadata": {
    "ExecuteTime": {
     "end_time": "2024-02-14T10:30:21.408842Z",
     "start_time": "2024-02-14T10:30:21.403544Z"
    }
   },
   "outputs": [],
   "source": [
    "def predict (x,w):\n",
    "    threshold=0.5\n",
    "    y_hat=get_y_hat(x,w)\n",
    "    return 1 if y_hat > threshold else 0\n",
    "        \n",
    "# Check the accuracy of the model\n",
    "def accuracy(X_y, wf):\n",
    "    #compute the number of correct answers for each element of the dataset \n",
    "    correct_answers=0\n",
    "    \n",
    "    def count_correct(x_y):\n",
    "        x, y = x_y\n",
    "        return 1 if predict(x, wf) == y else 0\n",
    "    \n",
    "    correct_answers = X_y.map(count_correct).reduce(lambda x, y: x + y)\n",
    "    accuracy = correct_answers*100.0/X_y.count()\n",
    "\n",
    "    return accuracy"
   ]
  },
  {
   "cell_type": "code",
   "execution_count": 7,
   "metadata": {
    "ExecuteTime": {
     "end_time": "2024-02-14T10:30:21.431315Z",
     "start_time": "2024-02-14T10:30:21.426341Z"
    }
   },
   "outputs": [],
   "source": [
    "# Update model weights using current weights, their derivatives and the learning rate \n",
    "def update_ws(w,dw,lr):\n",
    "    w_ = np.array(w, dtype=float)\n",
    "    dw_ = np.array(dw, dtype=float)\n",
    "    #print (\"shapes w y dw\",w.shape,dw.shape)\n",
    "    tmp = w_ - lr*dw_\n",
    "    neww = tmp    \n",
    "    return neww\n",
    "\n",
    "# Get derivatives of Cost function for each element of the dataset\n",
    "def get_derivatives(x_y, w): \n",
    "    x = np.array(x_y[0], dtype=float)\n",
    "    y= x_y[1]\n",
    "    diff_y = get_y_hat(x,w) - y\n",
    "    # Vectorized version\n",
    "    # res = list(x*diff_y)+ [w[-1]]\n",
    "    res=[]\n",
    "    # dw\n",
    "    for x_i in x:\n",
    "        res.append(x_i*diff_y)\n",
    "    # db\n",
    "    res.append(diff_y)\n",
    "    return res\n",
    "    "
   ]
  },
  {
   "cell_type": "code",
   "execution_count": 8,
   "metadata": {
    "ExecuteTime": {
     "end_time": "2024-02-14T10:30:21.439658Z",
     "start_time": "2024-02-14T10:30:21.434734Z"
    }
   },
   "outputs": [],
   "source": [
    "# Cost function   \n",
    "def fcost(y, y_hat):\n",
    "    #print (\"cost:\",y,y_hat)\n",
    "    # compute loss/cost for one element \"y_hat\" and one label \"y\" \n",
    "    epsilon=0.00000001\n",
    "    if y == 1:\n",
    "        return -np.log(y_hat if y_hat > 0. else epsilon)\n",
    "    else:\n",
    "        return -np.log (1-y_hat if 1-y_hat >0. else epsilon)\n",
    "                 "
   ]
  },
  {
   "cell_type": "code",
   "execution_count": 10,
   "metadata": {
    "ExecuteTime": {
     "end_time": "2024-02-14T10:30:21.490059Z",
     "start_time": "2024-02-14T10:30:21.457624Z"
    }
   },
   "outputs": [],
   "source": [
    "def train(X_y, iterations, learning_rate, print_it=True):\n",
    "    X_y.cache()\n",
    "    m = X_y.count()\n",
    "\n",
    "    num_columns = len(X_y.take(1)[0][0])\n",
    "\n",
    "    w = np.array([random.uniform(0.0, 1.0) for _ in range(num_columns + 1)])\n",
    "\n",
    "    for iterac in range(iterations):\n",
    "        y_hat_rdd = X_y.map(lambda x: (x[1],np.array(get_y_hat(x[0], w))))\n",
    "        cost = y_hat_rdd.map(lambda x: np.array(fcost(x[0], x[1]))).reduce(lambda x, y: np.add(x, y)) / m \n",
    "        \n",
    "        if print_it:\n",
    "            print(\"iteration\", iterac, \"Cost:\", cost)\n",
    "\n",
    "        dw_tot_rdd = X_y.map(lambda x: np.array(get_derivatives(x, w))).reduce(lambda x, y: np.add(x, y))\n",
    "        dw_tot_rdd /= m\n",
    "        w = update_ws(w, dw_tot_rdd, learning_rate)\n",
    "        \n",
    "    return w"
   ]
  },
  {
   "cell_type": "markdown",
   "metadata": {},
   "source": [
    "# Prueba"
   ]
  },
  {
   "cell_type": "code",
   "execution_count": 11,
   "metadata": {
    "ExecuteTime": {
     "end_time": "2024-02-14T10:30:21.521750Z",
     "start_time": "2024-02-14T10:30:21.496177Z"
    }
   },
   "outputs": [],
   "source": [
    "def test(path, nIter=10, learningRate=1.5, print_it=True):\n",
    "    # read text_file in dataPath\n",
    "    X_y = readFile(path)\n",
    "\n",
    "    #Normalize\n",
    "    X_y = normalize(X_y)\n",
    "\n",
    "    #Train \n",
    "    t1 = time.time()\n",
    "    ws = train(X_y, nIter, learningRate, print_it)\n",
    "    t2 = time.time()\n",
    "    total_time = t2-t1\n",
    "    print (f\"Time for {nIter} iterations: {total_time}\")\n",
    "\n",
    "    #Calculate accuracy\n",
    "    acc = accuracy(X_y, ws)\n",
    "\n",
    "    #Results\n",
    "    print (\"Final weights of the model:\")\n",
    "    print (ws)\n",
    "    print (\" \")\n",
    "    print (\"Accuracy of the model:\",acc,\"%\")\n",
    "    print (\" \")\n",
    "    \n",
    "    return total_time, acc, ws\n"
   ]
  },
  {
   "cell_type": "code",
   "execution_count": 12,
   "metadata": {
    "ExecuteTime": {
     "end_time": "2024-02-14T10:30:59.906825Z",
     "start_time": "2024-02-14T10:30:21.523231Z"
    },
    "scrolled": false
   },
   "outputs": [
    {
     "name": "stderr",
     "output_type": "stream",
     "text": [
      "                                                                                \r"
     ]
    },
    {
     "name": "stdout",
     "output_type": "stream",
     "text": [
      "Means: [1.27838919e+03 2.13364895e+04 6.93013712e+03 6.25819129e+04\n",
      " 1.22276971e+08 1.57460545e+07 9.11132215e+00 1.89416481e+00\n",
      " 1.24196646e+02 2.12980313e+09 2.25738831e+09]\n",
      "\n",
      "Std: [1.60563017e+03 2.41267530e+04 1.63668384e+04 1.34535232e+05\n",
      " 2.34005376e+08 4.41865109e+07 5.28106132e+00 2.10223611e+00\n",
      " 9.03451248e+01 7.14764695e+08 1.30262025e+09]\n",
      "\n"
     ]
    },
    {
     "name": "stderr",
     "output_type": "stream",
     "text": [
      "                                                                                \r"
     ]
    },
    {
     "name": "stdout",
     "output_type": "stream",
     "text": [
      "iteration 0 Cost: 1.156105927631514\n"
     ]
    },
    {
     "name": "stderr",
     "output_type": "stream",
     "text": [
      "                                                                                \r"
     ]
    },
    {
     "name": "stdout",
     "output_type": "stream",
     "text": [
      "iteration 1 Cost: 0.6285605005902262\n"
     ]
    },
    {
     "name": "stderr",
     "output_type": "stream",
     "text": [
      "                                                                                \r"
     ]
    },
    {
     "name": "stdout",
     "output_type": "stream",
     "text": [
      "iteration 2 Cost: 0.43017484528659405\n"
     ]
    },
    {
     "name": "stderr",
     "output_type": "stream",
     "text": [
      "                                                                                \r"
     ]
    },
    {
     "name": "stdout",
     "output_type": "stream",
     "text": [
      "iteration 3 Cost: 0.34135170363781303\n"
     ]
    },
    {
     "name": "stderr",
     "output_type": "stream",
     "text": [
      "                                                                                \r"
     ]
    },
    {
     "name": "stdout",
     "output_type": "stream",
     "text": [
      "iteration 4 Cost: 0.29415793368204046\n"
     ]
    },
    {
     "name": "stderr",
     "output_type": "stream",
     "text": [
      "                                                                                \r"
     ]
    },
    {
     "name": "stdout",
     "output_type": "stream",
     "text": [
      "iteration 5 Cost: 0.26573165113716635\n"
     ]
    },
    {
     "name": "stderr",
     "output_type": "stream",
     "text": [
      "                                                                                \r"
     ]
    },
    {
     "name": "stdout",
     "output_type": "stream",
     "text": [
      "iteration 6 Cost: 0.2469843090229216\n"
     ]
    },
    {
     "name": "stderr",
     "output_type": "stream",
     "text": [
      "                                                                                \r"
     ]
    },
    {
     "name": "stdout",
     "output_type": "stream",
     "text": [
      "iteration 7 Cost: 0.2337743269505722\n"
     ]
    },
    {
     "name": "stderr",
     "output_type": "stream",
     "text": [
      "                                                                                \r"
     ]
    },
    {
     "name": "stdout",
     "output_type": "stream",
     "text": [
      "iteration 8 Cost: 0.2239909718012968\n"
     ]
    },
    {
     "name": "stderr",
     "output_type": "stream",
     "text": [
      "                                                                                \r"
     ]
    },
    {
     "name": "stdout",
     "output_type": "stream",
     "text": [
      "iteration 9 Cost: 0.21646010231219437\n"
     ]
    },
    {
     "name": "stderr",
     "output_type": "stream",
     "text": [
      "                                                                                \r"
     ]
    },
    {
     "name": "stdout",
     "output_type": "stream",
     "text": [
      "Time for 10 iterations: 30.523605585098267\n",
      "Final weights of the model:\n",
      "[-0.1077637  -0.84556401 -0.2661086  -0.1212596  -1.11711675  1.06367437\n",
      "  0.2854274  -1.12664277  0.51351038  0.85553739  0.63222506  0.01207286]\n",
      " \n",
      "Accuracy of the model: 92.78275 %\n",
      " \n"
     ]
    }
   ],
   "source": [
    "#EXERCISE 2: PARALELIZE\n",
    "\n",
    "#Execution parameters\n",
    "path = \"./botnet_reduced_l.csv\"\n",
    "\n",
    "_, _, _ = test(path)"
   ]
  },
  {
   "cell_type": "markdown",
   "metadata": {},
   "source": [
    "# Gráficas"
   ]
  },
  {
   "cell_type": "code",
   "execution_count": 15,
   "metadata": {
    "ExecuteTime": {
     "end_time": "2024-02-14T10:44:44.871890Z",
     "start_time": "2024-02-14T10:39:08.978936Z"
    }
   },
   "outputs": [
    {
     "name": "stdout",
     "output_type": "stream",
     "text": [
      "Test with 1 core/s\n"
     ]
    },
    {
     "name": "stderr",
     "output_type": "stream",
     "text": [
      "                                                                                \r"
     ]
    },
    {
     "name": "stdout",
     "output_type": "stream",
     "text": [
      "Means: [1.27838919e+03 2.13364895e+04 6.93013712e+03 6.25819129e+04\n",
      " 1.22276971e+08 1.57460545e+07 9.11132215e+00 1.89416481e+00\n",
      " 1.24196646e+02 2.12980313e+09 2.25738831e+09]\n",
      "\n",
      "Std: [1.60563017e+03 2.41267530e+04 1.63668384e+04 1.34535232e+05\n",
      " 2.34005376e+08 4.41865109e+07 5.28106132e+00 2.10223611e+00\n",
      " 9.03451248e+01 7.14764695e+08 1.30262025e+09]\n",
      "\n"
     ]
    },
    {
     "name": "stderr",
     "output_type": "stream",
     "text": [
      "                                                                                \r"
     ]
    },
    {
     "name": "stdout",
     "output_type": "stream",
     "text": [
      "24/02/14 11:39:26 WARN BlockManager: Task 28 already completed, not releasing lock for rdd_7_0\n"
     ]
    },
    {
     "name": "stderr",
     "output_type": "stream",
     "text": [
      "                                                                                \r"
     ]
    },
    {
     "name": "stdout",
     "output_type": "stream",
     "text": [
      "Time for 10 iterations: 58.91349172592163\n"
     ]
    },
    {
     "name": "stderr",
     "output_type": "stream",
     "text": [
      "                                                                                \r"
     ]
    },
    {
     "name": "stdout",
     "output_type": "stream",
     "text": [
      "Final weights of the model:\n",
      "[-0.20222038 -0.86638995 -0.20732091 -0.04901283 -1.12232656  1.04188696\n",
      "  0.27737007 -1.0838226   0.45882172  0.77544348  0.59216543 -0.03173529]\n",
      " \n",
      "Accuracy of the model: 92.99175 %\n",
      " \n",
      "Test with 2 core/s\n"
     ]
    },
    {
     "name": "stderr",
     "output_type": "stream",
     "text": [
      "                                                                                \r"
     ]
    },
    {
     "name": "stdout",
     "output_type": "stream",
     "text": [
      "Means: [1.27838919e+03 2.13364895e+04 6.93013712e+03 6.25819129e+04\n",
      " 1.22276971e+08 1.57460545e+07 9.11132215e+00 1.89416481e+00\n",
      " 1.24196646e+02 2.12980313e+09 2.25738831e+09]\n",
      "\n",
      "Std: [1.60563017e+03 2.41267530e+04 1.63668384e+04 1.34535232e+05\n",
      " 2.34005376e+08 4.41865109e+07 5.28106132e+00 2.10223611e+00\n",
      " 9.03451248e+01 7.14764695e+08 1.30262025e+09]\n",
      "\n"
     ]
    },
    {
     "name": "stderr",
     "output_type": "stream",
     "text": [
      "                                                                                \r"
     ]
    },
    {
     "name": "stdout",
     "output_type": "stream",
     "text": [
      "24/02/14 11:40:33 WARN BlockManager: Task 28 already completed, not releasing lock for rdd_7_0\n"
     ]
    },
    {
     "name": "stderr",
     "output_type": "stream",
     "text": [
      "                                                                                \r"
     ]
    },
    {
     "name": "stdout",
     "output_type": "stream",
     "text": [
      "Time for 10 iterations: 38.24646735191345\n"
     ]
    },
    {
     "name": "stderr",
     "output_type": "stream",
     "text": [
      "                                                                                \r"
     ]
    },
    {
     "name": "stdout",
     "output_type": "stream",
     "text": [
      "Final weights of the model:\n",
      "[-0.17686213 -0.85632383 -0.27779334 -0.07149013 -1.21020082  0.95527576\n",
      "  0.27203421 -1.00341644  0.46090822  0.84569276  0.69443875 -0.06302525]\n",
      " \n",
      "Accuracy of the model: 92.9385 %\n",
      " \n",
      "Test with 3 core/s\n"
     ]
    },
    {
     "name": "stderr",
     "output_type": "stream",
     "text": [
      "                                                                                \r"
     ]
    },
    {
     "name": "stdout",
     "output_type": "stream",
     "text": [
      "Means: [1.27838919e+03 2.13364895e+04 6.93013712e+03 6.25819129e+04\n",
      " 1.22276971e+08 1.57460545e+07 9.11132215e+00 1.89416481e+00\n",
      " 1.24196646e+02 2.12980313e+09 2.25738831e+09]\n",
      "\n",
      "Std: [1.60563017e+03 2.41267530e+04 1.63668384e+04 1.34535232e+05\n",
      " 2.34005376e+08 4.41865109e+07 5.28106132e+00 2.10223611e+00\n",
      " 9.03451248e+01 7.14764695e+08 1.30262025e+09]\n",
      "\n"
     ]
    },
    {
     "name": "stderr",
     "output_type": "stream",
     "text": [
      "                                                                                \r"
     ]
    },
    {
     "name": "stdout",
     "output_type": "stream",
     "text": [
      "24/02/14 11:41:18 WARN BlockManager: Task 28 already completed, not releasing lock for rdd_7_0\n"
     ]
    },
    {
     "name": "stderr",
     "output_type": "stream",
     "text": [
      "                                                                                \r"
     ]
    },
    {
     "name": "stdout",
     "output_type": "stream",
     "text": [
      "Time for 10 iterations: 29.63429594039917\n",
      "Final weights of the model:\n",
      "[-0.08470826 -0.77496027 -0.14142722 -0.07748929 -1.11525679  0.89140792\n",
      "  0.17449315 -1.18548375  0.47261421  0.82335764  0.71248961 -0.10988047]\n",
      " \n",
      "Accuracy of the model: 92.52375 %\n",
      " \n",
      "Test with 4 core/s\n"
     ]
    },
    {
     "name": "stderr",
     "output_type": "stream",
     "text": [
      "                                                                                \r"
     ]
    },
    {
     "name": "stdout",
     "output_type": "stream",
     "text": [
      "Means: [1.27838919e+03 2.13364895e+04 6.93013712e+03 6.25819129e+04\n",
      " 1.22276971e+08 1.57460545e+07 9.11132215e+00 1.89416481e+00\n",
      " 1.24196646e+02 2.12980313e+09 2.25738831e+09]\n",
      "\n",
      "Std: [1.60563017e+03 2.41267530e+04 1.63668384e+04 1.34535232e+05\n",
      " 2.34005376e+08 4.41865109e+07 5.28106132e+00 2.10223611e+00\n",
      " 9.03451248e+01 7.14764695e+08 1.30262025e+09]\n",
      "\n"
     ]
    },
    {
     "name": "stderr",
     "output_type": "stream",
     "text": [
      "                                                                                \r"
     ]
    },
    {
     "name": "stdout",
     "output_type": "stream",
     "text": [
      "24/02/14 11:41:53 WARN BlockManager: Task 28 already completed, not releasing lock for rdd_7_0\n"
     ]
    },
    {
     "name": "stderr",
     "output_type": "stream",
     "text": [
      "                                                                                \r"
     ]
    },
    {
     "name": "stdout",
     "output_type": "stream",
     "text": [
      "Time for 10 iterations: 29.61256766319275\n"
     ]
    },
    {
     "name": "stderr",
     "output_type": "stream",
     "text": [
      "\r\n",
      "[Stage 28:==============>                                           (1 + 3) / 4]\r\n",
      "\r\n",
      "                                                                                \r"
     ]
    },
    {
     "name": "stdout",
     "output_type": "stream",
     "text": [
      "Final weights of the model:\n",
      "[-2.26499761e-01 -8.15884657e-01 -2.95799984e-01 -1.17230352e-01\n",
      " -1.10872989e+00  9.97618489e-01  2.89767809e-01 -1.13700728e+00\n",
      "  5.62289993e-01  7.69512077e-01  5.54142287e-01  1.11661366e-03]\n",
      " \n",
      "Accuracy of the model: 92.97775 %\n",
      " \n",
      "Test with 5 core/s\n"
     ]
    },
    {
     "name": "stderr",
     "output_type": "stream",
     "text": [
      "                                                                                \r"
     ]
    },
    {
     "name": "stdout",
     "output_type": "stream",
     "text": [
      "Means: [1.27838919e+03 2.13364895e+04 6.93013712e+03 6.25819129e+04\n",
      " 1.22276971e+08 1.57460545e+07 9.11132215e+00 1.89416481e+00\n",
      " 1.24196646e+02 2.12980313e+09 2.25738831e+09]\n",
      "\n",
      "Std: [1.60563017e+03 2.41267530e+04 1.63668384e+04 1.34535232e+05\n",
      " 2.34005376e+08 4.41865109e+07 5.28106132e+00 2.10223611e+00\n",
      " 9.03451248e+01 7.14764695e+08 1.30262025e+09]\n",
      "\n"
     ]
    },
    {
     "name": "stderr",
     "output_type": "stream",
     "text": [
      "                                                                                \r"
     ]
    },
    {
     "name": "stdout",
     "output_type": "stream",
     "text": [
      "24/02/14 11:42:30 WARN BlockManager: Task 28 already completed, not releasing lock for rdd_7_0\n"
     ]
    },
    {
     "name": "stderr",
     "output_type": "stream",
     "text": [
      "                                                                                \r"
     ]
    },
    {
     "name": "stdout",
     "output_type": "stream",
     "text": [
      "Time for 10 iterations: 29.00874972343445\n",
      "Final weights of the model:\n",
      "[-0.11315799 -0.84860283 -0.3229163  -0.17776095 -1.09276199  0.86103266\n",
      "  0.26783428 -1.15942433  0.50857238  0.82538149  0.64521321 -0.10410272]\n",
      " \n",
      "Accuracy of the model: 92.70625 %\n",
      " \n",
      "Test with 6 core/s\n"
     ]
    },
    {
     "name": "stderr",
     "output_type": "stream",
     "text": [
      "                                                                                \r"
     ]
    },
    {
     "name": "stdout",
     "output_type": "stream",
     "text": [
      "Means: [1.27838919e+03 2.13364895e+04 6.93013712e+03 6.25819129e+04\n",
      " 1.22276971e+08 1.57460545e+07 9.11132215e+00 1.89416481e+00\n",
      " 1.24196646e+02 2.12980313e+09 2.25738831e+09]\n",
      "\n",
      "Std: [1.60563017e+03 2.41267530e+04 1.63668384e+04 1.34535232e+05\n",
      " 2.34005376e+08 4.41865109e+07 5.28106132e+00 2.10223611e+00\n",
      " 9.03451248e+01 7.14764695e+08 1.30262025e+09]\n",
      "\n"
     ]
    },
    {
     "name": "stderr",
     "output_type": "stream",
     "text": [
      "                                                                                \r"
     ]
    },
    {
     "name": "stdout",
     "output_type": "stream",
     "text": [
      "24/02/14 11:43:05 WARN BlockManager: Task 28 already completed, not releasing lock for rdd_7_0\n"
     ]
    },
    {
     "name": "stderr",
     "output_type": "stream",
     "text": [
      "                                                                                \r"
     ]
    },
    {
     "name": "stdout",
     "output_type": "stream",
     "text": [
      "Time for 10 iterations: 29.069255590438843\n",
      "Final weights of the model:\n",
      "[-0.19242563 -0.91619433 -0.13665155 -0.06740353 -1.10182159  1.02149144\n",
      "  0.31414679 -1.19295433  0.61216758  0.97920385  0.44630581 -0.06384441]\n",
      " \n",
      "Accuracy of the model: 92.826 %\n",
      " \n",
      "Test with 7 core/s\n"
     ]
    },
    {
     "name": "stderr",
     "output_type": "stream",
     "text": [
      "                                                                                \r"
     ]
    },
    {
     "name": "stdout",
     "output_type": "stream",
     "text": [
      "Means: [1.27838919e+03 2.13364895e+04 6.93013712e+03 6.25819129e+04\n",
      " 1.22276971e+08 1.57460545e+07 9.11132215e+00 1.89416481e+00\n",
      " 1.24196646e+02 2.12980313e+09 2.25738831e+09]\n",
      "\n",
      "Std: [1.60563017e+03 2.41267530e+04 1.63668384e+04 1.34535232e+05\n",
      " 2.34005376e+08 4.41865109e+07 5.28106132e+00 2.10223611e+00\n",
      " 9.03451248e+01 7.14764695e+08 1.30262025e+09]\n",
      "\n"
     ]
    },
    {
     "name": "stderr",
     "output_type": "stream",
     "text": [
      "                                                                                \r"
     ]
    },
    {
     "name": "stdout",
     "output_type": "stream",
     "text": [
      "Time for 10 iterations: 29.495990991592407\n",
      "Final weights of the model:\n",
      "[-0.18203608 -0.74598317 -0.25623703 -0.2037642  -1.04732411  1.09019876\n",
      "  0.14239773 -1.0522196   0.41948794  0.8806817   0.68096807 -0.03905702]\n",
      " \n",
      "Accuracy of the model: 92.5595 %\n",
      " \n",
      "Test with 8 core/s\n"
     ]
    },
    {
     "name": "stderr",
     "output_type": "stream",
     "text": [
      "                                                                                \r"
     ]
    },
    {
     "name": "stdout",
     "output_type": "stream",
     "text": [
      "Means: [1.27838919e+03 2.13364895e+04 6.93013712e+03 6.25819129e+04\n",
      " 1.22276971e+08 1.57460545e+07 9.11132215e+00 1.89416481e+00\n",
      " 1.24196646e+02 2.12980313e+09 2.25738831e+09]\n",
      "\n",
      "Std: [1.60563017e+03 2.41267530e+04 1.63668384e+04 1.34535232e+05\n",
      " 2.34005376e+08 4.41865109e+07 5.28106132e+00 2.10223611e+00\n",
      " 9.03451248e+01 7.14764695e+08 1.30262025e+09]\n",
      "\n"
     ]
    },
    {
     "name": "stderr",
     "output_type": "stream",
     "text": [
      "                                                                                \r"
     ]
    },
    {
     "name": "stdout",
     "output_type": "stream",
     "text": [
      "24/02/14 11:44:16 WARN BlockManager: Task 28 already completed, not releasing lock for rdd_7_0\n"
     ]
    },
    {
     "name": "stderr",
     "output_type": "stream",
     "text": [
      "                                                                                \r"
     ]
    },
    {
     "name": "stdout",
     "output_type": "stream",
     "text": [
      "Time for 10 iterations: 29.675971508026123\n",
      "Final weights of the model:\n",
      "[-0.08287983 -0.90451181 -0.28065436 -0.06376908 -1.0877228   1.28705809\n",
      "  0.30642776 -1.10763898  0.43863816  0.69785368  0.65088679  0.10358629]\n",
      " \n",
      "Accuracy of the model: 92.741 %\n",
      " \n"
     ]
    }
   ],
   "source": [
    "num_workers = list(range(1, 9))\n",
    "tiempos_ejecucion = []\n",
    "\n",
    "for i in num_workers:\n",
    "    print(f\"Test with {i} core/s\")\n",
    "    sc.stop()\n",
    "    sc = SparkContext(f\"local[{i}]\", \"Paralelize\")\n",
    "    total_time, _, _ = test(path, print_it=False)\n",
    "    tiempos_ejecucion.append(total_time)"
   ]
  },
  {
   "cell_type": "code",
   "execution_count": 16,
   "metadata": {
    "ExecuteTime": {
     "end_time": "2024-02-14T10:44:45.065053Z",
     "start_time": "2024-02-14T10:44:44.874155Z"
    }
   },
   "outputs": [
    {
     "data": {
      "image/png": "[encoded data removed]",
      "text/plain": [
       "<Figure size 640x480 with 1 Axes>"
      ]
     },
     "metadata": {},
     "output_type": "display_data"
    }
   ],
   "source": [
    "plt.plot(num_workers, tiempos_ejecucion, marker='o')\n",
    "plt.title('Curva de rendimiento')\n",
    "plt.xlabel('Número de trabajadores')\n",
    "plt.ylabel('Tiempo de ejecución (segundos)')\n",
    "plt.grid(True)\n",
    "plt.show()"
   ]
  },
  {
   "cell_type": "code",
   "execution_count": 17,
   "metadata": {
    "ExecuteTime": {
     "end_time": "2024-02-14T11:31:36.989403Z",
     "start_time": "2024-02-14T10:44:45.066354Z"
    }
   },
   "outputs": [
    {
     "name": "stdout",
     "output_type": "stream",
     "text": [
      "Test with 1 core/s\n"
     ]
    },
    {
     "name": "stderr",
     "output_type": "stream",
     "text": [
      "                                                                                \r"
     ]
    },
    {
     "name": "stdout",
     "output_type": "stream",
     "text": [
      "Means: [1.27838919e+03 2.13364895e+04 6.93013712e+03 6.25819129e+04\n",
      " 1.22276971e+08 1.57460545e+07 9.11132215e+00 1.89416481e+00\n",
      " 1.24196646e+02 2.12980313e+09 2.25738831e+09]\n",
      "\n",
      "Std: [1.60563017e+03 2.41267530e+04 1.63668384e+04 1.34535232e+05\n",
      " 2.34005376e+08 4.41865109e+07 5.28106132e+00 2.10223611e+00\n",
      " 9.03451248e+01 7.14764695e+08 1.30262025e+09]\n",
      "\n",
      "Block 0\n"
     ]
    },
    {
     "name": "stderr",
     "output_type": "stream",
     "text": [
      "                                                                                \r"
     ]
    },
    {
     "name": "stdout",
     "output_type": "stream",
     "text": [
      "24/02/14 11:45:02 WARN BlockManager: Task 28 already completed, not releasing lock for rdd_7_0\n"
     ]
    },
    {
     "name": "stderr",
     "output_type": "stream",
     "text": [
      "                                                                                \r"
     ]
    },
    {
     "name": "stdout",
     "output_type": "stream",
     "text": [
      "Accuracy of the model: 92.70885442721361 %\n",
      "Time for block 0: 55.8130989074707\n",
      "Block 1\n"
     ]
    },
    {
     "name": "stderr",
     "output_type": "stream",
     "text": [
      "                                                                                \r"
     ]
    },
    {
     "name": "stdout",
     "output_type": "stream",
     "text": [
      "24/02/14 11:46:04 WARN BlockManager: Task 125 already completed, not releasing lock for rdd_63_0\n"
     ]
    },
    {
     "name": "stderr",
     "output_type": "stream",
     "text": [
      "                                                                                \r"
     ]
    },
    {
     "name": "stdout",
     "output_type": "stream",
     "text": [
      "Accuracy of the model: 93.4349883572448 %\n",
      "Time for block 1: 55.15031385421753\n",
      "Block 2\n"
     ]
    },
    {
     "name": "stderr",
     "output_type": "stream",
     "text": [
      "                                                                                \r"
     ]
    },
    {
     "name": "stdout",
     "output_type": "stream",
     "text": [
      "24/02/14 11:47:06 WARN BlockManager: Task 222 already completed, not releasing lock for rdd_119_0\n"
     ]
    },
    {
     "name": "stderr",
     "output_type": "stream",
     "text": [
      "                                                                                \r"
     ]
    },
    {
     "name": "stdout",
     "output_type": "stream",
     "text": [
      "Accuracy of the model: 92.52141007767376 %\n",
      "Time for block 2: 54.29808044433594\n",
      "Block 3\n"
     ]
    },
    {
     "name": "stderr",
     "output_type": "stream",
     "text": [
      "                                                                                \r"
     ]
    },
    {
     "name": "stdout",
     "output_type": "stream",
     "text": [
      "24/02/14 11:48:07 WARN BlockManager: Task 319 already completed, not releasing lock for rdd_175_0\n"
     ]
    },
    {
     "name": "stderr",
     "output_type": "stream",
     "text": [
      "                                                                                \r"
     ]
    },
    {
     "name": "stdout",
     "output_type": "stream",
     "text": [
      "Accuracy of the model: 93.5630689206762 %\n",
      "Time for block 3: 56.044060468673706\n",
      "Block 4\n"
     ]
    },
    {
     "name": "stderr",
     "output_type": "stream",
     "text": [
      "                                                                                \r"
     ]
    },
    {
     "name": "stdout",
     "output_type": "stream",
     "text": [
      "24/02/14 11:49:10 WARN BlockManager: Task 416 already completed, not releasing lock for rdd_231_0\n"
     ]
    },
    {
     "name": "stderr",
     "output_type": "stream",
     "text": [
      "                                                                                \r"
     ]
    },
    {
     "name": "stdout",
     "output_type": "stream",
     "text": [
      "Accuracy of the model: 93.33916083916084 %\n",
      "Time for block 4: 54.10608720779419\n",
      "Block 5\n"
     ]
    },
    {
     "name": "stderr",
     "output_type": "stream",
     "text": [
      "                                                                                \r"
     ]
    },
    {
     "name": "stdout",
     "output_type": "stream",
     "text": [
      "24/02/14 11:50:10 WARN BlockManager: Task 513 already completed, not releasing lock for rdd_287_0\n"
     ]
    },
    {
     "name": "stderr",
     "output_type": "stream",
     "text": [
      "                                                                                \r"
     ]
    },
    {
     "name": "stdout",
     "output_type": "stream",
     "text": [
      "Accuracy of the model: 93.38310569552299 %\n",
      "Time for block 5: 54.09816813468933\n",
      "Block 6\n"
     ]
    },
    {
     "name": "stderr",
     "output_type": "stream",
     "text": [
      "                                                                                \r"
     ]
    },
    {
     "name": "stdout",
     "output_type": "stream",
     "text": [
      "24/02/14 11:51:11 WARN BlockManager: Task 610 already completed, not releasing lock for rdd_343_0\n"
     ]
    },
    {
     "name": "stderr",
     "output_type": "stream",
     "text": [
      "                                                                                \r"
     ]
    },
    {
     "name": "stdout",
     "output_type": "stream",
     "text": [
      "Accuracy of the model: 92.53843269591302 %\n",
      "Time for block 6: 53.89701247215271\n",
      "Block 7\n"
     ]
    },
    {
     "name": "stderr",
     "output_type": "stream",
     "text": [
      "                                                                                \r"
     ]
    },
    {
     "name": "stdout",
     "output_type": "stream",
     "text": [
      "24/02/14 11:52:11 WARN BlockManager: Task 707 already completed, not releasing lock for rdd_399_0\n"
     ]
    },
    {
     "name": "stderr",
     "output_type": "stream",
     "text": [
      "                                                                                \r"
     ]
    },
    {
     "name": "stdout",
     "output_type": "stream",
     "text": [
      "Accuracy of the model: 93.47858790492428 %\n",
      "Time for block 7: 53.86877512931824\n",
      "Block 8\n"
     ]
    },
    {
     "name": "stderr",
     "output_type": "stream",
     "text": [
      "                                                                                \r"
     ]
    },
    {
     "name": "stdout",
     "output_type": "stream",
     "text": [
      "Accuracy of the model: 93.47545219638243 %\n",
      "Time for block 8: 53.40325665473938\n",
      "Block 9\n"
     ]
    },
    {
     "name": "stderr",
     "output_type": "stream",
     "text": [
      "                                                                                \r"
     ]
    },
    {
     "name": "stdout",
     "output_type": "stream",
     "text": [
      "24/02/14 11:54:12 WARN BlockManager: Task 901 already completed, not releasing lock for rdd_511_0\n"
     ]
    },
    {
     "name": "stderr",
     "output_type": "stream",
     "text": [
      "                                                                                \r"
     ]
    },
    {
     "name": "stdout",
     "output_type": "stream",
     "text": [
      "Accuracy of the model: 93.02774366557229 %\n",
      "Time for block 9: 54.220778942108154\n",
      "Average accuracy: 93.14708047802841 %\n",
      "Average time: 544.8996322154999 s\n",
      "Test with 2 core/s\n"
     ]
    },
    {
     "name": "stderr",
     "output_type": "stream",
     "text": [
      "                                                                                \r"
     ]
    },
    {
     "name": "stdout",
     "output_type": "stream",
     "text": [
      "Means: [1.27838919e+03 2.13364895e+04 6.93013712e+03 6.25819129e+04\n",
      " 1.22276971e+08 1.57460545e+07 9.11132215e+00 1.89416481e+00\n",
      " 1.24196646e+02 2.12980313e+09 2.25738831e+09]\n",
      "\n",
      "Std: [1.60563017e+03 2.41267530e+04 1.63668384e+04 1.34535232e+05\n",
      " 2.34005376e+08 4.41865109e+07 5.28106132e+00 2.10223611e+00\n",
      " 9.03451248e+01 7.14764695e+08 1.30262025e+09]\n",
      "\n",
      "Block 0\n"
     ]
    },
    {
     "name": "stderr",
     "output_type": "stream",
     "text": [
      "                                                                                \r"
     ]
    },
    {
     "name": "stdout",
     "output_type": "stream",
     "text": [
      "24/02/14 11:55:19 WARN BlockManager: Task 28 already completed, not releasing lock for rdd_7_0\n"
     ]
    },
    {
     "name": "stderr",
     "output_type": "stream",
     "text": [
      "                                                                                \r"
     ]
    },
    {
     "name": "stdout",
     "output_type": "stream",
     "text": [
      "Accuracy of the model: 92.47671602287198 %\n",
      "Time for block 0: 36.03334665298462\n",
      "Block 1\n"
     ]
    },
    {
     "name": "stderr",
     "output_type": "stream",
     "text": [
      "                                                                                \r"
     ]
    },
    {
     "name": "stdout",
     "output_type": "stream",
     "text": [
      "24/02/14 11:55:59 WARN BlockManager: Task 125 already completed, not releasing lock for rdd_63_0\n"
     ]
    },
    {
     "name": "stderr",
     "output_type": "stream",
     "text": [
      "                                                                                \r"
     ]
    },
    {
     "name": "stdout",
     "output_type": "stream",
     "text": [
      "Accuracy of the model: 92.21664097080618 %\n",
      "Time for block 1: 37.13807225227356\n",
      "Block 2\n"
     ]
    },
    {
     "name": "stderr",
     "output_type": "stream",
     "text": [
      "                                                                                \r"
     ]
    },
    {
     "name": "stdout",
     "output_type": "stream",
     "text": [
      "24/02/14 11:56:40 WARN BlockManager: Task 222 already completed, not releasing lock for rdd_119_0\n"
     ]
    },
    {
     "name": "stderr",
     "output_type": "stream",
     "text": [
      "                                                                                \r"
     ]
    },
    {
     "name": "stdout",
     "output_type": "stream",
     "text": [
      "Accuracy of the model: 93.51228184390415 %\n",
      "Time for block 2: 36.51334547996521\n",
      "Block 3\n"
     ]
    },
    {
     "name": "stderr",
     "output_type": "stream",
     "text": [
      "                                                                                \r"
     ]
    },
    {
     "name": "stdout",
     "output_type": "stream",
     "text": [
      "24/02/14 11:57:21 WARN BlockManager: Task 319 already completed, not releasing lock for rdd_175_0\n"
     ]
    },
    {
     "name": "stderr",
     "output_type": "stream",
     "text": [
      "                                                                                \r"
     ]
    },
    {
     "name": "stdout",
     "output_type": "stream",
     "text": [
      "Accuracy of the model: 91.17443527260146 %\n",
      "Time for block 3: 37.66462421417236\n",
      "Block 4\n"
     ]
    },
    {
     "name": "stderr",
     "output_type": "stream",
     "text": [
      "                                                                                \r"
     ]
    },
    {
     "name": "stdout",
     "output_type": "stream",
     "text": [
      "24/02/14 11:58:03 WARN BlockManager: Task 416 already completed, not releasing lock for rdd_231_0\n"
     ]
    },
    {
     "name": "stderr",
     "output_type": "stream",
     "text": [
      "                                                                                \r"
     ]
    },
    {
     "name": "stdout",
     "output_type": "stream",
     "text": [
      "Accuracy of the model: 92.95848791737691 %\n",
      "Time for block 4: 38.22997164726257\n",
      "Block 5\n"
     ]
    },
    {
     "name": "stderr",
     "output_type": "stream",
     "text": [
      "                                                                                \r"
     ]
    },
    {
     "name": "stdout",
     "output_type": "stream",
     "text": [
      "24/02/14 11:58:46 WARN BlockManager: Task 513 already completed, not releasing lock for rdd_287_0\n"
     ]
    },
    {
     "name": "stderr",
     "output_type": "stream",
     "text": [
      "                                                                                \r"
     ]
    },
    {
     "name": "stdout",
     "output_type": "stream",
     "text": [
      "Accuracy of the model: 92.2312982595526 %\n",
      "Time for block 5: 36.898940086364746\n",
      "Block 6\n"
     ]
    },
    {
     "name": "stderr",
     "output_type": "stream",
     "text": [
      "                                                                                \r"
     ]
    },
    {
     "name": "stdout",
     "output_type": "stream",
     "text": [
      "24/02/14 11:59:27 WARN BlockManager: Task 610 already completed, not releasing lock for rdd_343_0\n"
     ]
    },
    {
     "name": "stderr",
     "output_type": "stream",
     "text": [
      "                                                                                \r"
     ]
    },
    {
     "name": "stdout",
     "output_type": "stream",
     "text": [
      "Accuracy of the model: 94.09300799878882 %\n",
      "Time for block 6: 37.13609266281128\n",
      "Block 7\n"
     ]
    },
    {
     "name": "stderr",
     "output_type": "stream",
     "text": [
      "                                                                                \r"
     ]
    },
    {
     "name": "stdout",
     "output_type": "stream",
     "text": [
      "24/02/14 12:00:08 WARN BlockManager: Task 707 already completed, not releasing lock for rdd_399_0\n"
     ]
    },
    {
     "name": "stderr",
     "output_type": "stream",
     "text": [
      "                                                                                \r"
     ]
    },
    {
     "name": "stdout",
     "output_type": "stream",
     "text": [
      "Accuracy of the model: 91.5485943375084 %\n",
      "Time for block 7: 35.43940782546997\n",
      "Block 8\n"
     ]
    },
    {
     "name": "stderr",
     "output_type": "stream",
     "text": [
      "                                                                                \r"
     ]
    },
    {
     "name": "stdout",
     "output_type": "stream",
     "text": [
      "24/02/14 12:00:47 WARN BlockManager: Task 804 already completed, not releasing lock for rdd_455_0\n"
     ]
    },
    {
     "name": "stderr",
     "output_type": "stream",
     "text": [
      "                                                                                \r"
     ]
    },
    {
     "name": "stdout",
     "output_type": "stream",
     "text": [
      "Accuracy of the model: 91.84862442424996 %\n",
      "Time for block 8: 36.56304121017456\n",
      "Block 9\n"
     ]
    },
    {
     "name": "stderr",
     "output_type": "stream",
     "text": [
      "                                                                                \r"
     ]
    },
    {
     "name": "stdout",
     "output_type": "stream",
     "text": [
      "24/02/14 12:01:28 WARN BlockManager: Task 901 already completed, not releasing lock for rdd_511_0\n"
     ]
    },
    {
     "name": "stderr",
     "output_type": "stream",
     "text": [
      "                                                                                \r"
     ]
    },
    {
     "name": "stdout",
     "output_type": "stream",
     "text": [
      "Accuracy of the model: 92.27139968546395 %\n",
      "Time for block 9: 36.77999234199524\n",
      "Average accuracy: 92.43314867331243 %\n",
      "Average time: 368.3968343734741 s\n",
      "Test with 3 core/s\n"
     ]
    },
    {
     "name": "stderr",
     "output_type": "stream",
     "text": [
      "                                                                                \r"
     ]
    },
    {
     "name": "stdout",
     "output_type": "stream",
     "text": [
      "Means: [1.27838919e+03 2.13364895e+04 6.93013712e+03 6.25819129e+04\n",
      " 1.22276971e+08 1.57460545e+07 9.11132215e+00 1.89416481e+00\n",
      " 1.24196646e+02 2.12980313e+09 2.25738831e+09]\n",
      "\n",
      "Std: [1.60563017e+03 2.41267530e+04 1.63668384e+04 1.34535232e+05\n",
      " 2.34005376e+08 4.41865109e+07 5.28106132e+00 2.10223611e+00\n",
      " 9.03451248e+01 7.14764695e+08 1.30262025e+09]\n",
      "\n",
      "Block 0\n"
     ]
    },
    {
     "name": "stderr",
     "output_type": "stream",
     "text": [
      "                                                                                \r"
     ]
    },
    {
     "name": "stdout",
     "output_type": "stream",
     "text": [
      "24/02/14 12:02:14 WARN BlockManager: Task 28 already completed, not releasing lock for rdd_7_0\n"
     ]
    },
    {
     "name": "stderr",
     "output_type": "stream",
     "text": [
      "                                                                                \r"
     ]
    },
    {
     "name": "stdout",
     "output_type": "stream",
     "text": [
      "Accuracy of the model: 93.4588329536636 %\n",
      "Time for block 0: 29.414979457855225\n",
      "Block 1\n"
     ]
    },
    {
     "name": "stderr",
     "output_type": "stream",
     "text": [
      "                                                                                \r"
     ]
    },
    {
     "name": "stdout",
     "output_type": "stream",
     "text": [
      "24/02/14 12:02:47 WARN BlockManager: Task 125 already completed, not releasing lock for rdd_63_0\n"
     ]
    },
    {
     "name": "stderr",
     "output_type": "stream",
     "text": [
      "                                                                                \r"
     ]
    },
    {
     "name": "stdout",
     "output_type": "stream",
     "text": [
      "Accuracy of the model: 92.55263355061062 %\n",
      "Time for block 1: 29.20289945602417\n",
      "Block 2\n"
     ]
    },
    {
     "name": "stderr",
     "output_type": "stream",
     "text": [
      "                                                                                \r"
     ]
    },
    {
     "name": "stdout",
     "output_type": "stream",
     "text": [
      "24/02/14 12:03:19 WARN BlockManager: Task 222 already completed, not releasing lock for rdd_119_0\n"
     ]
    },
    {
     "name": "stderr",
     "output_type": "stream",
     "text": [
      "                                                                                \r"
     ]
    },
    {
     "name": "stdout",
     "output_type": "stream",
     "text": [
      "Accuracy of the model: 92.48635931321019 %\n",
      "Time for block 2: 27.737815856933594\n",
      "Block 3\n"
     ]
    },
    {
     "name": "stderr",
     "output_type": "stream",
     "text": [
      "                                                                                \r"
     ]
    },
    {
     "name": "stdout",
     "output_type": "stream",
     "text": [
      "24/02/14 12:03:49 WARN BlockManager: Task 319 already completed, not releasing lock for rdd_175_0\n"
     ]
    },
    {
     "name": "stderr",
     "output_type": "stream",
     "text": [
      "                                                                                \r"
     ]
    },
    {
     "name": "stdout",
     "output_type": "stream",
     "text": [
      "Accuracy of the model: 92.51147475553782 %\n",
      "Time for block 3: 27.850160598754883\n",
      "Block 4\n"
     ]
    },
    {
     "name": "stderr",
     "output_type": "stream",
     "text": [
      "                                                                                \r"
     ]
    },
    {
     "name": "stdout",
     "output_type": "stream",
     "text": [
      "24/02/14 12:04:20 WARN BlockManager: Task 416 already completed, not releasing lock for rdd_231_0\n"
     ]
    },
    {
     "name": "stderr",
     "output_type": "stream",
     "text": [
      "                                                                                \r"
     ]
    },
    {
     "name": "stdout",
     "output_type": "stream",
     "text": [
      "Accuracy of the model: 93.9259925542813 %\n",
      "Time for block 4: 28.629513025283813\n",
      "Block 5\n"
     ]
    },
    {
     "name": "stderr",
     "output_type": "stream",
     "text": [
      "                                                                                \r"
     ]
    },
    {
     "name": "stdout",
     "output_type": "stream",
     "text": [
      "24/02/14 12:04:51 WARN BlockManager: Task 513 already completed, not releasing lock for rdd_287_0\n"
     ]
    },
    {
     "name": "stderr",
     "output_type": "stream",
     "text": [
      "                                                                                \r"
     ]
    },
    {
     "name": "stdout",
     "output_type": "stream",
     "text": [
      "Accuracy of the model: 92.69384692346173 %\n",
      "Time for block 5: 29.99960732460022\n",
      "Block 6\n"
     ]
    },
    {
     "name": "stderr",
     "output_type": "stream",
     "text": [
      "                                                                                \r"
     ]
    },
    {
     "name": "stdout",
     "output_type": "stream",
     "text": [
      "24/02/14 12:05:24 WARN BlockManager: Task 610 already completed, not releasing lock for rdd_343_0\n"
     ]
    },
    {
     "name": "stderr",
     "output_type": "stream",
     "text": [
      "                                                                                \r"
     ]
    },
    {
     "name": "stdout",
     "output_type": "stream",
     "text": [
      "Accuracy of the model: 92.93735962066384 %\n",
      "Time for block 6: 28.90679168701172\n",
      "Block 7\n"
     ]
    },
    {
     "name": "stderr",
     "output_type": "stream",
     "text": [
      "                                                                                \r"
     ]
    },
    {
     "name": "stdout",
     "output_type": "stream",
     "text": [
      "24/02/14 12:05:56 WARN BlockManager: Task 707 already completed, not releasing lock for rdd_399_0\n"
     ]
    },
    {
     "name": "stderr",
     "output_type": "stream",
     "text": [
      "                                                                                \r"
     ]
    },
    {
     "name": "stdout",
     "output_type": "stream",
     "text": [
      "Accuracy of the model: 93.83428228948156 %\n",
      "Time for block 7: 29.065760850906372\n",
      "Block 8\n"
     ]
    },
    {
     "name": "stderr",
     "output_type": "stream",
     "text": [
      "                                                                                \r"
     ]
    },
    {
     "name": "stdout",
     "output_type": "stream",
     "text": [
      "24/02/14 12:06:28 WARN BlockManager: Task 804 already completed, not releasing lock for rdd_455_0\n"
     ]
    },
    {
     "name": "stderr",
     "output_type": "stream",
     "text": [
      "                                                                                \r"
     ]
    },
    {
     "name": "stdout",
     "output_type": "stream",
     "text": [
      "Accuracy of the model: 93.33450315852802 %\n",
      "Time for block 8: 29.37747097015381\n",
      "Block 9\n"
     ]
    },
    {
     "name": "stderr",
     "output_type": "stream",
     "text": [
      "                                                                                \r"
     ]
    },
    {
     "name": "stdout",
     "output_type": "stream",
     "text": [
      "Accuracy of the model: 92.19971128478272 %\n",
      "Time for block 9: 28.670304775238037\n",
      "Average accuracy: 92.99349964042213 %\n",
      "Average time: 288.85530400276184 s\n",
      "Test with 4 core/s\n"
     ]
    },
    {
     "name": "stderr",
     "output_type": "stream",
     "text": [
      "                                                                                \r"
     ]
    },
    {
     "name": "stdout",
     "output_type": "stream",
     "text": [
      "Means: [1.27838919e+03 2.13364895e+04 6.93013712e+03 6.25819129e+04\n",
      " 1.22276971e+08 1.57460545e+07 9.11132215e+00 1.89416481e+00\n",
      " 1.24196646e+02 2.12980313e+09 2.25738831e+09]\n",
      "\n",
      "Std: [1.60563017e+03 2.41267530e+04 1.63668384e+04 1.34535232e+05\n",
      " 2.34005376e+08 4.41865109e+07 5.28106132e+00 2.10223611e+00\n",
      " 9.03451248e+01 7.14764695e+08 1.30262025e+09]\n",
      "\n",
      "Block 0\n"
     ]
    },
    {
     "name": "stderr",
     "output_type": "stream",
     "text": [
      "                                                                                \r"
     ]
    },
    {
     "name": "stdout",
     "output_type": "stream",
     "text": [
      "Accuracy of the model: 93.76569878428614 %\n",
      "Time for block 0: 27.6374568939209\n",
      "Block 1\n"
     ]
    },
    {
     "name": "stderr",
     "output_type": "stream",
     "text": [
      "                                                                                \r"
     ]
    },
    {
     "name": "stdout",
     "output_type": "stream",
     "text": [
      "24/02/14 12:08:07 WARN BlockManager: Task 125 already completed, not releasing lock for rdd_63_0\n"
     ]
    },
    {
     "name": "stderr",
     "output_type": "stream",
     "text": [
      "                                                                                \r"
     ]
    },
    {
     "name": "stdout",
     "output_type": "stream",
     "text": [
      "Accuracy of the model: 92.85321605277625 %\n",
      "Time for block 1: 26.44411873817444\n",
      "Block 2\n"
     ]
    },
    {
     "name": "stderr",
     "output_type": "stream",
     "text": [
      "                                                                                \r"
     ]
    },
    {
     "name": "stdout",
     "output_type": "stream",
     "text": [
      "24/02/14 12:08:35 WARN BlockManager: Task 222 already completed, not releasing lock for rdd_119_0\n"
     ]
    },
    {
     "name": "stderr",
     "output_type": "stream",
     "text": [
      "                                                                                \r"
     ]
    },
    {
     "name": "stdout",
     "output_type": "stream",
     "text": [
      "Accuracy of the model: 91.7676087931808 %\n",
      "Time for block 2: 25.750484228134155\n",
      "Block 3\n"
     ]
    },
    {
     "name": "stderr",
     "output_type": "stream",
     "text": [
      "                                                                                \r"
     ]
    },
    {
     "name": "stdout",
     "output_type": "stream",
     "text": [
      "24/02/14 12:09:03 WARN BlockManager: Task 319 already completed, not releasing lock for rdd_175_0\n"
     ]
    },
    {
     "name": "stderr",
     "output_type": "stream",
     "text": [
      "                                                                                \r"
     ]
    },
    {
     "name": "stdout",
     "output_type": "stream",
     "text": [
      "Accuracy of the model: 93.6034275405893 %\n",
      "Time for block 3: 26.381654977798462\n",
      "Block 4\n"
     ]
    },
    {
     "name": "stderr",
     "output_type": "stream",
     "text": [
      "                                                                                \r"
     ]
    },
    {
     "name": "stdout",
     "output_type": "stream",
     "text": [
      "24/02/14 12:09:32 WARN BlockManager: Task 416 already completed, not releasing lock for rdd_231_0\n"
     ]
    },
    {
     "name": "stderr",
     "output_type": "stream",
     "text": [
      "                                                                                \r"
     ]
    },
    {
     "name": "stdout",
     "output_type": "stream",
     "text": [
      "Accuracy of the model: 94.16784487982225 %\n",
      "Time for block 4: 25.765751600265503\n",
      "Block 5\n"
     ]
    },
    {
     "name": "stderr",
     "output_type": "stream",
     "text": [
      "                                                                                \r"
     ]
    },
    {
     "name": "stdout",
     "output_type": "stream",
     "text": [
      "24/02/14 12:09:59 WARN BlockManager: Task 513 already completed, not releasing lock for rdd_287_0\n"
     ]
    },
    {
     "name": "stderr",
     "output_type": "stream",
     "text": [
      "                                                                                \r"
     ]
    },
    {
     "name": "stdout",
     "output_type": "stream",
     "text": [
      "Accuracy of the model: 92.44430093639005 %\n",
      "Time for block 5: 25.290988206863403\n",
      "Block 6\n"
     ]
    },
    {
     "name": "stderr",
     "output_type": "stream",
     "text": [
      "                                                                                \r"
     ]
    },
    {
     "name": "stdout",
     "output_type": "stream",
     "text": [
      "24/02/14 12:10:27 WARN BlockManager: Task 610 already completed, not releasing lock for rdd_343_0\n"
     ]
    },
    {
     "name": "stderr",
     "output_type": "stream",
     "text": [
      "                                                                                \r"
     ]
    },
    {
     "name": "stdout",
     "output_type": "stream",
     "text": [
      "Accuracy of the model: 93.92155880585054 %\n",
      "Time for block 6: 25.59142565727234\n",
      "Block 7\n"
     ]
    },
    {
     "name": "stderr",
     "output_type": "stream",
     "text": [
      "                                                                                \r"
     ]
    },
    {
     "name": "stdout",
     "output_type": "stream",
     "text": [
      "24/02/14 12:10:55 WARN BlockManager: Task 707 already completed, not releasing lock for rdd_399_0\n"
     ]
    },
    {
     "name": "stderr",
     "output_type": "stream",
     "text": [
      "                                                                                \r"
     ]
    },
    {
     "name": "stdout",
     "output_type": "stream",
     "text": [
      "Accuracy of the model: 93.08392567651826 %\n",
      "Time for block 7: 25.367446660995483\n",
      "Block 8\n"
     ]
    },
    {
     "name": "stderr",
     "output_type": "stream",
     "text": [
      "                                                                                \r"
     ]
    },
    {
     "name": "stdout",
     "output_type": "stream",
     "text": [
      "24/02/14 12:11:22 WARN BlockManager: Task 804 already completed, not releasing lock for rdd_455_0\n"
     ]
    },
    {
     "name": "stderr",
     "output_type": "stream",
     "text": [
      "                                                                                \r"
     ]
    },
    {
     "name": "stdout",
     "output_type": "stream",
     "text": [
      "Accuracy of the model: 93.12599840255591 %\n",
      "Time for block 8: 25.00088095664978\n",
      "Block 9\n"
     ]
    },
    {
     "name": "stderr",
     "output_type": "stream",
     "text": [
      "                                                                                \r"
     ]
    },
    {
     "name": "stdout",
     "output_type": "stream",
     "text": [
      "24/02/14 12:11:50 WARN BlockManager: Task 901 already completed, not releasing lock for rdd_511_0\n"
     ]
    },
    {
     "name": "stderr",
     "output_type": "stream",
     "text": [
      "                                                                                \r"
     ]
    },
    {
     "name": "stdout",
     "output_type": "stream",
     "text": [
      "Accuracy of the model: 93.81971661139583 %\n",
      "Time for block 9: 25.854297399520874\n",
      "Average accuracy: 93.25532964833653 %\n",
      "Average time: 259.08450531959534 s\n",
      "Test with 5 core/s\n"
     ]
    },
    {
     "name": "stderr",
     "output_type": "stream",
     "text": [
      "                                                                                \r"
     ]
    },
    {
     "name": "stdout",
     "output_type": "stream",
     "text": [
      "Means: [1.27838919e+03 2.13364895e+04 6.93013712e+03 6.25819129e+04\n",
      " 1.22276971e+08 1.57460545e+07 9.11132215e+00 1.89416481e+00\n",
      " 1.24196646e+02 2.12980313e+09 2.25738831e+09]\n",
      "\n",
      "Std: [1.60563017e+03 2.41267530e+04 1.63668384e+04 1.34535232e+05\n",
      " 2.34005376e+08 4.41865109e+07 5.28106132e+00 2.10223611e+00\n",
      " 9.03451248e+01 7.14764695e+08 1.30262025e+09]\n",
      "\n",
      "Block 0\n"
     ]
    },
    {
     "name": "stderr",
     "output_type": "stream",
     "text": [
      "                                                                                \r"
     ]
    },
    {
     "name": "stdout",
     "output_type": "stream",
     "text": [
      "24/02/14 12:12:23 WARN BlockManager: Task 28 already completed, not releasing lock for rdd_7_0\n"
     ]
    },
    {
     "name": "stderr",
     "output_type": "stream",
     "text": [
      "                                                                                \r"
     ]
    },
    {
     "name": "stdout",
     "output_type": "stream",
     "text": [
      "Accuracy of the model: 92.591762537975 %\n",
      "Time for block 0: 25.342931509017944\n",
      "Block 1\n"
     ]
    },
    {
     "name": "stderr",
     "output_type": "stream",
     "text": [
      "                                                                                \r"
     ]
    },
    {
     "name": "stdout",
     "output_type": "stream",
     "text": [
      "24/02/14 12:12:51 WARN BlockManager: Task 125 already completed, not releasing lock for rdd_63_0\n"
     ]
    },
    {
     "name": "stderr",
     "output_type": "stream",
     "text": [
      "                                                                                \r"
     ]
    },
    {
     "name": "stdout",
     "output_type": "stream",
     "text": [
      "Accuracy of the model: 93.26323695080735 %\n",
      "Time for block 1: 26.120747327804565\n",
      "Block 2\n"
     ]
    },
    {
     "name": "stderr",
     "output_type": "stream",
     "text": [
      "                                                                                \r"
     ]
    },
    {
     "name": "stdout",
     "output_type": "stream",
     "text": [
      "Accuracy of the model: 92.66310426245806 %\n",
      "Time for block 2: 27.612806797027588\n",
      "Block 3\n"
     ]
    },
    {
     "name": "stderr",
     "output_type": "stream",
     "text": [
      "                                                                                \r"
     ]
    },
    {
     "name": "stdout",
     "output_type": "stream",
     "text": [
      "24/02/14 12:13:49 WARN BlockManager: Task 319 already completed, not releasing lock for rdd_175_0\n"
     ]
    },
    {
     "name": "stderr",
     "output_type": "stream",
     "text": [
      "                                                                                \r"
     ]
    },
    {
     "name": "stdout",
     "output_type": "stream",
     "text": [
      "Accuracy of the model: 93.18416349953436 %\n",
      "Time for block 3: 26.19745707511902\n",
      "Block 4\n"
     ]
    },
    {
     "name": "stderr",
     "output_type": "stream",
     "text": [
      "                                                                                \r"
     ]
    },
    {
     "name": "stdout",
     "output_type": "stream",
     "text": [
      "24/02/14 12:14:18 WARN BlockManager: Task 416 already completed, not releasing lock for rdd_231_0\n"
     ]
    },
    {
     "name": "stderr",
     "output_type": "stream",
     "text": [
      "                                                                                \r"
     ]
    },
    {
     "name": "stdout",
     "output_type": "stream",
     "text": [
      "Accuracy of the model: 92.63817520992606 %\n",
      "Time for block 4: 25.404136896133423\n",
      "Block 5\n"
     ]
    },
    {
     "name": "stderr",
     "output_type": "stream",
     "text": [
      "                                                                                \r"
     ]
    },
    {
     "name": "stdout",
     "output_type": "stream",
     "text": [
      "24/02/14 12:14:45 WARN BlockManager: Task 513 already completed, not releasing lock for rdd_287_0\n"
     ]
    },
    {
     "name": "stderr",
     "output_type": "stream",
     "text": [
      "                                                                                \r"
     ]
    },
    {
     "name": "stdout",
     "output_type": "stream",
     "text": [
      "Accuracy of the model: 92.56235376113905 %\n",
      "Time for block 5: 25.62887167930603\n",
      "Block 6\n"
     ]
    },
    {
     "name": "stderr",
     "output_type": "stream",
     "text": [
      "                                                                                \r"
     ]
    },
    {
     "name": "stdout",
     "output_type": "stream",
     "text": [
      "24/02/14 12:15:13 WARN BlockManager: Task 610 already completed, not releasing lock for rdd_343_0\n"
     ]
    },
    {
     "name": "stderr",
     "output_type": "stream",
     "text": [
      "                                                                                \r"
     ]
    },
    {
     "name": "stdout",
     "output_type": "stream",
     "text": [
      "Accuracy of the model: 92.29598582940399 %\n",
      "Time for block 6: 26.300349712371826\n",
      "Block 7\n"
     ]
    },
    {
     "name": "stderr",
     "output_type": "stream",
     "text": [
      "                                                                                \r"
     ]
    },
    {
     "name": "stdout",
     "output_type": "stream",
     "text": [
      "24/02/14 12:15:42 WARN BlockManager: Task 707 already completed, not releasing lock for rdd_399_0\n"
     ]
    },
    {
     "name": "stderr",
     "output_type": "stream",
     "text": [
      "                                                                                \r"
     ]
    },
    {
     "name": "stdout",
     "output_type": "stream",
     "text": [
      "Accuracy of the model: 92.06467847621894 %\n",
      "Time for block 7: 26.038800716400146\n",
      "Block 8\n"
     ]
    },
    {
     "name": "stderr",
     "output_type": "stream",
     "text": [
      "                                                                                \r"
     ]
    },
    {
     "name": "stdout",
     "output_type": "stream",
     "text": [
      "24/02/14 12:16:10 WARN BlockManager: Task 804 already completed, not releasing lock for rdd_455_0\n"
     ]
    },
    {
     "name": "stderr",
     "output_type": "stream",
     "text": [
      "                                                                                \r"
     ]
    },
    {
     "name": "stdout",
     "output_type": "stream",
     "text": [
      "Accuracy of the model: 91.81995401379586 %\n",
      "Time for block 8: 25.939786911010742\n",
      "Block 9\n"
     ]
    },
    {
     "name": "stderr",
     "output_type": "stream",
     "text": [
      "                                                                                \r"
     ]
    },
    {
     "name": "stdout",
     "output_type": "stream",
     "text": [
      "24/02/14 12:16:38 WARN BlockManager: Task 901 already completed, not releasing lock for rdd_511_0\n"
     ]
    },
    {
     "name": "stderr",
     "output_type": "stream",
     "text": [
      "                                                                                \r"
     ]
    },
    {
     "name": "stdout",
     "output_type": "stream",
     "text": [
      "Accuracy of the model: 92.5704568756408 %\n",
      "Time for block 9: 26.238209009170532\n",
      "Average accuracy: 92.56538714168997 %\n",
      "Average time: 260.8240976333618 s\n",
      "Test with 6 core/s\n"
     ]
    },
    {
     "name": "stderr",
     "output_type": "stream",
     "text": [
      "                                                                                \r"
     ]
    },
    {
     "name": "stdout",
     "output_type": "stream",
     "text": [
      "Means: [1.27838919e+03 2.13364895e+04 6.93013712e+03 6.25819129e+04\n",
      " 1.22276971e+08 1.57460545e+07 9.11132215e+00 1.89416481e+00\n",
      " 1.24196646e+02 2.12980313e+09 2.25738831e+09]\n",
      "\n",
      "Std: [1.60563017e+03 2.41267530e+04 1.63668384e+04 1.34535232e+05\n",
      " 2.34005376e+08 4.41865109e+07 5.28106132e+00 2.10223611e+00\n",
      " 9.03451248e+01 7.14764695e+08 1.30262025e+09]\n",
      "\n",
      "Block 0\n"
     ]
    },
    {
     "name": "stderr",
     "output_type": "stream",
     "text": [
      "                                                                                \r"
     ]
    },
    {
     "name": "stdout",
     "output_type": "stream",
     "text": [
      "24/02/14 12:17:13 WARN BlockManager: Task 28 already completed, not releasing lock for rdd_7_0\n"
     ]
    },
    {
     "name": "stderr",
     "output_type": "stream",
     "text": [
      "                                                                                \r"
     ]
    },
    {
     "name": "stdout",
     "output_type": "stream",
     "text": [
      "Accuracy of the model: 94.28664625884478 %\n",
      "Time for block 0: 26.593880891799927\n",
      "Block 1\n"
     ]
    },
    {
     "name": "stderr",
     "output_type": "stream",
     "text": [
      "                                                                                \r"
     ]
    },
    {
     "name": "stdout",
     "output_type": "stream",
     "text": [
      "24/02/14 12:17:41 WARN BlockManager: Task 125 already completed, not releasing lock for rdd_63_0\n"
     ]
    },
    {
     "name": "stderr",
     "output_type": "stream",
     "text": [
      "                                                                                \r"
     ]
    },
    {
     "name": "stdout",
     "output_type": "stream",
     "text": [
      "Accuracy of the model: 92.39741252279028 %\n",
      "Time for block 1: 26.182246685028076\n",
      "Block 2\n"
     ]
    },
    {
     "name": "stderr",
     "output_type": "stream",
     "text": [
      "                                                                                \r"
     ]
    },
    {
     "name": "stdout",
     "output_type": "stream",
     "text": [
      "24/02/14 12:18:10 WARN BlockManager: Task 222 already completed, not releasing lock for rdd_119_0\n"
     ]
    },
    {
     "name": "stderr",
     "output_type": "stream",
     "text": [
      "                                                                                \r"
     ]
    },
    {
     "name": "stdout",
     "output_type": "stream",
     "text": [
      "Accuracy of the model: 92.81667290652689 %\n",
      "Time for block 2: 25.398507118225098\n",
      "Block 3\n"
     ]
    },
    {
     "name": "stderr",
     "output_type": "stream",
     "text": [
      "                                                                                \r"
     ]
    },
    {
     "name": "stdout",
     "output_type": "stream",
     "text": [
      "24/02/14 12:18:37 WARN BlockManager: Task 319 already completed, not releasing lock for rdd_175_0\n"
     ]
    },
    {
     "name": "stderr",
     "output_type": "stream",
     "text": [
      "                                                                                \r"
     ]
    },
    {
     "name": "stdout",
     "output_type": "stream",
     "text": [
      "Accuracy of the model: 92.53018674533136 %\n",
      "Time for block 3: 25.329251766204834\n",
      "Block 4\n"
     ]
    },
    {
     "name": "stderr",
     "output_type": "stream",
     "text": [
      "                                                                                \r"
     ]
    },
    {
     "name": "stdout",
     "output_type": "stream",
     "text": [
      "24/02/14 12:19:05 WARN BlockManager: Task 416 already completed, not releasing lock for rdd_231_0\n"
     ]
    },
    {
     "name": "stderr",
     "output_type": "stream",
     "text": [
      "                                                                                \r"
     ]
    },
    {
     "name": "stdout",
     "output_type": "stream",
     "text": [
      "Accuracy of the model: 93.33116134529598 %\n",
      "Time for block 4: 25.427547216415405\n",
      "Block 5\n"
     ]
    },
    {
     "name": "stderr",
     "output_type": "stream",
     "text": [
      "                                                                                \r"
     ]
    },
    {
     "name": "stdout",
     "output_type": "stream",
     "text": [
      "24/02/14 12:19:33 WARN BlockManager: Task 513 already completed, not releasing lock for rdd_287_0\n"
     ]
    },
    {
     "name": "stderr",
     "output_type": "stream",
     "text": [
      "                                                                                \r"
     ]
    },
    {
     "name": "stdout",
     "output_type": "stream",
     "text": [
      "Accuracy of the model: 93.09551783616229 %\n",
      "Time for block 5: 26.715026140213013\n",
      "Block 6\n"
     ]
    },
    {
     "name": "stderr",
     "output_type": "stream",
     "text": [
      "                                                                                \r"
     ]
    },
    {
     "name": "stdout",
     "output_type": "stream",
     "text": [
      "24/02/14 12:20:02 WARN BlockManager: Task 610 already completed, not releasing lock for rdd_343_0\n"
     ]
    },
    {
     "name": "stderr",
     "output_type": "stream",
     "text": [
      "                                                                                \r"
     ]
    },
    {
     "name": "stdout",
     "output_type": "stream",
     "text": [
      "Accuracy of the model: 92.33927498497897 %\n",
      "Time for block 6: 25.65082836151123\n",
      "Block 7\n"
     ]
    },
    {
     "name": "stderr",
     "output_type": "stream",
     "text": [
      "                                                                                \r"
     ]
    },
    {
     "name": "stdout",
     "output_type": "stream",
     "text": [
      "24/02/14 12:20:30 WARN BlockManager: Task 707 already completed, not releasing lock for rdd_399_0\n"
     ]
    },
    {
     "name": "stderr",
     "output_type": "stream",
     "text": [
      "                                                                                \r"
     ]
    },
    {
     "name": "stdout",
     "output_type": "stream",
     "text": [
      "Accuracy of the model: 94.01310339634009 %\n",
      "Time for block 7: 26.064577102661133\n",
      "Block 8\n"
     ]
    },
    {
     "name": "stderr",
     "output_type": "stream",
     "text": [
      "                                                                                \r"
     ]
    },
    {
     "name": "stdout",
     "output_type": "stream",
     "text": [
      "24/02/14 12:20:58 WARN BlockManager: Task 804 already completed, not releasing lock for rdd_455_0\n"
     ]
    },
    {
     "name": "stderr",
     "output_type": "stream",
     "text": [
      "                                                                                \r"
     ]
    },
    {
     "name": "stdout",
     "output_type": "stream",
     "text": [
      "Accuracy of the model: 92.79692722103057 %\n",
      "Time for block 8: 27.32903027534485\n",
      "Block 9\n"
     ]
    },
    {
     "name": "stderr",
     "output_type": "stream",
     "text": [
      "                                                                                \r"
     ]
    },
    {
     "name": "stdout",
     "output_type": "stream",
     "text": [
      "Accuracy of the model: 92.028931474163 %\n",
      "Time for block 9: 25.501384496688843\n",
      "Average accuracy: 92.96358346914641 %\n",
      "Average time: 260.1922800540924 s\n",
      "Test with 7 core/s\n"
     ]
    },
    {
     "name": "stderr",
     "output_type": "stream",
     "text": [
      "                                                                                \r"
     ]
    },
    {
     "name": "stdout",
     "output_type": "stream",
     "text": [
      "Means: [1.27838919e+03 2.13364895e+04 6.93013712e+03 6.25819129e+04\n",
      " 1.22276971e+08 1.57460545e+07 9.11132215e+00 1.89416481e+00\n",
      " 1.24196646e+02 2.12980313e+09 2.25738831e+09]\n",
      "\n",
      "Std: [1.60563017e+03 2.41267530e+04 1.63668384e+04 1.34535232e+05\n",
      " 2.34005376e+08 4.41865109e+07 5.28106132e+00 2.10223611e+00\n",
      " 9.03451248e+01 7.14764695e+08 1.30262025e+09]\n",
      "\n",
      "Block 0\n"
     ]
    },
    {
     "name": "stderr",
     "output_type": "stream",
     "text": [
      "                                                                                \r"
     ]
    },
    {
     "name": "stdout",
     "output_type": "stream",
     "text": [
      "24/02/14 12:22:01 WARN BlockManager: Task 28 already completed, not releasing lock for rdd_7_0\n"
     ]
    },
    {
     "name": "stderr",
     "output_type": "stream",
     "text": [
      "                                                                                \r"
     ]
    },
    {
     "name": "stdout",
     "output_type": "stream",
     "text": [
      "Accuracy of the model: 93.06278790306429 %\n",
      "Time for block 0: 26.780747175216675\n",
      "Block 1\n"
     ]
    },
    {
     "name": "stderr",
     "output_type": "stream",
     "text": [
      "                                                                                \r"
     ]
    },
    {
     "name": "stdout",
     "output_type": "stream",
     "text": [
      "24/02/14 12:22:30 WARN BlockManager: Task 125 already completed, not releasing lock for rdd_63_0\n"
     ]
    },
    {
     "name": "stderr",
     "output_type": "stream",
     "text": [
      "                                                                                \r"
     ]
    },
    {
     "name": "stdout",
     "output_type": "stream",
     "text": [
      "Accuracy of the model: 93.14554460399259 %\n",
      "Time for block 1: 25.60099697113037\n",
      "Block 2\n"
     ]
    },
    {
     "name": "stderr",
     "output_type": "stream",
     "text": [
      "                                                                                \r"
     ]
    },
    {
     "name": "stdout",
     "output_type": "stream",
     "text": [
      "24/02/14 12:22:58 WARN BlockManager: Task 222 already completed, not releasing lock for rdd_119_0\n"
     ]
    },
    {
     "name": "stderr",
     "output_type": "stream",
     "text": [
      "                                                                                \r"
     ]
    },
    {
     "name": "stdout",
     "output_type": "stream",
     "text": [
      "Accuracy of the model: 93.20699052428932 %\n",
      "Time for block 2: 25.836844444274902\n",
      "Block 3\n"
     ]
    },
    {
     "name": "stderr",
     "output_type": "stream",
     "text": [
      "                                                                                \r"
     ]
    },
    {
     "name": "stdout",
     "output_type": "stream",
     "text": [
      "24/02/14 12:23:26 WARN BlockManager: Task 319 already completed, not releasing lock for rdd_175_0\n"
     ]
    },
    {
     "name": "stderr",
     "output_type": "stream",
     "text": [
      "                                                                                \r"
     ]
    },
    {
     "name": "stdout",
     "output_type": "stream",
     "text": [
      "Accuracy of the model: 92.77999293393226 %\n",
      "Time for block 3: 25.450563669204712\n",
      "Block 4\n"
     ]
    },
    {
     "name": "stderr",
     "output_type": "stream",
     "text": [
      "                                                                                \r"
     ]
    },
    {
     "name": "stdout",
     "output_type": "stream",
     "text": [
      "24/02/14 12:23:54 WARN BlockManager: Task 416 already completed, not releasing lock for rdd_231_0\n"
     ]
    },
    {
     "name": "stderr",
     "output_type": "stream",
     "text": [
      "                                                                                \r"
     ]
    },
    {
     "name": "stdout",
     "output_type": "stream",
     "text": [
      "Accuracy of the model: 92.56846151925909 %\n",
      "Time for block 4: 26.080379009246826\n",
      "Block 5\n"
     ]
    },
    {
     "name": "stderr",
     "output_type": "stream",
     "text": [
      "                                                                                \r"
     ]
    },
    {
     "name": "stdout",
     "output_type": "stream",
     "text": [
      "24/02/14 12:24:22 WARN BlockManager: Task 513 already completed, not releasing lock for rdd_287_0\n"
     ]
    },
    {
     "name": "stderr",
     "output_type": "stream",
     "text": [
      "                                                                                \r"
     ]
    },
    {
     "name": "stdout",
     "output_type": "stream",
     "text": [
      "Accuracy of the model: 92.98430105911515 %\n",
      "Time for block 5: 26.95336151123047\n",
      "Block 6\n"
     ]
    },
    {
     "name": "stderr",
     "output_type": "stream",
     "text": [
      "                                                                                \r"
     ]
    },
    {
     "name": "stdout",
     "output_type": "stream",
     "text": [
      "24/02/14 12:24:51 WARN BlockManager: Task 610 already completed, not releasing lock for rdd_343_0\n"
     ]
    },
    {
     "name": "stderr",
     "output_type": "stream",
     "text": [
      "                                                                                \r"
     ]
    },
    {
     "name": "stdout",
     "output_type": "stream",
     "text": [
      "Accuracy of the model: 92.47106670348705 %\n",
      "Time for block 6: 25.466716289520264\n",
      "Block 7\n"
     ]
    },
    {
     "name": "stderr",
     "output_type": "stream",
     "text": [
      "                                                                                \r"
     ]
    },
    {
     "name": "stdout",
     "output_type": "stream",
     "text": [
      "24/02/14 12:25:19 WARN BlockManager: Task 707 already completed, not releasing lock for rdd_399_0\n"
     ]
    },
    {
     "name": "stderr",
     "output_type": "stream",
     "text": [
      "                                                                                \r"
     ]
    },
    {
     "name": "stdout",
     "output_type": "stream",
     "text": [
      "Accuracy of the model: 92.53965878479497 %\n",
      "Time for block 7: 25.623349905014038\n",
      "Block 8\n"
     ]
    },
    {
     "name": "stderr",
     "output_type": "stream",
     "text": [
      "                                                                                \r"
     ]
    },
    {
     "name": "stdout",
     "output_type": "stream",
     "text": [
      "24/02/14 12:25:47 WARN BlockManager: Task 804 already completed, not releasing lock for rdd_455_0\n"
     ]
    },
    {
     "name": "stderr",
     "output_type": "stream",
     "text": [
      "                                                                                \r"
     ]
    },
    {
     "name": "stdout",
     "output_type": "stream",
     "text": [
      "Accuracy of the model: 92.76613746080724 %\n",
      "Time for block 8: 27.0003399848938\n",
      "Block 9\n"
     ]
    },
    {
     "name": "stderr",
     "output_type": "stream",
     "text": [
      "                                                                                \r"
     ]
    },
    {
     "name": "stdout",
     "output_type": "stream",
     "text": [
      "24/02/14 12:26:16 WARN BlockManager: Task 901 already completed, not releasing lock for rdd_511_0\n"
     ]
    },
    {
     "name": "stderr",
     "output_type": "stream",
     "text": [
      "                                                                                \r"
     ]
    },
    {
     "name": "stdout",
     "output_type": "stream",
     "text": [
      "Accuracy of the model: 92.36256609797466 %\n",
      "Time for block 9: 25.817997217178345\n",
      "Average accuracy: 92.78875075907166 %\n",
      "Average time: 260.6112961769104 s\n",
      "Test with 8 core/s\n"
     ]
    },
    {
     "name": "stderr",
     "output_type": "stream",
     "text": [
      "                                                                                \r"
     ]
    },
    {
     "name": "stdout",
     "output_type": "stream",
     "text": [
      "Means: [1.27838919e+03 2.13364895e+04 6.93013712e+03 6.25819129e+04\n",
      " 1.22276971e+08 1.57460545e+07 9.11132215e+00 1.89416481e+00\n",
      " 1.24196646e+02 2.12980313e+09 2.25738831e+09]\n",
      "\n",
      "Std: [1.60563017e+03 2.41267530e+04 1.63668384e+04 1.34535232e+05\n",
      " 2.34005376e+08 4.41865109e+07 5.28106132e+00 2.10223611e+00\n",
      " 9.03451248e+01 7.14764695e+08 1.30262025e+09]\n",
      "\n",
      "Block 0\n"
     ]
    },
    {
     "name": "stderr",
     "output_type": "stream",
     "text": [
      "                                                                                \r"
     ]
    },
    {
     "name": "stdout",
     "output_type": "stream",
     "text": [
      "24/02/14 12:26:50 WARN BlockManager: Task 28 already completed, not releasing lock for rdd_7_0\n"
     ]
    },
    {
     "name": "stderr",
     "output_type": "stream",
     "text": [
      "                                                                                \r"
     ]
    },
    {
     "name": "stdout",
     "output_type": "stream",
     "text": [
      "Accuracy of the model: 92.5590561001771 %\n",
      "Time for block 0: 25.905736207962036\n",
      "Block 1\n"
     ]
    },
    {
     "name": "stderr",
     "output_type": "stream",
     "text": [
      "                                                                                \r"
     ]
    },
    {
     "name": "stdout",
     "output_type": "stream",
     "text": [
      "24/02/14 12:27:18 WARN BlockManager: Task 125 already completed, not releasing lock for rdd_63_0\n"
     ]
    },
    {
     "name": "stderr",
     "output_type": "stream",
     "text": [
      "                                                                                \r"
     ]
    },
    {
     "name": "stdout",
     "output_type": "stream",
     "text": [
      "Accuracy of the model: 92.511167120006 %\n",
      "Time for block 1: 25.786702632904053\n",
      "Block 2\n"
     ]
    },
    {
     "name": "stderr",
     "output_type": "stream",
     "text": [
      "                                                                                \r"
     ]
    },
    {
     "name": "stdout",
     "output_type": "stream",
     "text": [
      "24/02/14 12:27:46 WARN BlockManager: Task 222 already completed, not releasing lock for rdd_119_0\n"
     ]
    },
    {
     "name": "stderr",
     "output_type": "stream",
     "text": [
      "                                                                                \r"
     ]
    },
    {
     "name": "stdout",
     "output_type": "stream",
     "text": [
      "Accuracy of the model: 92.34195905700986 %\n",
      "Time for block 2: 26.884479761123657\n",
      "Block 3\n"
     ]
    },
    {
     "name": "stderr",
     "output_type": "stream",
     "text": [
      "                                                                                \r"
     ]
    },
    {
     "name": "stdout",
     "output_type": "stream",
     "text": [
      "24/02/14 12:28:16 WARN BlockManager: Task 319 already completed, not releasing lock for rdd_175_0\n"
     ]
    },
    {
     "name": "stderr",
     "output_type": "stream",
     "text": [
      "                                                                                \r"
     ]
    },
    {
     "name": "stdout",
     "output_type": "stream",
     "text": [
      "Accuracy of the model: 92.82319273360707 %\n",
      "Time for block 3: 26.798258543014526\n",
      "Block 4\n"
     ]
    },
    {
     "name": "stderr",
     "output_type": "stream",
     "text": [
      "                                                                                \r"
     ]
    },
    {
     "name": "stdout",
     "output_type": "stream",
     "text": [
      "24/02/14 12:28:45 WARN BlockManager: Task 416 already completed, not releasing lock for rdd_231_0\n"
     ]
    },
    {
     "name": "stderr",
     "output_type": "stream",
     "text": [
      "                                                                                \r"
     ]
    },
    {
     "name": "stdout",
     "output_type": "stream",
     "text": [
      "Accuracy of the model: 92.45624473201448 %\n",
      "Time for block 4: 25.798245191574097\n",
      "Block 5\n"
     ]
    },
    {
     "name": "stderr",
     "output_type": "stream",
     "text": [
      "                                                                                \r"
     ]
    },
    {
     "name": "stdout",
     "output_type": "stream",
     "text": [
      "Accuracy of the model: 92.41384473336161 %\n",
      "Time for block 5: 25.28495693206787\n",
      "Block 6\n"
     ]
    },
    {
     "name": "stderr",
     "output_type": "stream",
     "text": [
      "                                                                                \r"
     ]
    },
    {
     "name": "stdout",
     "output_type": "stream",
     "text": [
      "24/02/14 12:29:41 WARN BlockManager: Task 610 already completed, not releasing lock for rdd_343_0\n"
     ]
    },
    {
     "name": "stderr",
     "output_type": "stream",
     "text": [
      "[Stage 180:>                                                        (0 + 4) / 4]\r"
     ]
    },
    {
     "name": "stdout",
     "output_type": "stream",
     "text": [
      "Accuracy of the model: 91.34203422571139 %\n",
      "Time for block 6: 26.510786056518555\n",
      "Block 7\n"
     ]
    },
    {
     "name": "stderr",
     "output_type": "stream",
     "text": [
      "                                                                                \r"
     ]
    },
    {
     "name": "stdout",
     "output_type": "stream",
     "text": [
      "24/02/14 12:30:09 WARN BlockManager: Task 707 already completed, not releasing lock for rdd_399_0\n"
     ]
    },
    {
     "name": "stderr",
     "output_type": "stream",
     "text": [
      "                                                                                \r"
     ]
    },
    {
     "name": "stdout",
     "output_type": "stream",
     "text": [
      "Accuracy of the model: 92.85714285714286 %\n",
      "Time for block 7: 26.682584047317505\n",
      "Block 8\n"
     ]
    },
    {
     "name": "stderr",
     "output_type": "stream",
     "text": [
      "                                                                                \r"
     ]
    },
    {
     "name": "stdout",
     "output_type": "stream",
     "text": [
      "24/02/14 12:30:39 WARN BlockManager: Task 804 already completed, not releasing lock for rdd_455_0\n"
     ]
    },
    {
     "name": "stderr",
     "output_type": "stream",
     "text": [
      "                                                                                \r"
     ]
    },
    {
     "name": "stdout",
     "output_type": "stream",
     "text": [
      "Accuracy of the model: 92.4337071322847 %\n",
      "Time for block 8: 27.481422901153564\n",
      "Block 9\n"
     ]
    },
    {
     "name": "stderr",
     "output_type": "stream",
     "text": [
      "                                                                                \r"
     ]
    },
    {
     "name": "stdout",
     "output_type": "stream",
     "text": [
      "24/02/14 12:31:08 WARN BlockManager: Task 901 already completed, not releasing lock for rdd_511_0\n"
     ]
    },
    {
     "name": "stderr",
     "output_type": "stream",
     "text": [
      "[Stage 254:==============>                                          (1 + 3) / 4]\r"
     ]
    },
    {
     "name": "stdout",
     "output_type": "stream",
     "text": [
      "Accuracy of the model: 92.38861540768136 %\n",
      "Time for block 9: 27.589547395706177\n",
      "Average accuracy: 92.41269640989965 %\n",
      "Average time: 264.72271966934204 s\n"
     ]
    },
    {
     "name": "stderr",
     "output_type": "stream",
     "text": [
      "\r\n",
      "                                                                                \r"
     ]
    }
   ],
   "source": [
    "num_workers = list(range(1, 9))\n",
    "tiempos_ejecucion_cv = []\n",
    "\n",
    "for i in num_workers:\n",
    "    print(f\"Test with {i} core/s\")\n",
    "    sc.stop()\n",
    "    sc = SparkContext(f\"local[{i}]\", \"Paralelize\")\n",
    "    total_time, _ = test_cv(path, print_it=False)\n",
    "    tiempos_ejecucion_cv.append(total_time)"
   ]
  },
  {
   "cell_type": "code",
   "execution_count": 21,
   "metadata": {
    "ExecuteTime": {
     "end_time": "2024-02-14T11:33:07.654102Z",
     "start_time": "2024-02-14T11:33:07.640402Z"
    }
   },
   "outputs": [],
   "source": [
    "acceleration = []\n",
    "for i in range(0, 8):\n",
    "    acceleration.append(tiempos_ejecucion[0]/tiempos_ejecucion[i]) "
   ]
  },
  {
   "cell_type": "code",
   "execution_count": 22,
   "metadata": {
    "ExecuteTime": {
     "end_time": "2024-02-14T11:33:09.011899Z",
     "start_time": "2024-02-14T11:33:08.940145Z"
    }
   },
   "outputs": [
    {
     "data": {
      "image/png": "[encoded data removed]",
      "text/plain": [
       "<Figure size 640x480 with 1 Axes>"
      ]
     },
     "metadata": {},
     "output_type": "display_data"
    }
   ],
   "source": [
    "plt.plot(num_workers, acceleration, marker='o')\n",
    "plt.title('Curva de aceleración')\n",
    "plt.xlabel('Número de trabajadores')\n",
    "plt.ylabel('Factor de aceleración (Speedup)')\n",
    "plt.grid(True)\n",
    "plt.show()"
   ]
  },
  {
   "cell_type": "code",
   "execution_count": null,
   "metadata": {},
   "outputs": [],
   "source": []
  }
 ],
 "metadata": {
  "kernelspec": {
   "display_name": "Python 3 (ipykernel)",
   "language": "python",
   "name": "python3"
  },
  "language_info": {
   "codemirror_mode": {
    "name": "ipython",
    "version": 3
   },
   "file_extension": ".py",
   "mimetype": "text/x-python",
   "name": "python",
   "nbconvert_exporter": "python",
   "pygments_lexer": "ipython3",
   "version": "3.7.16"
  },
  "toc": {
   "base_numbering": 1,
   "nav_menu": {},
   "number_sections": true,
   "sideBar": true,
   "skip_h1_title": false,
   "title_cell": "Table of Contents",
   "title_sidebar": "Contents",
   "toc_cell": false,
   "toc_position": {},
   "toc_section_display": true,
   "toc_window_display": false
  }
 },
 "nbformat": 4,
 "nbformat_minor": 1
}

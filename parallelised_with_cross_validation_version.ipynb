{
 "cells": [
  {
   "cell_type": "code",
   "execution_count": 1,
   "metadata": {
    "ExecuteTime": {
     "end_time": "2024-02-15T09:49:30.042148Z",
     "start_time": "2024-02-15T09:49:29.350956Z"
    }
   },
   "outputs": [],
   "source": [
    "import random\n",
    "import math\n",
    "from operator import add\n",
    "import numpy as np\n",
    "import time\n",
    "import findspark\n",
    "import matplotlib.pyplot as plt\n",
    "from pyspark import SparkContext"
   ]
  },
  {
   "cell_type": "code",
   "execution_count": 2,
   "metadata": {
    "ExecuteTime": {
     "end_time": "2024-02-15T09:49:46.109518Z",
     "start_time": "2024-02-15T09:49:30.044409Z"
    }
   },
   "outputs": [
    {
     "name": "stdout",
     "output_type": "stream",
     "text": [
      "24/02/15 10:49:33 WARN Utils: Your hostname, vm resolves to a loopback address: 127.0.1.1; using 10.0.2.15 instead (on interface enp0s3)\n",
      "24/02/15 10:49:33 WARN Utils: Set SPARK_LOCAL_IP if you need to bind to another address\n"
     ]
    },
    {
     "name": "stderr",
     "output_type": "stream",
     "text": [
      "Setting default log level to \"WARN\".\n",
      "To adjust logging level use sc.setLogLevel(newLevel). For SparkR, use setLogLevel(newLevel).\n"
     ]
    },
    {
     "name": "stdout",
     "output_type": "stream",
     "text": [
      "24/02/15 10:49:44 WARN NativeCodeLoader: Unable to load native-hadoop library for your platform... using builtin-java classes where applicable\n"
     ]
    }
   ],
   "source": [
    "findspark.init()\n",
    "sc = SparkContext(\"local[*]\", \"CrossValidation\")"
   ]
  },
  {
   "cell_type": "markdown",
   "metadata": {},
   "source": [
    "# Declaración de funciones"
   ]
  },
  {
   "cell_type": "code",
   "execution_count": 3,
   "metadata": {
    "ExecuteTime": {
     "end_time": "2024-02-15T09:49:46.117624Z",
     "start_time": "2024-02-15T09:49:46.112466Z"
    }
   },
   "outputs": [],
   "source": [
    "def readFile(path, cols=np.inf):\n",
    "    # Inicializar una sesión de Spark\n",
    "    rdd = sc.textFile(path)\n",
    "    rdd.cache()\n",
    "    rdd.count()\n",
    "    # Leer el archivo como un RDD de líneas\n",
    "    def parse_line(rdd):\n",
    "        # Dividir la línea por comas\n",
    "        parts = rdd.split(',')\n",
    "        # Convertir las partes en números y extraer solo las columnas necesarias\n",
    "        cols_to_take = min(cols, len(parts) - 1)\n",
    "        x = [float(x) for x in parts[:cols_to_take]]\n",
    "        y = float(parts[-1])\n",
    "        return (x, y)\n",
    "\n",
    "    # Aplicar la función de parseo a cada línea\n",
    "    parsed_data = rdd.map(parse_line)\n",
    "\n",
    "    numpy_data = parsed_data.map(lambda x: (np.array(x[0], dtype=float), x[1]))\n",
    "\n",
    "    # Convertir los datos en un arreglo numpy y retornarlo\n",
    "    return numpy_data"
   ]
  },
  {
   "cell_type": "code",
   "execution_count": 4,
   "metadata": {
    "ExecuteTime": {
     "end_time": "2024-02-15T09:49:46.125572Z",
     "start_time": "2024-02-15T09:49:46.119681Z"
    }
   },
   "outputs": [],
   "source": [
    "def normalize(X_y):\n",
    "    X = X_y.map(lambda x: x[0])\n",
    "    y = X_y.map(lambda x: x[1])\n",
    "\n",
    "    m = X.count()\n",
    "    n = len(X.reduce(lambda x, y: x + y))\n",
    "    \n",
    "    col_sum = X.map(lambda x: np.array(x)).reduce(lambda x, y: np.add(x, y))\n",
    "    sum_squares_col = X.map(lambda x: np.array(x**2)).reduce(lambda x, y: np.add(x, y))\n",
    "\n",
    "    means = col_sum / m\n",
    "    print(f\"Means: {means}\\n\")\n",
    "    \n",
    "    var = ((sum_squares_col / m) - (means**2))\n",
    "    std = var**0.5\n",
    "    print(f\"Std: {std}\\n\")\n",
    "    \n",
    "    normalized_rdd = X_y.map(lambda x: (np.array((x[0] - means) / std, dtype=object), x[1]))\n",
    "    \n",
    "    return normalized_rdd"
   ]
  },
  {
   "cell_type": "code",
   "execution_count": 5,
   "metadata": {
    "ExecuteTime": {
     "end_time": "2024-02-15T09:49:46.133943Z",
     "start_time": "2024-02-15T09:49:46.127586Z"
    }
   },
   "outputs": [],
   "source": [
    "def get_y_hat (x,w):\n",
    "    #print (x.shape, w.shape)\n",
    "    return sigmoid(get_dot_xw(x,w))\n",
    "\n",
    "def get_dot_xw(x,w):\n",
    "    \n",
    "    r = 0.\n",
    "    if (len(x)>=len(w)):\n",
    "        #print (\"getdot\",len(x),len(w))\n",
    "        pass\n",
    "    for i in range(len(x)):\n",
    "        r += float(x[i])*float(w[i])\n",
    "    return r + w[-1]\n",
    "\n",
    "def sigmoid(x):\n",
    "    try:\n",
    "        return 1. / (1.+math.exp(-x))\n",
    "    except OverflowError:\n",
    "        return 0.0"
   ]
  },
  {
   "cell_type": "code",
   "execution_count": 6,
   "metadata": {
    "ExecuteTime": {
     "end_time": "2024-02-15T09:49:46.142612Z",
     "start_time": "2024-02-15T09:49:46.135429Z"
    }
   },
   "outputs": [],
   "source": [
    "def predict (x,w):\n",
    "    threshold=0.5\n",
    "    y_hat=get_y_hat(x,w)\n",
    "    return 1 if y_hat > threshold else 0\n",
    "        \n",
    "# Check the accuracy of the model\n",
    "def accuracy(X_y, wf):\n",
    "    #compute the number of correct answers for each element of the dataset \n",
    "    correct_answers=0\n",
    "    \n",
    "    def count_correct(x_y):\n",
    "        x, y = x_y\n",
    "        return 1 if predict(x, wf) == y else 0\n",
    "    \n",
    "    correct_answers = X_y.map(count_correct).reduce(lambda x, y: x + y)\n",
    "    accuracy = correct_answers*100.0/X_y.count()\n",
    "\n",
    "    return accuracy"
   ]
  },
  {
   "cell_type": "code",
   "execution_count": 7,
   "metadata": {
    "ExecuteTime": {
     "end_time": "2024-02-15T09:49:46.152332Z",
     "start_time": "2024-02-15T09:49:46.146309Z"
    }
   },
   "outputs": [],
   "source": [
    "# Update model weights using current weights, their derivatives and the learning rate \n",
    "def update_ws(w,dw,lr):\n",
    "    w_ = np.array(w, dtype=float)\n",
    "    dw_ = np.array(dw, dtype=float)\n",
    "    #print (\"shapes w y dw\",w.shape,dw.shape)\n",
    "    tmp = w_ - lr*dw_\n",
    "    neww = tmp    \n",
    "    return neww\n",
    "\n",
    "# Get derivatives of Cost function for each element of the dataset\n",
    "def get_derivatives(x_y, w): \n",
    "    x = np.array(x_y[0], dtype=float)\n",
    "    y= x_y[1]\n",
    "    diff_y = get_y_hat(x,w) - y\n",
    "    # Vectorized version\n",
    "    # res = list(x*diff_y)+ [w[-1]]\n",
    "    res=[]\n",
    "    # dw\n",
    "    for x_i in x:\n",
    "        res.append(x_i*diff_y)\n",
    "    # db\n",
    "    res.append(diff_y)\n",
    "    return res\n",
    "    "
   ]
  },
  {
   "cell_type": "code",
   "execution_count": 8,
   "metadata": {
    "ExecuteTime": {
     "end_time": "2024-02-15T09:49:46.158195Z",
     "start_time": "2024-02-15T09:49:46.154274Z"
    }
   },
   "outputs": [],
   "source": [
    "# Cost function   \n",
    "def fcost(y, y_hat):\n",
    "    #print (\"cost:\",y,y_hat)\n",
    "    # compute loss/cost for one element \"y_hat\" and one label \"y\" \n",
    "    epsilon=0.00000001\n",
    "    if y == 1:\n",
    "        return -np.log(y_hat if y_hat > 0. else epsilon)\n",
    "    else:\n",
    "        return -np.log (1-y_hat if 1-y_hat >0. else epsilon)\n",
    "                 "
   ]
  },
  {
   "cell_type": "code",
   "execution_count": 9,
   "metadata": {
    "ExecuteTime": {
     "end_time": "2024-02-15T09:49:46.163808Z",
     "start_time": "2024-02-15T09:49:46.159753Z"
    }
   },
   "outputs": [],
   "source": [
    "def transform(data):\n",
    "    data = data.map(lambda x: (random.randint(0, 9), x))\n",
    "\n",
    "    return data\n",
    "\n",
    "def get_block_data(data_cv, key):\n",
    "    \n",
    "    test_data = data_cv.flatMap(lambda x: [x] if x[0] == key else []).map(lambda x: x[1])\n",
    "    tr_data = data_cv.flatMap(lambda x: [x] if x[0] != key else []).map(lambda x: x[1])\n",
    "    \n",
    "    return tr_data, test_data"
   ]
  },
  {
   "cell_type": "code",
   "execution_count": 10,
   "metadata": {
    "ExecuteTime": {
     "end_time": "2024-02-15T09:49:46.172676Z",
     "start_time": "2024-02-15T09:49:46.165709Z"
    }
   },
   "outputs": [],
   "source": [
    "def train(X_y, iterations, learning_rate, print_it=True):\n",
    "    X_y.cache()\n",
    "    m = X_y.count()\n",
    "\n",
    "    num_columns = len(X_y.take(1)[0][0])\n",
    "\n",
    "    w = np.array([random.uniform(0.0, 1.0) for _ in range(num_columns + 1)])\n",
    "\n",
    "    for iterac in range(iterations):\n",
    "        y_hat_rdd = X_y.map(lambda x: (x[1],np.array(get_y_hat(x[0], w))))\n",
    "        cost = y_hat_rdd.map(lambda x: np.array(fcost(x[0], x[1]))).reduce(lambda x, y: np.add(x, y)) / m\n",
    "        \n",
    "        if print_it:\n",
    "            print(\"iteration\", iterac, \"Cost:\", cost)\n",
    "\n",
    "        dw_tot_rdd = X_y.map(lambda x: np.array(get_derivatives(x, w))).reduce(lambda x, y: np.add(x, y))\n",
    "        dw_tot_rdd /= m\n",
    "        w = update_ws(w, dw_tot_rdd, learning_rate)\n",
    "        \n",
    "    return w"
   ]
  },
  {
   "cell_type": "markdown",
   "metadata": {},
   "source": [
    "# Prueba"
   ]
  },
  {
   "cell_type": "code",
   "execution_count": 11,
   "metadata": {
    "ExecuteTime": {
     "end_time": "2024-02-15T09:49:46.182029Z",
     "start_time": "2024-02-15T09:49:46.176136Z"
    }
   },
   "outputs": [],
   "source": [
    "def test_cv(path, nIter=10, learningRate=1.5, num_blocks_cv=10, print_it=True):\n",
    "    avg_acc = 0\n",
    "    total_time = 0\n",
    "    \n",
    "    # read text_file in dataPath\n",
    "    X_y = readFile(path)\n",
    "\n",
    "    #Normalize\n",
    "    X_y = normalize(X_y)\n",
    "\n",
    "    #Transform data\n",
    "    data_cv = transform(X_y)\n",
    "    \n",
    "    \n",
    "    for i in range(num_blocks_cv):\n",
    "        print(f\"Block {i}\")\n",
    "        tr_data, test_data = get_block_data(data_cv, i)\n",
    "        t1 = time.time()\n",
    "        ws = train(tr_data, nIter, learningRate, print_it)\n",
    "        t2 = time.time()\n",
    "        block_time = t2-t1\n",
    "        acc = accuracy(test_data, ws)\n",
    "\n",
    "        print (\"Accuracy of the model:\",acc,\"%\")\n",
    "        print (f\"Time for block {i}: {block_time}\")\n",
    "        avg_acc += acc\n",
    "        total_time += block_time\n",
    "    \n",
    "    avg_acc /= num_blocks_cv\n",
    "    \n",
    "    print (\"Average accuracy:\",avg_acc,\"%\")\n",
    "    print (\"Total time:\",total_time,\"s\")\n",
    "    \n",
    "    return total_time, avg_acc"
   ]
  },
  {
   "cell_type": "code",
   "execution_count": 12,
   "metadata": {
    "ExecuteTime": {
     "end_time": "2024-02-15T09:54:39.032069Z",
     "start_time": "2024-02-15T09:49:46.184716Z"
    }
   },
   "outputs": [
    {
     "name": "stderr",
     "output_type": "stream",
     "text": [
      "                                                                                \r"
     ]
    },
    {
     "name": "stdout",
     "output_type": "stream",
     "text": [
      "Means: [1.27838919e+03 2.13364895e+04 6.93013712e+03 6.25819129e+04\n",
      " 1.22276971e+08 1.57460545e+07 9.11132215e+00 1.89416481e+00\n",
      " 1.24196646e+02 2.12980313e+09 2.25738831e+09]\n",
      "\n",
      "Std: [1.60563017e+03 2.41267530e+04 1.63668384e+04 1.34535232e+05\n",
      " 2.34005376e+08 4.41865109e+07 5.28106132e+00 2.10223611e+00\n",
      " 9.03451248e+01 7.14764695e+08 1.30262025e+09]\n",
      "\n",
      "Block 0\n"
     ]
    },
    {
     "name": "stderr",
     "output_type": "stream",
     "text": [
      "                                                                                \r"
     ]
    },
    {
     "name": "stdout",
     "output_type": "stream",
     "text": [
      "iteration 0 Cost: 1.5060585642603517\n"
     ]
    },
    {
     "name": "stderr",
     "output_type": "stream",
     "text": [
      "                                                                                \r"
     ]
    },
    {
     "name": "stdout",
     "output_type": "stream",
     "text": [
      "iteration 1 Cost: 0.8183354323386111\n"
     ]
    },
    {
     "name": "stderr",
     "output_type": "stream",
     "text": [
      "                                                                                \r"
     ]
    },
    {
     "name": "stdout",
     "output_type": "stream",
     "text": [
      "iteration 2 Cost: 0.5178624545718297\n"
     ]
    },
    {
     "name": "stderr",
     "output_type": "stream",
     "text": [
      "                                                                                \r"
     ]
    },
    {
     "name": "stdout",
     "output_type": "stream",
     "text": [
      "iteration 3 Cost: 0.3830399762567383\n"
     ]
    },
    {
     "name": "stderr",
     "output_type": "stream",
     "text": [
      "                                                                                \r"
     ]
    },
    {
     "name": "stdout",
     "output_type": "stream",
     "text": [
      "iteration 4 Cost: 0.3173423890561711\n"
     ]
    },
    {
     "name": "stderr",
     "output_type": "stream",
     "text": [
      "                                                                                \r"
     ]
    },
    {
     "name": "stdout",
     "output_type": "stream",
     "text": [
      "iteration 5 Cost: 0.2813374743424859\n"
     ]
    },
    {
     "name": "stderr",
     "output_type": "stream",
     "text": [
      "                                                                                \r"
     ]
    },
    {
     "name": "stdout",
     "output_type": "stream",
     "text": [
      "iteration 6 Cost: 0.25887083496313695\n"
     ]
    },
    {
     "name": "stderr",
     "output_type": "stream",
     "text": [
      "                                                                                \r"
     ]
    },
    {
     "name": "stdout",
     "output_type": "stream",
     "text": [
      "iteration 7 Cost: 0.2434227653925977\n"
     ]
    },
    {
     "name": "stderr",
     "output_type": "stream",
     "text": [
      "                                                                                \r"
     ]
    },
    {
     "name": "stdout",
     "output_type": "stream",
     "text": [
      "iteration 8 Cost: 0.23207255692657558\n"
     ]
    },
    {
     "name": "stderr",
     "output_type": "stream",
     "text": [
      "                                                                                \r"
     ]
    },
    {
     "name": "stdout",
     "output_type": "stream",
     "text": [
      "iteration 9 Cost: 0.22333930211445957\n"
     ]
    },
    {
     "name": "stderr",
     "output_type": "stream",
     "text": [
      "                                                                                \r"
     ]
    },
    {
     "name": "stdout",
     "output_type": "stream",
     "text": [
      "Accuracy of the model: 92.60634453886217 %\n",
      "Time for block 0: 27.74043369293213\n",
      "Block 1\n"
     ]
    },
    {
     "name": "stderr",
     "output_type": "stream",
     "text": [
      "                                                                                \r"
     ]
    },
    {
     "name": "stdout",
     "output_type": "stream",
     "text": [
      "24/02/15 10:50:27 WARN BlockManager: Task 125 already completed, not releasing lock for rdd_63_0\n"
     ]
    },
    {
     "name": "stderr",
     "output_type": "stream",
     "text": [
      "                                                                                \r"
     ]
    },
    {
     "name": "stdout",
     "output_type": "stream",
     "text": [
      "iteration 0 Cost: 1.3206158266295205\n"
     ]
    },
    {
     "name": "stderr",
     "output_type": "stream",
     "text": [
      "                                                                                \r"
     ]
    },
    {
     "name": "stdout",
     "output_type": "stream",
     "text": [
      "iteration 1 Cost: 0.7648848592195148\n"
     ]
    },
    {
     "name": "stderr",
     "output_type": "stream",
     "text": [
      "                                                                                \r"
     ]
    },
    {
     "name": "stdout",
     "output_type": "stream",
     "text": [
      "iteration 2 Cost: 0.5003512175642617\n"
     ]
    },
    {
     "name": "stderr",
     "output_type": "stream",
     "text": [
      "                                                                                \r"
     ]
    },
    {
     "name": "stdout",
     "output_type": "stream",
     "text": [
      "iteration 3 Cost: 0.3722183118478834\n"
     ]
    },
    {
     "name": "stderr",
     "output_type": "stream",
     "text": [
      "                                                                                \r"
     ]
    },
    {
     "name": "stdout",
     "output_type": "stream",
     "text": [
      "iteration 4 Cost: 0.307430627591496\n"
     ]
    },
    {
     "name": "stderr",
     "output_type": "stream",
     "text": [
      "                                                                                \r"
     ]
    },
    {
     "name": "stdout",
     "output_type": "stream",
     "text": [
      "iteration 5 Cost: 0.27176212060377003\n"
     ]
    },
    {
     "name": "stderr",
     "output_type": "stream",
     "text": [
      "                                                                                \r"
     ]
    },
    {
     "name": "stdout",
     "output_type": "stream",
     "text": [
      "iteration 6 Cost: 0.24988363455769638\n"
     ]
    },
    {
     "name": "stderr",
     "output_type": "stream",
     "text": [
      "                                                                                \r"
     ]
    },
    {
     "name": "stdout",
     "output_type": "stream",
     "text": [
      "iteration 7 Cost: 0.23519557336300073\n"
     ]
    },
    {
     "name": "stderr",
     "output_type": "stream",
     "text": [
      "                                                                                \r"
     ]
    },
    {
     "name": "stdout",
     "output_type": "stream",
     "text": [
      "iteration 8 Cost: 0.22465022055062409\n"
     ]
    },
    {
     "name": "stderr",
     "output_type": "stream",
     "text": [
      "                                                                                \r"
     ]
    },
    {
     "name": "stdout",
     "output_type": "stream",
     "text": [
      "iteration 9 Cost: 0.2166934991574914\n"
     ]
    },
    {
     "name": "stderr",
     "output_type": "stream",
     "text": [
      "                                                                                \r"
     ]
    },
    {
     "name": "stdout",
     "output_type": "stream",
     "text": [
      "Accuracy of the model: 92.33853788125612 %\n",
      "Time for block 1: 25.288150310516357\n",
      "Block 2\n"
     ]
    },
    {
     "name": "stderr",
     "output_type": "stream",
     "text": [
      "                                                                                \r"
     ]
    },
    {
     "name": "stdout",
     "output_type": "stream",
     "text": [
      "iteration 0 Cost: 1.4464315798204126\n"
     ]
    },
    {
     "name": "stderr",
     "output_type": "stream",
     "text": [
      "                                                                                \r"
     ]
    },
    {
     "name": "stdout",
     "output_type": "stream",
     "text": [
      "iteration 1 Cost: 0.7603463842953176\n"
     ]
    },
    {
     "name": "stderr",
     "output_type": "stream",
     "text": [
      "                                                                                \r"
     ]
    },
    {
     "name": "stdout",
     "output_type": "stream",
     "text": [
      "iteration 2 Cost: 0.4694252104353493\n"
     ]
    },
    {
     "name": "stderr",
     "output_type": "stream",
     "text": [
      "                                                                                \r"
     ]
    },
    {
     "name": "stdout",
     "output_type": "stream",
     "text": [
      "iteration 3 Cost: 0.3541590167283864\n"
     ]
    },
    {
     "name": "stderr",
     "output_type": "stream",
     "text": [
      "                                                                                \r"
     ]
    },
    {
     "name": "stdout",
     "output_type": "stream",
     "text": [
      "iteration 4 Cost: 0.29955477855430934\n"
     ]
    },
    {
     "name": "stderr",
     "output_type": "stream",
     "text": [
      "                                                                                \r"
     ]
    },
    {
     "name": "stdout",
     "output_type": "stream",
     "text": [
      "iteration 5 Cost: 0.2685231158426278\n"
     ]
    },
    {
     "name": "stderr",
     "output_type": "stream",
     "text": [
      "                                                                                \r"
     ]
    },
    {
     "name": "stdout",
     "output_type": "stream",
     "text": [
      "iteration 6 Cost: 0.24862059649001028\n"
     ]
    },
    {
     "name": "stderr",
     "output_type": "stream",
     "text": [
      "                                                                                \r"
     ]
    },
    {
     "name": "stdout",
     "output_type": "stream",
     "text": [
      "iteration 7 Cost: 0.23477809042075062\n"
     ]
    },
    {
     "name": "stderr",
     "output_type": "stream",
     "text": [
      "                                                                                \r"
     ]
    },
    {
     "name": "stdout",
     "output_type": "stream",
     "text": [
      "iteration 8 Cost: 0.22458706934525535\n"
     ]
    },
    {
     "name": "stderr",
     "output_type": "stream",
     "text": [
      "                                                                                \r"
     ]
    },
    {
     "name": "stdout",
     "output_type": "stream",
     "text": [
      "iteration 9 Cost: 0.21676417198097733\n"
     ]
    },
    {
     "name": "stderr",
     "output_type": "stream",
     "text": [
      "                                                                                \r"
     ]
    },
    {
     "name": "stdout",
     "output_type": "stream",
     "text": [
      "Accuracy of the model: 92.4693913173578 %\n",
      "Time for block 2: 25.2748920917511\n",
      "Block 3\n"
     ]
    },
    {
     "name": "stderr",
     "output_type": "stream",
     "text": [
      "                                                                                \r"
     ]
    },
    {
     "name": "stdout",
     "output_type": "stream",
     "text": [
      "24/02/15 10:51:22 WARN BlockManager: Task 319 already completed, not releasing lock for rdd_175_0\n"
     ]
    },
    {
     "name": "stderr",
     "output_type": "stream",
     "text": [
      "                                                                                \r"
     ]
    },
    {
     "name": "stdout",
     "output_type": "stream",
     "text": [
      "iteration 0 Cost: 1.1846099522093254\n"
     ]
    },
    {
     "name": "stderr",
     "output_type": "stream",
     "text": [
      "                                                                                \r"
     ]
    },
    {
     "name": "stdout",
     "output_type": "stream",
     "text": [
      "iteration 1 Cost: 0.616067991365848\n"
     ]
    },
    {
     "name": "stderr",
     "output_type": "stream",
     "text": [
      "                                                                                \r"
     ]
    },
    {
     "name": "stdout",
     "output_type": "stream",
     "text": [
      "iteration 2 Cost: 0.4120094232985178\n"
     ]
    },
    {
     "name": "stderr",
     "output_type": "stream",
     "text": [
      "                                                                                \r"
     ]
    },
    {
     "name": "stdout",
     "output_type": "stream",
     "text": [
      "iteration 3 Cost: 0.3311069316575519\n"
     ]
    },
    {
     "name": "stderr",
     "output_type": "stream",
     "text": [
      "                                                                                \r"
     ]
    },
    {
     "name": "stdout",
     "output_type": "stream",
     "text": [
      "iteration 4 Cost: 0.28886274148126295\n"
     ]
    },
    {
     "name": "stderr",
     "output_type": "stream",
     "text": [
      "                                                                                \r"
     ]
    },
    {
     "name": "stdout",
     "output_type": "stream",
     "text": [
      "iteration 5 Cost: 0.2628813141518106\n"
     ]
    },
    {
     "name": "stderr",
     "output_type": "stream",
     "text": [
      "                                                                                \r"
     ]
    },
    {
     "name": "stdout",
     "output_type": "stream",
     "text": [
      "iteration 6 Cost: 0.24530174409103625\n"
     ]
    },
    {
     "name": "stderr",
     "output_type": "stream",
     "text": [
      "                                                                                \r"
     ]
    },
    {
     "name": "stdout",
     "output_type": "stream",
     "text": [
      "iteration 7 Cost: 0.232636704026774\n"
     ]
    },
    {
     "name": "stderr",
     "output_type": "stream",
     "text": [
      "                                                                                \r"
     ]
    },
    {
     "name": "stdout",
     "output_type": "stream",
     "text": [
      "iteration 8 Cost: 0.2230934277844938\n"
     ]
    },
    {
     "name": "stderr",
     "output_type": "stream",
     "text": [
      "                                                                                \r"
     ]
    },
    {
     "name": "stdout",
     "output_type": "stream",
     "text": [
      "iteration 9 Cost: 0.21565386718008944\n"
     ]
    },
    {
     "name": "stderr",
     "output_type": "stream",
     "text": [
      "                                                                                \r"
     ]
    },
    {
     "name": "stdout",
     "output_type": "stream",
     "text": [
      "Accuracy of the model: 92.97016274864376 %\n",
      "Time for block 3: 25.770931482315063\n",
      "Block 4\n"
     ]
    },
    {
     "name": "stderr",
     "output_type": "stream",
     "text": [
      "                                                                                \r"
     ]
    },
    {
     "name": "stdout",
     "output_type": "stream",
     "text": [
      "24/02/15 10:51:50 WARN BlockManager: Task 416 already completed, not releasing lock for rdd_231_0\n"
     ]
    },
    {
     "name": "stderr",
     "output_type": "stream",
     "text": [
      "                                                                                \r"
     ]
    },
    {
     "name": "stdout",
     "output_type": "stream",
     "text": [
      "iteration 0 Cost: 1.1987106473051643\n"
     ]
    },
    {
     "name": "stderr",
     "output_type": "stream",
     "text": [
      "                                                                                \r"
     ]
    },
    {
     "name": "stdout",
     "output_type": "stream",
     "text": [
      "iteration 1 Cost: 0.6389895597537224\n"
     ]
    },
    {
     "name": "stderr",
     "output_type": "stream",
     "text": [
      "                                                                                \r"
     ]
    },
    {
     "name": "stdout",
     "output_type": "stream",
     "text": [
      "iteration 2 Cost: 0.4243627307959051\n"
     ]
    },
    {
     "name": "stderr",
     "output_type": "stream",
     "text": [
      "                                                                                \r"
     ]
    },
    {
     "name": "stdout",
     "output_type": "stream",
     "text": [
      "iteration 3 Cost: 0.3397573683146913\n"
     ]
    },
    {
     "name": "stderr",
     "output_type": "stream",
     "text": [
      "                                                                                \r"
     ]
    },
    {
     "name": "stdout",
     "output_type": "stream",
     "text": [
      "iteration 4 Cost: 0.2963416911364537\n"
     ]
    },
    {
     "name": "stderr",
     "output_type": "stream",
     "text": [
      "                                                                                \r"
     ]
    },
    {
     "name": "stdout",
     "output_type": "stream",
     "text": [
      "iteration 5 Cost: 0.26984897086839155\n"
     ]
    },
    {
     "name": "stderr",
     "output_type": "stream",
     "text": [
      "                                                                                \r"
     ]
    },
    {
     "name": "stdout",
     "output_type": "stream",
     "text": [
      "iteration 6 Cost: 0.251944139279878\n"
     ]
    },
    {
     "name": "stderr",
     "output_type": "stream",
     "text": [
      "                                                                                \r"
     ]
    },
    {
     "name": "stdout",
     "output_type": "stream",
     "text": [
      "iteration 7 Cost: 0.23900593343373402\n"
     ]
    },
    {
     "name": "stderr",
     "output_type": "stream",
     "text": [
      "                                                                                \r"
     ]
    },
    {
     "name": "stdout",
     "output_type": "stream",
     "text": [
      "iteration 8 Cost: 0.22920135538712755\n"
     ]
    },
    {
     "name": "stderr",
     "output_type": "stream",
     "text": [
      "                                                                                \r"
     ]
    },
    {
     "name": "stdout",
     "output_type": "stream",
     "text": [
      "iteration 9 Cost: 0.22150149538129202\n"
     ]
    },
    {
     "name": "stderr",
     "output_type": "stream",
     "text": [
      "                                                                                \r"
     ]
    },
    {
     "name": "stdout",
     "output_type": "stream",
     "text": [
      "Accuracy of the model: 93.82784669412092 %\n",
      "Time for block 4: 25.59841561317444\n",
      "Block 5\n"
     ]
    },
    {
     "name": "stderr",
     "output_type": "stream",
     "text": [
      "                                                                                \r"
     ]
    },
    {
     "name": "stdout",
     "output_type": "stream",
     "text": [
      "24/02/15 10:52:18 WARN BlockManager: Task 513 already completed, not releasing lock for rdd_287_0\n"
     ]
    },
    {
     "name": "stderr",
     "output_type": "stream",
     "text": [
      "                                                                                \r"
     ]
    },
    {
     "name": "stdout",
     "output_type": "stream",
     "text": [
      "iteration 0 Cost: 1.1419212465531061\n"
     ]
    },
    {
     "name": "stderr",
     "output_type": "stream",
     "text": [
      "                                                                                \r"
     ]
    },
    {
     "name": "stdout",
     "output_type": "stream",
     "text": [
      "iteration 1 Cost: 0.5630183385172063\n"
     ]
    },
    {
     "name": "stderr",
     "output_type": "stream",
     "text": [
      "                                                                                \r"
     ]
    },
    {
     "name": "stdout",
     "output_type": "stream",
     "text": [
      "iteration 2 Cost: 0.38677304157495035\n"
     ]
    },
    {
     "name": "stderr",
     "output_type": "stream",
     "text": [
      "                                                                                \r"
     ]
    },
    {
     "name": "stdout",
     "output_type": "stream",
     "text": [
      "iteration 3 Cost: 0.3187237986401305\n"
     ]
    },
    {
     "name": "stderr",
     "output_type": "stream",
     "text": [
      "                                                                                \r"
     ]
    },
    {
     "name": "stdout",
     "output_type": "stream",
     "text": [
      "iteration 4 Cost: 0.28322833547368675\n"
     ]
    },
    {
     "name": "stderr",
     "output_type": "stream",
     "text": [
      "                                                                                \r"
     ]
    },
    {
     "name": "stdout",
     "output_type": "stream",
     "text": [
      "iteration 5 Cost: 0.26114120581607964\n"
     ]
    },
    {
     "name": "stderr",
     "output_type": "stream",
     "text": [
      "                                                                                \r"
     ]
    },
    {
     "name": "stdout",
     "output_type": "stream",
     "text": [
      "iteration 6 Cost: 0.245885474441366\n"
     ]
    },
    {
     "name": "stderr",
     "output_type": "stream",
     "text": [
      "                                                                                \r"
     ]
    },
    {
     "name": "stdout",
     "output_type": "stream",
     "text": [
      "iteration 7 Cost: 0.23462107137152968\n"
     ]
    },
    {
     "name": "stderr",
     "output_type": "stream",
     "text": [
      "                                                                                \r"
     ]
    },
    {
     "name": "stdout",
     "output_type": "stream",
     "text": [
      "iteration 8 Cost: 0.22591372963627276\n"
     ]
    },
    {
     "name": "stderr",
     "output_type": "stream",
     "text": [
      "                                                                                \r"
     ]
    },
    {
     "name": "stdout",
     "output_type": "stream",
     "text": [
      "iteration 9 Cost: 0.2189551099717087\n"
     ]
    },
    {
     "name": "stderr",
     "output_type": "stream",
     "text": [
      "                                                                                \r"
     ]
    },
    {
     "name": "stdout",
     "output_type": "stream",
     "text": [
      "Accuracy of the model: 92.9978063615515 %\n",
      "Time for block 5: 26.832090377807617\n",
      "Block 6\n"
     ]
    },
    {
     "name": "stderr",
     "output_type": "stream",
     "text": [
      "                                                                                \r"
     ]
    },
    {
     "name": "stdout",
     "output_type": "stream",
     "text": [
      "24/02/15 10:52:47 WARN BlockManager: Task 610 already completed, not releasing lock for rdd_343_0\n"
     ]
    },
    {
     "name": "stderr",
     "output_type": "stream",
     "text": [
      "                                                                                \r"
     ]
    },
    {
     "name": "stdout",
     "output_type": "stream",
     "text": [
      "iteration 0 Cost: 1.0599528472902056\n"
     ]
    },
    {
     "name": "stderr",
     "output_type": "stream",
     "text": [
      "                                                                                \r"
     ]
    },
    {
     "name": "stdout",
     "output_type": "stream",
     "text": [
      "iteration 1 Cost: 0.5973086329094123\n"
     ]
    },
    {
     "name": "stderr",
     "output_type": "stream",
     "text": [
      "                                                                                \r"
     ]
    },
    {
     "name": "stdout",
     "output_type": "stream",
     "text": [
      "iteration 2 Cost: 0.4252618469872714\n"
     ]
    },
    {
     "name": "stderr",
     "output_type": "stream",
     "text": [
      "                                                                                \r"
     ]
    },
    {
     "name": "stdout",
     "output_type": "stream",
     "text": [
      "iteration 3 Cost: 0.34351794154258886\n"
     ]
    },
    {
     "name": "stderr",
     "output_type": "stream",
     "text": [
      "                                                                                \r"
     ]
    },
    {
     "name": "stdout",
     "output_type": "stream",
     "text": [
      "iteration 4 Cost: 0.2991576549306889\n"
     ]
    },
    {
     "name": "stderr",
     "output_type": "stream",
     "text": [
      "                                                                                \r"
     ]
    },
    {
     "name": "stdout",
     "output_type": "stream",
     "text": [
      "iteration 5 Cost: 0.2720669008068826\n"
     ]
    },
    {
     "name": "stderr",
     "output_type": "stream",
     "text": [
      "                                                                                \r"
     ]
    },
    {
     "name": "stdout",
     "output_type": "stream",
     "text": [
      "iteration 6 Cost: 0.25387017801364864\n"
     ]
    },
    {
     "name": "stderr",
     "output_type": "stream",
     "text": [
      "                                                                                \r"
     ]
    },
    {
     "name": "stdout",
     "output_type": "stream",
     "text": [
      "iteration 7 Cost: 0.2407648036567022\n"
     ]
    },
    {
     "name": "stderr",
     "output_type": "stream",
     "text": [
      "                                                                                \r"
     ]
    },
    {
     "name": "stdout",
     "output_type": "stream",
     "text": [
      "iteration 8 Cost: 0.23083447380128755\n"
     ]
    },
    {
     "name": "stderr",
     "output_type": "stream",
     "text": [
      "                                                                                \r"
     ]
    },
    {
     "name": "stdout",
     "output_type": "stream",
     "text": [
      "iteration 9 Cost: 0.2230199425572522\n"
     ]
    },
    {
     "name": "stderr",
     "output_type": "stream",
     "text": [
      "                                                                                \r"
     ]
    },
    {
     "name": "stdout",
     "output_type": "stream",
     "text": [
      "Accuracy of the model: 93.29635459610724 %\n",
      "Time for block 6: 26.718225955963135\n",
      "Block 7\n"
     ]
    },
    {
     "name": "stderr",
     "output_type": "stream",
     "text": [
      "                                                                                \r"
     ]
    },
    {
     "name": "stdout",
     "output_type": "stream",
     "text": [
      "iteration 0 Cost: 1.1386039045305485\n"
     ]
    },
    {
     "name": "stderr",
     "output_type": "stream",
     "text": [
      "                                                                                \r"
     ]
    },
    {
     "name": "stdout",
     "output_type": "stream",
     "text": [
      "iteration 1 Cost: 0.5654864028483532\n"
     ]
    },
    {
     "name": "stderr",
     "output_type": "stream",
     "text": [
      "                                                                                \r"
     ]
    },
    {
     "name": "stdout",
     "output_type": "stream",
     "text": [
      "iteration 2 Cost: 0.37623067382780523\n"
     ]
    },
    {
     "name": "stderr",
     "output_type": "stream",
     "text": [
      "                                                                                \r"
     ]
    },
    {
     "name": "stdout",
     "output_type": "stream",
     "text": [
      "iteration 3 Cost: 0.3090693792698208\n"
     ]
    },
    {
     "name": "stderr",
     "output_type": "stream",
     "text": [
      "                                                                                \r"
     ]
    },
    {
     "name": "stdout",
     "output_type": "stream",
     "text": [
      "iteration 4 Cost: 0.2750362643599329\n"
     ]
    },
    {
     "name": "stderr",
     "output_type": "stream",
     "text": [
      "                                                                                \r"
     ]
    },
    {
     "name": "stdout",
     "output_type": "stream",
     "text": [
      "iteration 5 Cost: 0.25402365324853327\n"
     ]
    },
    {
     "name": "stderr",
     "output_type": "stream",
     "text": [
      "                                                                                \r"
     ]
    },
    {
     "name": "stdout",
     "output_type": "stream",
     "text": [
      "iteration 6 Cost: 0.23958601334818813\n"
     ]
    },
    {
     "name": "stderr",
     "output_type": "stream",
     "text": [
      "[Stage 197:==========================================>              (3 + 1) / 4]\r"
     ]
    },
    {
     "name": "stdout",
     "output_type": "stream",
     "text": [
      "iteration 7 Cost: 0.2289839891667206\n"
     ]
    },
    {
     "name": "stderr",
     "output_type": "stream",
     "text": [
      "                                                                                \r"
     ]
    },
    {
     "name": "stdout",
     "output_type": "stream",
     "text": [
      "iteration 8 Cost: 0.22083545718660916\n"
     ]
    },
    {
     "name": "stderr",
     "output_type": "stream",
     "text": [
      "                                                                                \r"
     ]
    },
    {
     "name": "stdout",
     "output_type": "stream",
     "text": [
      "iteration 9 Cost: 0.21435973978660175\n"
     ]
    },
    {
     "name": "stderr",
     "output_type": "stream",
     "text": [
      "                                                                                \r"
     ]
    },
    {
     "name": "stdout",
     "output_type": "stream",
     "text": [
      "Accuracy of the model: 93.53291599353797 %\n",
      "Time for block 7: 26.08924698829651\n",
      "Block 8\n"
     ]
    },
    {
     "name": "stderr",
     "output_type": "stream",
     "text": [
      "                                                                                \r"
     ]
    },
    {
     "name": "stdout",
     "output_type": "stream",
     "text": [
      "24/02/15 10:53:44 WARN BlockManager: Task 804 already completed, not releasing lock for rdd_455_0\n"
     ]
    },
    {
     "name": "stderr",
     "output_type": "stream",
     "text": [
      "                                                                                \r"
     ]
    },
    {
     "name": "stdout",
     "output_type": "stream",
     "text": [
      "iteration 0 Cost: 1.0169780811240103\n"
     ]
    },
    {
     "name": "stderr",
     "output_type": "stream",
     "text": [
      "                                                                                \r"
     ]
    },
    {
     "name": "stdout",
     "output_type": "stream",
     "text": [
      "iteration 1 Cost: 0.5192306171565377\n"
     ]
    },
    {
     "name": "stderr",
     "output_type": "stream",
     "text": [
      "                                                                                \r"
     ]
    },
    {
     "name": "stdout",
     "output_type": "stream",
     "text": [
      "iteration 2 Cost: 0.3768860101447361\n"
     ]
    },
    {
     "name": "stderr",
     "output_type": "stream",
     "text": [
      "                                                                                \r"
     ]
    },
    {
     "name": "stdout",
     "output_type": "stream",
     "text": [
      "iteration 3 Cost: 0.3167907415764305\n"
     ]
    },
    {
     "name": "stderr",
     "output_type": "stream",
     "text": [
      "                                                                                \r"
     ]
    },
    {
     "name": "stdout",
     "output_type": "stream",
     "text": [
      "iteration 4 Cost: 0.28344916289919947\n"
     ]
    },
    {
     "name": "stderr",
     "output_type": "stream",
     "text": [
      "                                                                                \r"
     ]
    },
    {
     "name": "stdout",
     "output_type": "stream",
     "text": [
      "iteration 5 Cost: 0.2619546727362848\n"
     ]
    },
    {
     "name": "stderr",
     "output_type": "stream",
     "text": [
      "                                                                                \r"
     ]
    },
    {
     "name": "stdout",
     "output_type": "stream",
     "text": [
      "iteration 6 Cost: 0.2468021728248604\n"
     ]
    },
    {
     "name": "stderr",
     "output_type": "stream",
     "text": [
      "                                                                                \r"
     ]
    },
    {
     "name": "stdout",
     "output_type": "stream",
     "text": [
      "iteration 7 Cost: 0.23547843715670944\n"
     ]
    },
    {
     "name": "stderr",
     "output_type": "stream",
     "text": [
      "                                                                                \r"
     ]
    },
    {
     "name": "stdout",
     "output_type": "stream",
     "text": [
      "iteration 8 Cost: 0.22666192639708801\n"
     ]
    },
    {
     "name": "stderr",
     "output_type": "stream",
     "text": [
      "                                                                                \r"
     ]
    },
    {
     "name": "stdout",
     "output_type": "stream",
     "text": [
      "iteration 9 Cost: 0.2195856823842865\n"
     ]
    },
    {
     "name": "stderr",
     "output_type": "stream",
     "text": [
      "                                                                                \r"
     ]
    },
    {
     "name": "stdout",
     "output_type": "stream",
     "text": [
      "Accuracy of the model: 92.08808122936372 %\n",
      "Time for block 8: 25.986318349838257\n",
      "Block 9\n"
     ]
    },
    {
     "name": "stderr",
     "output_type": "stream",
     "text": [
      "                                                                                \r"
     ]
    },
    {
     "name": "stdout",
     "output_type": "stream",
     "text": [
      "iteration 0 Cost: 1.0916492732240084\n"
     ]
    },
    {
     "name": "stderr",
     "output_type": "stream",
     "text": [
      "                                                                                \r"
     ]
    },
    {
     "name": "stdout",
     "output_type": "stream",
     "text": [
      "iteration 1 Cost: 0.5876998869016037\n"
     ]
    },
    {
     "name": "stderr",
     "output_type": "stream",
     "text": [
      "                                                                                \r"
     ]
    },
    {
     "name": "stdout",
     "output_type": "stream",
     "text": [
      "iteration 2 Cost: 0.40394021411435393\n"
     ]
    },
    {
     "name": "stderr",
     "output_type": "stream",
     "text": [
      "                                                                                \r"
     ]
    },
    {
     "name": "stdout",
     "output_type": "stream",
     "text": [
      "iteration 3 Cost: 0.32549513796482527\n"
     ]
    },
    {
     "name": "stderr",
     "output_type": "stream",
     "text": [
      "[Stage 242:==============>                                          (1 + 3) / 4]\r"
     ]
    },
    {
     "name": "stdout",
     "output_type": "stream",
     "text": [
      "iteration 4 Cost: 0.2849687226836305\n"
     ]
    },
    {
     "name": "stderr",
     "output_type": "stream",
     "text": [
      "                                                                                \r"
     ]
    },
    {
     "name": "stdout",
     "output_type": "stream",
     "text": [
      "iteration 5 Cost: 0.26058485448278035\n"
     ]
    },
    {
     "name": "stderr",
     "output_type": "stream",
     "text": [
      "                                                                                \r"
     ]
    },
    {
     "name": "stdout",
     "output_type": "stream",
     "text": [
      "iteration 6 Cost: 0.24428736759446304\n"
     ]
    },
    {
     "name": "stderr",
     "output_type": "stream",
     "text": [
      "                                                                                \r"
     ]
    },
    {
     "name": "stdout",
     "output_type": "stream",
     "text": [
      "iteration 7 Cost: 0.23257706565483663\n"
     ]
    },
    {
     "name": "stderr",
     "output_type": "stream",
     "text": [
      "                                                                                \r"
     ]
    },
    {
     "name": "stdout",
     "output_type": "stream",
     "text": [
      "iteration 8 Cost: 0.22371709164753653\n"
     ]
    },
    {
     "name": "stderr",
     "output_type": "stream",
     "text": [
      "                                                                                \r"
     ]
    },
    {
     "name": "stdout",
     "output_type": "stream",
     "text": [
      "iteration 9 Cost: 0.21675263183055637\n"
     ]
    },
    {
     "name": "stderr",
     "output_type": "stream",
     "text": [
      "[Stage 254:==============>                                          (1 + 3) / 4]\r"
     ]
    },
    {
     "name": "stdout",
     "output_type": "stream",
     "text": [
      "Accuracy of the model: 93.05116232364311 %\n",
      "Time for block 9: 25.79383683204651\n",
      "Average accuracy: 92.91786036844442 %\n",
      "Total time: 261.0925416946411 s\n"
     ]
    },
    {
     "name": "stderr",
     "output_type": "stream",
     "text": [
      "\r\n",
      "                                                                                \r"
     ]
    }
   ],
   "source": [
    "#EXERCISE 3: CROSS-VALIDATION\n",
    "\n",
    "#Execution parameters\n",
    "path = \"./botnet_reduced_l.csv\"\n",
    "\n",
    "_, _ = test_cv(path)"
   ]
  },
  {
   "cell_type": "markdown",
   "metadata": {},
   "source": [
    "# Gráficas"
   ]
  },
  {
   "cell_type": "code",
   "execution_count": 13,
   "metadata": {
    "ExecuteTime": {
     "end_time": "2024-02-15T10:42:47.971574Z",
     "start_time": "2024-02-15T09:54:39.033974Z"
    }
   },
   "outputs": [
    {
     "name": "stdout",
     "output_type": "stream",
     "text": [
      "Test with 1 core/s\n"
     ]
    },
    {
     "name": "stderr",
     "output_type": "stream",
     "text": [
      "                                                                                \r"
     ]
    },
    {
     "name": "stdout",
     "output_type": "stream",
     "text": [
      "Means: [1.27838919e+03 2.13364895e+04 6.93013712e+03 6.25819129e+04\n",
      " 1.22276971e+08 1.57460545e+07 9.11132215e+00 1.89416481e+00\n",
      " 1.24196646e+02 2.12980313e+09 2.25738831e+09]\n",
      "\n",
      "Std: [1.60563017e+03 2.41267530e+04 1.63668384e+04 1.34535232e+05\n",
      " 2.34005376e+08 4.41865109e+07 5.28106132e+00 2.10223611e+00\n",
      " 9.03451248e+01 7.14764695e+08 1.30262025e+09]\n",
      "\n",
      "Block 0\n"
     ]
    },
    {
     "name": "stderr",
     "output_type": "stream",
     "text": [
      "                                                                                \r"
     ]
    },
    {
     "name": "stdout",
     "output_type": "stream",
     "text": [
      "24/02/15 10:54:57 WARN BlockManager: Task 28 already completed, not releasing lock for rdd_7_0\n"
     ]
    },
    {
     "name": "stderr",
     "output_type": "stream",
     "text": [
      "                                                                                \r"
     ]
    },
    {
     "name": "stdout",
     "output_type": "stream",
     "text": [
      "Accuracy of the model: 91.89189189189189 %\n",
      "Time for block 0: 54.320456743240356\n",
      "Block 1\n"
     ]
    },
    {
     "name": "stderr",
     "output_type": "stream",
     "text": [
      "                                                                                \r"
     ]
    },
    {
     "name": "stdout",
     "output_type": "stream",
     "text": [
      "24/02/15 10:55:58 WARN BlockManager: Task 125 already completed, not releasing lock for rdd_63_0\n"
     ]
    },
    {
     "name": "stderr",
     "output_type": "stream",
     "text": [
      "                                                                                \r"
     ]
    },
    {
     "name": "stdout",
     "output_type": "stream",
     "text": [
      "Accuracy of the model: 92.50911998400879 %\n",
      "Time for block 1: 54.711886405944824\n",
      "Block 2\n"
     ]
    },
    {
     "name": "stderr",
     "output_type": "stream",
     "text": [
      "                                                                                \r"
     ]
    },
    {
     "name": "stdout",
     "output_type": "stream",
     "text": [
      "24/02/15 10:56:59 WARN BlockManager: Task 222 already completed, not releasing lock for rdd_119_0\n"
     ]
    },
    {
     "name": "stderr",
     "output_type": "stream",
     "text": [
      "                                                                                \r"
     ]
    },
    {
     "name": "stdout",
     "output_type": "stream",
     "text": [
      "Accuracy of the model: 93.40959150981178 %\n",
      "Time for block 2: 57.212557792663574\n",
      "Block 3\n"
     ]
    },
    {
     "name": "stderr",
     "output_type": "stream",
     "text": [
      "                                                                                \r"
     ]
    },
    {
     "name": "stdout",
     "output_type": "stream",
     "text": [
      "24/02/15 10:58:03 WARN BlockManager: Task 319 already completed, not releasing lock for rdd_175_0\n"
     ]
    },
    {
     "name": "stderr",
     "output_type": "stream",
     "text": [
      "                                                                                \r"
     ]
    },
    {
     "name": "stdout",
     "output_type": "stream",
     "text": [
      "Accuracy of the model: 93.35207873066881 %\n",
      "Time for block 3: 56.139418601989746\n",
      "Block 4\n"
     ]
    },
    {
     "name": "stderr",
     "output_type": "stream",
     "text": [
      "                                                                                \r"
     ]
    },
    {
     "name": "stdout",
     "output_type": "stream",
     "text": [
      "Accuracy of the model: 93.46954123840561 %\n",
      "Time for block 4: 63.03598093986511\n",
      "Block 5\n"
     ]
    },
    {
     "name": "stderr",
     "output_type": "stream",
     "text": [
      "                                                                                \r"
     ]
    },
    {
     "name": "stdout",
     "output_type": "stream",
     "text": [
      "24/02/15 11:00:17 WARN BlockManager: Task 513 already completed, not releasing lock for rdd_287_0\n"
     ]
    },
    {
     "name": "stderr",
     "output_type": "stream",
     "text": [
      "                                                                                \r"
     ]
    },
    {
     "name": "stdout",
     "output_type": "stream",
     "text": [
      "Accuracy of the model: 92.86001003512293 %\n",
      "Time for block 5: 62.283493757247925\n",
      "Block 6\n"
     ]
    },
    {
     "name": "stderr",
     "output_type": "stream",
     "text": [
      "                                                                                \r"
     ]
    },
    {
     "name": "stdout",
     "output_type": "stream",
     "text": [
      "Accuracy of the model: 93.18534461184244 %\n",
      "Time for block 6: 60.55998611450195\n",
      "Block 7\n"
     ]
    },
    {
     "name": "stderr",
     "output_type": "stream",
     "text": [
      "                                                                                \r"
     ]
    },
    {
     "name": "stdout",
     "output_type": "stream",
     "text": [
      "24/02/15 11:02:34 WARN BlockManager: Task 707 already completed, not releasing lock for rdd_399_0\n"
     ]
    },
    {
     "name": "stderr",
     "output_type": "stream",
     "text": [
      "                                                                                \r"
     ]
    },
    {
     "name": "stdout",
     "output_type": "stream",
     "text": [
      "Accuracy of the model: 93.08543868855736 %\n",
      "Time for block 7: 57.963295698165894\n",
      "Block 8\n"
     ]
    },
    {
     "name": "stderr",
     "output_type": "stream",
     "text": [
      "                                                                                \r"
     ]
    },
    {
     "name": "stdout",
     "output_type": "stream",
     "text": [
      "24/02/15 11:03:39 WARN BlockManager: Task 804 already completed, not releasing lock for rdd_455_0\n"
     ]
    },
    {
     "name": "stderr",
     "output_type": "stream",
     "text": [
      "                                                                                \r"
     ]
    },
    {
     "name": "stdout",
     "output_type": "stream",
     "text": [
      "Accuracy of the model: 93.22286537649367 %\n",
      "Time for block 8: 58.35130572319031\n",
      "Block 9\n"
     ]
    },
    {
     "name": "stderr",
     "output_type": "stream",
     "text": [
      "                                                                                \r"
     ]
    },
    {
     "name": "stdout",
     "output_type": "stream",
     "text": [
      "24/02/15 11:04:44 WARN BlockManager: Task 901 already completed, not releasing lock for rdd_511_0\n"
     ]
    },
    {
     "name": "stderr",
     "output_type": "stream",
     "text": [
      "                                                                                \r"
     ]
    },
    {
     "name": "stdout",
     "output_type": "stream",
     "text": [
      "Accuracy of the model: 93.20410093067237 %\n",
      "Time for block 9: 56.841938972473145\n",
      "Average accuracy: 93.01899829974755 %\n",
      "Total time: 581.4203207492828 s\n",
      "Test with 2 core/s\n"
     ]
    },
    {
     "name": "stderr",
     "output_type": "stream",
     "text": [
      "                                                                                \r"
     ]
    },
    {
     "name": "stdout",
     "output_type": "stream",
     "text": [
      "Means: [1.27838919e+03 2.13364895e+04 6.93013712e+03 6.25819129e+04\n",
      " 1.22276971e+08 1.57460545e+07 9.11132215e+00 1.89416481e+00\n",
      " 1.24196646e+02 2.12980313e+09 2.25738831e+09]\n",
      "\n",
      "Std: [1.60563017e+03 2.41267530e+04 1.63668384e+04 1.34535232e+05\n",
      " 2.34005376e+08 4.41865109e+07 5.28106132e+00 2.10223611e+00\n",
      " 9.03451248e+01 7.14764695e+08 1.30262025e+09]\n",
      "\n",
      "Block 0\n"
     ]
    },
    {
     "name": "stderr",
     "output_type": "stream",
     "text": [
      "                                                                                \r"
     ]
    },
    {
     "name": "stdout",
     "output_type": "stream",
     "text": [
      "24/02/15 11:05:54 WARN BlockManager: Task 28 already completed, not releasing lock for rdd_7_0\n"
     ]
    },
    {
     "name": "stderr",
     "output_type": "stream",
     "text": [
      "                                                                                \r"
     ]
    },
    {
     "name": "stdout",
     "output_type": "stream",
     "text": [
      "Accuracy of the model: 93.11221945137157 %\n",
      "Time for block 0: 36.00295281410217\n",
      "Block 1\n"
     ]
    },
    {
     "name": "stderr",
     "output_type": "stream",
     "text": [
      "                                                                                \r"
     ]
    },
    {
     "name": "stdout",
     "output_type": "stream",
     "text": [
      "24/02/15 11:06:34 WARN BlockManager: Task 125 already completed, not releasing lock for rdd_63_0\n"
     ]
    },
    {
     "name": "stderr",
     "output_type": "stream",
     "text": [
      "                                                                                \r"
     ]
    },
    {
     "name": "stdout",
     "output_type": "stream",
     "text": [
      "Accuracy of the model: 93.38277812696417 %\n",
      "Time for block 1: 35.14899730682373\n",
      "Block 2\n"
     ]
    },
    {
     "name": "stderr",
     "output_type": "stream",
     "text": [
      "                                                                                \r"
     ]
    },
    {
     "name": "stdout",
     "output_type": "stream",
     "text": [
      "24/02/15 11:07:13 WARN BlockManager: Task 222 already completed, not releasing lock for rdd_119_0\n"
     ]
    },
    {
     "name": "stderr",
     "output_type": "stream",
     "text": [
      "                                                                                \r"
     ]
    },
    {
     "name": "stdout",
     "output_type": "stream",
     "text": [
      "Accuracy of the model: 92.30576063482498 %\n",
      "Time for block 2: 35.558818101882935\n",
      "Block 3\n"
     ]
    },
    {
     "name": "stderr",
     "output_type": "stream",
     "text": [
      "                                                                                \r"
     ]
    },
    {
     "name": "stdout",
     "output_type": "stream",
     "text": [
      "24/02/15 11:07:53 WARN BlockManager: Task 319 already completed, not releasing lock for rdd_175_0\n"
     ]
    },
    {
     "name": "stderr",
     "output_type": "stream",
     "text": [
      "                                                                                \r"
     ]
    },
    {
     "name": "stdout",
     "output_type": "stream",
     "text": [
      "Accuracy of the model: 92.81596230009525 %\n",
      "Time for block 3: 35.552330493927\n",
      "Block 4\n"
     ]
    },
    {
     "name": "stderr",
     "output_type": "stream",
     "text": [
      "                                                                                \r"
     ]
    },
    {
     "name": "stdout",
     "output_type": "stream",
     "text": [
      "24/02/15 11:08:32 WARN BlockManager: Task 416 already completed, not releasing lock for rdd_231_0\n"
     ]
    },
    {
     "name": "stderr",
     "output_type": "stream",
     "text": [
      "                                                                                \r"
     ]
    },
    {
     "name": "stdout",
     "output_type": "stream",
     "text": [
      "Accuracy of the model: 92.53694151653335 %\n",
      "Time for block 4: 36.08882188796997\n",
      "Block 5\n"
     ]
    },
    {
     "name": "stderr",
     "output_type": "stream",
     "text": [
      "                                                                                \r"
     ]
    },
    {
     "name": "stdout",
     "output_type": "stream",
     "text": [
      "24/02/15 11:09:13 WARN BlockManager: Task 513 already completed, not releasing lock for rdd_287_0\n"
     ]
    },
    {
     "name": "stderr",
     "output_type": "stream",
     "text": [
      "                                                                                \r"
     ]
    },
    {
     "name": "stdout",
     "output_type": "stream",
     "text": [
      "Accuracy of the model: 92.57961145603845 %\n",
      "Time for block 5: 36.02391695976257\n",
      "Block 6\n"
     ]
    },
    {
     "name": "stderr",
     "output_type": "stream",
     "text": [
      "                                                                                \r"
     ]
    },
    {
     "name": "stdout",
     "output_type": "stream",
     "text": [
      "24/02/15 11:09:53 WARN BlockManager: Task 610 already completed, not releasing lock for rdd_343_0\n"
     ]
    },
    {
     "name": "stderr",
     "output_type": "stream",
     "text": [
      "                                                                                \r"
     ]
    },
    {
     "name": "stdout",
     "output_type": "stream",
     "text": [
      "Accuracy of the model: 93.43360787464846 %\n",
      "Time for block 6: 36.82913637161255\n",
      "Block 7\n"
     ]
    },
    {
     "name": "stderr",
     "output_type": "stream",
     "text": [
      "                                                                                \r"
     ]
    },
    {
     "name": "stdout",
     "output_type": "stream",
     "text": [
      "Accuracy of the model: 93.21496831304698 %\n",
      "Time for block 7: 37.306580543518066\n",
      "Block 8\n"
     ]
    },
    {
     "name": "stderr",
     "output_type": "stream",
     "text": [
      "                                                                                \r"
     ]
    },
    {
     "name": "stdout",
     "output_type": "stream",
     "text": [
      "24/02/15 11:11:15 WARN BlockManager: Task 804 already completed, not releasing lock for rdd_455_0\n"
     ]
    },
    {
     "name": "stderr",
     "output_type": "stream",
     "text": [
      "                                                                                \r"
     ]
    },
    {
     "name": "stdout",
     "output_type": "stream",
     "text": [
      "Accuracy of the model: 92.28485912880006 %\n",
      "Time for block 8: 36.73658561706543\n",
      "Block 9\n"
     ]
    },
    {
     "name": "stderr",
     "output_type": "stream",
     "text": [
      "                                                                                \r"
     ]
    },
    {
     "name": "stdout",
     "output_type": "stream",
     "text": [
      "24/02/15 11:11:56 WARN BlockManager: Task 901 already completed, not releasing lock for rdd_511_0\n"
     ]
    },
    {
     "name": "stderr",
     "output_type": "stream",
     "text": [
      "                                                                                \r"
     ]
    },
    {
     "name": "stdout",
     "output_type": "stream",
     "text": [
      "Accuracy of the model: 91.19493745983092 %\n",
      "Time for block 9: 36.79313659667969\n",
      "Average accuracy: 92.68616462621542 %\n",
      "Total time: 362.0412766933441 s\n",
      "Test with 3 core/s\n"
     ]
    },
    {
     "name": "stderr",
     "output_type": "stream",
     "text": [
      "                                                                                \r"
     ]
    },
    {
     "name": "stdout",
     "output_type": "stream",
     "text": [
      "Means: [1.27838919e+03 2.13364895e+04 6.93013712e+03 6.25819129e+04\n",
      " 1.22276971e+08 1.57460545e+07 9.11132215e+00 1.89416481e+00\n",
      " 1.24196646e+02 2.12980313e+09 2.25738831e+09]\n",
      "\n",
      "Std: [1.60563017e+03 2.41267530e+04 1.63668384e+04 1.34535232e+05\n",
      " 2.34005376e+08 4.41865109e+07 5.28106132e+00 2.10223611e+00\n",
      " 9.03451248e+01 7.14764695e+08 1.30262025e+09]\n",
      "\n",
      "Block 0\n"
     ]
    },
    {
     "name": "stderr",
     "output_type": "stream",
     "text": [
      "                                                                                \r"
     ]
    },
    {
     "name": "stdout",
     "output_type": "stream",
     "text": [
      "24/02/15 11:12:43 WARN BlockManager: Task 28 already completed, not releasing lock for rdd_7_0\n"
     ]
    },
    {
     "name": "stderr",
     "output_type": "stream",
     "text": [
      "                                                                                \r"
     ]
    },
    {
     "name": "stdout",
     "output_type": "stream",
     "text": [
      "Accuracy of the model: 94.32339738740102 %\n",
      "Time for block 0: 29.261452436447144\n",
      "Block 1\n"
     ]
    },
    {
     "name": "stderr",
     "output_type": "stream",
     "text": [
      "                                                                                \r"
     ]
    },
    {
     "name": "stdout",
     "output_type": "stream",
     "text": [
      "24/02/15 11:13:14 WARN BlockManager: Task 125 already completed, not releasing lock for rdd_63_0\n"
     ]
    },
    {
     "name": "stderr",
     "output_type": "stream",
     "text": [
      "                                                                                \r"
     ]
    },
    {
     "name": "stdout",
     "output_type": "stream",
     "text": [
      "Accuracy of the model: 93.2991504549339 %\n",
      "Time for block 1: 28.609909296035767\n",
      "Block 2\n"
     ]
    },
    {
     "name": "stderr",
     "output_type": "stream",
     "text": [
      "                                                                                \r"
     ]
    },
    {
     "name": "stdout",
     "output_type": "stream",
     "text": [
      "Accuracy of the model: 93.76661150393662 %\n",
      "Time for block 2: 28.365260362625122\n",
      "Block 3\n"
     ]
    },
    {
     "name": "stderr",
     "output_type": "stream",
     "text": [
      "                                                                                \r"
     ]
    },
    {
     "name": "stdout",
     "output_type": "stream",
     "text": [
      "24/02/15 11:14:17 WARN BlockManager: Task 319 already completed, not releasing lock for rdd_175_0\n"
     ]
    },
    {
     "name": "stderr",
     "output_type": "stream",
     "text": [
      "                                                                                \r"
     ]
    },
    {
     "name": "stdout",
     "output_type": "stream",
     "text": [
      "Accuracy of the model: 93.47210741213897 %\n",
      "Time for block 3: 28.441220998764038\n",
      "Block 4\n"
     ]
    },
    {
     "name": "stderr",
     "output_type": "stream",
     "text": [
      "                                                                                \r"
     ]
    },
    {
     "name": "stdout",
     "output_type": "stream",
     "text": [
      "24/02/15 11:14:48 WARN BlockManager: Task 416 already completed, not releasing lock for rdd_231_0\n"
     ]
    },
    {
     "name": "stderr",
     "output_type": "stream",
     "text": [
      "                                                                                \r"
     ]
    },
    {
     "name": "stdout",
     "output_type": "stream",
     "text": [
      "Accuracy of the model: 93.78605859287195 %\n",
      "Time for block 4: 28.991633415222168\n",
      "Block 5\n"
     ]
    },
    {
     "name": "stderr",
     "output_type": "stream",
     "text": [
      "                                                                                \r"
     ]
    },
    {
     "name": "stdout",
     "output_type": "stream",
     "text": [
      "24/02/15 11:15:20 WARN BlockManager: Task 513 already completed, not releasing lock for rdd_287_0\n"
     ]
    },
    {
     "name": "stderr",
     "output_type": "stream",
     "text": [
      "                                                                                \r"
     ]
    },
    {
     "name": "stdout",
     "output_type": "stream",
     "text": [
      "Accuracy of the model: 92.8276380022531 %\n",
      "Time for block 5: 28.348807334899902\n",
      "Block 6\n"
     ]
    },
    {
     "name": "stderr",
     "output_type": "stream",
     "text": [
      "                                                                                \r"
     ]
    },
    {
     "name": "stdout",
     "output_type": "stream",
     "text": [
      "24/02/15 11:15:51 WARN BlockManager: Task 610 already completed, not releasing lock for rdd_343_0\n"
     ]
    },
    {
     "name": "stderr",
     "output_type": "stream",
     "text": [
      "                                                                                \r"
     ]
    },
    {
     "name": "stdout",
     "output_type": "stream",
     "text": [
      "Accuracy of the model: 92.28931255911195 %\n",
      "Time for block 6: 29.100457191467285\n",
      "Block 7\n"
     ]
    },
    {
     "name": "stderr",
     "output_type": "stream",
     "text": [
      "                                                                                \r"
     ]
    },
    {
     "name": "stdout",
     "output_type": "stream",
     "text": [
      "24/02/15 11:16:23 WARN BlockManager: Task 707 already completed, not releasing lock for rdd_399_0\n"
     ]
    },
    {
     "name": "stderr",
     "output_type": "stream",
     "text": [
      "                                                                                \r"
     ]
    },
    {
     "name": "stdout",
     "output_type": "stream",
     "text": [
      "Accuracy of the model: 93.99164185080454 %\n",
      "Time for block 7: 30.274606466293335\n",
      "Block 8\n"
     ]
    },
    {
     "name": "stderr",
     "output_type": "stream",
     "text": [
      "                                                                                \r"
     ]
    },
    {
     "name": "stdout",
     "output_type": "stream",
     "text": [
      "24/02/15 11:16:56 WARN BlockManager: Task 804 already completed, not releasing lock for rdd_455_0\n"
     ]
    },
    {
     "name": "stderr",
     "output_type": "stream",
     "text": [
      "                                                                                \r"
     ]
    },
    {
     "name": "stdout",
     "output_type": "stream",
     "text": [
      "Accuracy of the model: 92.73953778888195 %\n",
      "Time for block 8: 29.991779327392578\n",
      "Block 9\n"
     ]
    },
    {
     "name": "stderr",
     "output_type": "stream",
     "text": [
      "                                                                                \r"
     ]
    },
    {
     "name": "stdout",
     "output_type": "stream",
     "text": [
      "24/02/15 11:17:29 WARN BlockManager: Task 901 already completed, not releasing lock for rdd_511_0\n"
     ]
    },
    {
     "name": "stderr",
     "output_type": "stream",
     "text": [
      "                                                                                \r"
     ]
    },
    {
     "name": "stdout",
     "output_type": "stream",
     "text": [
      "Accuracy of the model: 93.63479478778481 %\n",
      "Time for block 9: 29.841899871826172\n",
      "Average accuracy: 93.41302503401188 %\n",
      "Total time: 291.2270267009735 s\n",
      "Test with 4 core/s\n"
     ]
    },
    {
     "name": "stderr",
     "output_type": "stream",
     "text": [
      "                                                                                \r"
     ]
    },
    {
     "name": "stdout",
     "output_type": "stream",
     "text": [
      "Means: [1.27838919e+03 2.13364895e+04 6.93013712e+03 6.25819129e+04\n",
      " 1.22276971e+08 1.57460545e+07 9.11132215e+00 1.89416481e+00\n",
      " 1.24196646e+02 2.12980313e+09 2.25738831e+09]\n",
      "\n",
      "Std: [1.60563017e+03 2.41267530e+04 1.63668384e+04 1.34535232e+05\n",
      " 2.34005376e+08 4.41865109e+07 5.28106132e+00 2.10223611e+00\n",
      " 9.03451248e+01 7.14764695e+08 1.30262025e+09]\n",
      "\n",
      "Block 0\n"
     ]
    },
    {
     "name": "stderr",
     "output_type": "stream",
     "text": [
      "                                                                                \r"
     ]
    },
    {
     "name": "stdout",
     "output_type": "stream",
     "text": [
      "24/02/15 11:18:07 WARN BlockManager: Task 28 already completed, not releasing lock for rdd_7_0\n"
     ]
    },
    {
     "name": "stderr",
     "output_type": "stream",
     "text": [
      "                                                                                \r"
     ]
    },
    {
     "name": "stdout",
     "output_type": "stream",
     "text": [
      "Accuracy of the model: 92.85286932243108 %\n",
      "Time for block 0: 29.131752490997314\n",
      "Block 1\n"
     ]
    },
    {
     "name": "stderr",
     "output_type": "stream",
     "text": [
      "                                                                                \r"
     ]
    },
    {
     "name": "stdout",
     "output_type": "stream",
     "text": [
      "24/02/15 11:18:39 WARN BlockManager: Task 125 already completed, not releasing lock for rdd_63_0\n"
     ]
    },
    {
     "name": "stderr",
     "output_type": "stream",
     "text": [
      "                                                                                \r"
     ]
    },
    {
     "name": "stdout",
     "output_type": "stream",
     "text": [
      "Accuracy of the model: 93.48391615388464 %\n",
      "Time for block 1: 28.833341360092163\n",
      "Block 2\n"
     ]
    },
    {
     "name": "stderr",
     "output_type": "stream",
     "text": [
      "                                                                                \r"
     ]
    },
    {
     "name": "stdout",
     "output_type": "stream",
     "text": [
      "24/02/15 11:19:10 WARN BlockManager: Task 222 already completed, not releasing lock for rdd_119_0\n"
     ]
    },
    {
     "name": "stderr",
     "output_type": "stream",
     "text": [
      "                                                                                \r"
     ]
    },
    {
     "name": "stdout",
     "output_type": "stream",
     "text": [
      "Accuracy of the model: 92.94200035014882 %\n",
      "Time for block 2: 28.32732343673706\n",
      "Block 3\n"
     ]
    },
    {
     "name": "stderr",
     "output_type": "stream",
     "text": [
      "                                                                                \r"
     ]
    },
    {
     "name": "stdout",
     "output_type": "stream",
     "text": [
      "24/02/15 11:19:41 WARN BlockManager: Task 319 already completed, not releasing lock for rdd_175_0\n"
     ]
    },
    {
     "name": "stderr",
     "output_type": "stream",
     "text": [
      "                                                                                \r"
     ]
    },
    {
     "name": "stdout",
     "output_type": "stream",
     "text": [
      "Accuracy of the model: 92.89139987445073 %\n",
      "Time for block 3: 29.186718463897705\n",
      "Block 4\n"
     ]
    },
    {
     "name": "stderr",
     "output_type": "stream",
     "text": [
      "                                                                                \r"
     ]
    },
    {
     "name": "stdout",
     "output_type": "stream",
     "text": [
      "24/02/15 11:20:12 WARN BlockManager: Task 416 already completed, not releasing lock for rdd_231_0\n"
     ]
    },
    {
     "name": "stderr",
     "output_type": "stream",
     "text": [
      "                                                                                \r"
     ]
    },
    {
     "name": "stdout",
     "output_type": "stream",
     "text": [
      "Accuracy of the model: 92.38698460009935 %\n",
      "Time for block 4: 27.222757816314697\n",
      "Block 5\n"
     ]
    },
    {
     "name": "stderr",
     "output_type": "stream",
     "text": [
      "                                                                                \r"
     ]
    },
    {
     "name": "stdout",
     "output_type": "stream",
     "text": [
      "24/02/15 11:20:42 WARN BlockManager: Task 513 already completed, not releasing lock for rdd_287_0\n"
     ]
    },
    {
     "name": "stderr",
     "output_type": "stream",
     "text": [
      "                                                                                \r"
     ]
    },
    {
     "name": "stdout",
     "output_type": "stream",
     "text": [
      "Accuracy of the model: 92.62506575816028 %\n",
      "Time for block 5: 28.012690544128418\n",
      "Block 6\n"
     ]
    },
    {
     "name": "stderr",
     "output_type": "stream",
     "text": [
      "                                                                                \r"
     ]
    },
    {
     "name": "stdout",
     "output_type": "stream",
     "text": [
      "24/02/15 11:21:13 WARN BlockManager: Task 610 already completed, not releasing lock for rdd_343_0\n"
     ]
    },
    {
     "name": "stderr",
     "output_type": "stream",
     "text": [
      "                                                                                \r"
     ]
    },
    {
     "name": "stdout",
     "output_type": "stream",
     "text": [
      "Accuracy of the model: 92.30308774380207 %\n",
      "Time for block 6: 28.017245054244995\n",
      "Block 7\n"
     ]
    },
    {
     "name": "stderr",
     "output_type": "stream",
     "text": [
      "                                                                                \r"
     ]
    },
    {
     "name": "stdout",
     "output_type": "stream",
     "text": [
      "24/02/15 11:21:43 WARN BlockManager: Task 707 already completed, not releasing lock for rdd_399_0\n"
     ]
    },
    {
     "name": "stderr",
     "output_type": "stream",
     "text": [
      "                                                                                \r"
     ]
    },
    {
     "name": "stdout",
     "output_type": "stream",
     "text": [
      "Accuracy of the model: 93.02203436460496 %\n",
      "Time for block 7: 27.136036157608032\n",
      "Block 8\n"
     ]
    },
    {
     "name": "stderr",
     "output_type": "stream",
     "text": [
      "                                                                                \r"
     ]
    },
    {
     "name": "stdout",
     "output_type": "stream",
     "text": [
      "24/02/15 11:22:12 WARN BlockManager: Task 804 already completed, not releasing lock for rdd_455_0\n"
     ]
    },
    {
     "name": "stderr",
     "output_type": "stream",
     "text": [
      "                                                                                \r"
     ]
    },
    {
     "name": "stdout",
     "output_type": "stream",
     "text": [
      "Accuracy of the model: 92.89479601269143 %\n",
      "Time for block 8: 25.581026077270508\n",
      "Block 9\n"
     ]
    },
    {
     "name": "stderr",
     "output_type": "stream",
     "text": [
      "                                                                                \r"
     ]
    },
    {
     "name": "stdout",
     "output_type": "stream",
     "text": [
      "24/02/15 11:22:40 WARN BlockManager: Task 901 already completed, not releasing lock for rdd_511_0\n"
     ]
    },
    {
     "name": "stderr",
     "output_type": "stream",
     "text": [
      "                                                                                \r"
     ]
    },
    {
     "name": "stdout",
     "output_type": "stream",
     "text": [
      "Accuracy of the model: 91.91695673794132 %\n",
      "Time for block 9: 26.54500436782837\n",
      "Average accuracy: 92.73191109182147 %\n",
      "Total time: 277.99389576911926 s\n",
      "Test with 5 core/s\n"
     ]
    },
    {
     "name": "stderr",
     "output_type": "stream",
     "text": [
      "                                                                                \r"
     ]
    },
    {
     "name": "stdout",
     "output_type": "stream",
     "text": [
      "Means: [1.27838919e+03 2.13364895e+04 6.93013712e+03 6.25819129e+04\n",
      " 1.22276971e+08 1.57460545e+07 9.11132215e+00 1.89416481e+00\n",
      " 1.24196646e+02 2.12980313e+09 2.25738831e+09]\n",
      "\n",
      "Std: [1.60563017e+03 2.41267530e+04 1.63668384e+04 1.34535232e+05\n",
      " 2.34005376e+08 4.41865109e+07 5.28106132e+00 2.10223611e+00\n",
      " 9.03451248e+01 7.14764695e+08 1.30262025e+09]\n",
      "\n",
      "Block 0\n"
     ]
    },
    {
     "name": "stderr",
     "output_type": "stream",
     "text": [
      "                                                                                \r"
     ]
    },
    {
     "name": "stdout",
     "output_type": "stream",
     "text": [
      "24/02/15 11:23:14 WARN BlockManager: Task 28 already completed, not releasing lock for rdd_7_0\n"
     ]
    },
    {
     "name": "stderr",
     "output_type": "stream",
     "text": [
      "                                                                                \r"
     ]
    },
    {
     "name": "stdout",
     "output_type": "stream",
     "text": [
      "Accuracy of the model: 93.41848234410217 %\n",
      "Time for block 0: 26.17509961128235\n",
      "Block 1\n"
     ]
    },
    {
     "name": "stderr",
     "output_type": "stream",
     "text": [
      "                                                                                \r"
     ]
    },
    {
     "name": "stdout",
     "output_type": "stream",
     "text": [
      "24/02/15 11:23:43 WARN BlockManager: Task 125 already completed, not releasing lock for rdd_63_0\n"
     ]
    },
    {
     "name": "stderr",
     "output_type": "stream",
     "text": [
      "                                                                                \r"
     ]
    },
    {
     "name": "stdout",
     "output_type": "stream",
     "text": [
      "Accuracy of the model: 93.64006432807318 %\n",
      "Time for block 1: 25.452704906463623\n",
      "Block 2\n"
     ]
    },
    {
     "name": "stderr",
     "output_type": "stream",
     "text": [
      "                                                                                \r"
     ]
    },
    {
     "name": "stdout",
     "output_type": "stream",
     "text": [
      "24/02/15 11:24:10 WARN BlockManager: Task 222 already completed, not releasing lock for rdd_119_0\n"
     ]
    },
    {
     "name": "stderr",
     "output_type": "stream",
     "text": [
      "                                                                                \r"
     ]
    },
    {
     "name": "stdout",
     "output_type": "stream",
     "text": [
      "Accuracy of the model: 91.89905047476262 %\n",
      "Time for block 2: 25.298240661621094\n",
      "Block 3\n"
     ]
    },
    {
     "name": "stderr",
     "output_type": "stream",
     "text": [
      "                                                                                \r"
     ]
    },
    {
     "name": "stdout",
     "output_type": "stream",
     "text": [
      "24/02/15 11:24:38 WARN BlockManager: Task 319 already completed, not releasing lock for rdd_175_0\n"
     ]
    },
    {
     "name": "stderr",
     "output_type": "stream",
     "text": [
      "                                                                                \r"
     ]
    },
    {
     "name": "stdout",
     "output_type": "stream",
     "text": [
      "Accuracy of the model: 92.81441621824553 %\n",
      "Time for block 3: 29.61582088470459\n",
      "Block 4\n"
     ]
    },
    {
     "name": "stderr",
     "output_type": "stream",
     "text": [
      "                                                                                \r"
     ]
    },
    {
     "name": "stdout",
     "output_type": "stream",
     "text": [
      "24/02/15 11:25:11 WARN BlockManager: Task 416 already completed, not releasing lock for rdd_231_0\n"
     ]
    },
    {
     "name": "stderr",
     "output_type": "stream",
     "text": [
      "                                                                                \r"
     ]
    },
    {
     "name": "stdout",
     "output_type": "stream",
     "text": [
      "Accuracy of the model: 92.59648070385923 %\n",
      "Time for block 4: 29.467357873916626\n",
      "Block 5\n"
     ]
    },
    {
     "name": "stderr",
     "output_type": "stream",
     "text": [
      "                                                                                \r"
     ]
    },
    {
     "name": "stdout",
     "output_type": "stream",
     "text": [
      "24/02/15 11:25:42 WARN BlockManager: Task 513 already completed, not releasing lock for rdd_287_0\n"
     ]
    },
    {
     "name": "stderr",
     "output_type": "stream",
     "text": [
      "                                                                                \r"
     ]
    },
    {
     "name": "stdout",
     "output_type": "stream",
     "text": [
      "Accuracy of the model: 93.36879343653561 %\n",
      "Time for block 5: 26.564594507217407\n",
      "Block 6\n"
     ]
    },
    {
     "name": "stderr",
     "output_type": "stream",
     "text": [
      "                                                                                \r"
     ]
    },
    {
     "name": "stdout",
     "output_type": "stream",
     "text": [
      "24/02/15 11:26:11 WARN BlockManager: Task 610 already completed, not releasing lock for rdd_343_0\n"
     ]
    },
    {
     "name": "stderr",
     "output_type": "stream",
     "text": [
      "                                                                                \r"
     ]
    },
    {
     "name": "stdout",
     "output_type": "stream",
     "text": [
      "Accuracy of the model: 93.2712685437481 %\n",
      "Time for block 6: 26.580594062805176\n",
      "Block 7\n"
     ]
    },
    {
     "name": "stderr",
     "output_type": "stream",
     "text": [
      "                                                                                \r"
     ]
    },
    {
     "name": "stdout",
     "output_type": "stream",
     "text": [
      "24/02/15 11:26:40 WARN BlockManager: Task 707 already completed, not releasing lock for rdd_399_0\n"
     ]
    },
    {
     "name": "stderr",
     "output_type": "stream",
     "text": [
      "                                                                                \r"
     ]
    },
    {
     "name": "stdout",
     "output_type": "stream",
     "text": [
      "Accuracy of the model: 94.22589946095023 %\n",
      "Time for block 7: 26.825651168823242\n",
      "Block 8\n"
     ]
    },
    {
     "name": "stderr",
     "output_type": "stream",
     "text": [
      "                                                                                \r"
     ]
    },
    {
     "name": "stdout",
     "output_type": "stream",
     "text": [
      "24/02/15 11:27:09 WARN BlockManager: Task 804 already completed, not releasing lock for rdd_455_0\n"
     ]
    },
    {
     "name": "stderr",
     "output_type": "stream",
     "text": [
      "                                                                                \r"
     ]
    },
    {
     "name": "stdout",
     "output_type": "stream",
     "text": [
      "Accuracy of the model: 91.38131669513976 %\n",
      "Time for block 8: 27.872488021850586\n",
      "Block 9\n"
     ]
    },
    {
     "name": "stderr",
     "output_type": "stream",
     "text": [
      "                                                                                \r"
     ]
    },
    {
     "name": "stdout",
     "output_type": "stream",
     "text": [
      "24/02/15 11:27:39 WARN BlockManager: Task 901 already completed, not releasing lock for rdd_511_0\n"
     ]
    },
    {
     "name": "stderr",
     "output_type": "stream",
     "text": [
      "                                                                                \r"
     ]
    },
    {
     "name": "stdout",
     "output_type": "stream",
     "text": [
      "Accuracy of the model: 93.60023961661342 %\n",
      "Time for block 9: 27.025290727615356\n",
      "Average accuracy: 93.02160118220297 %\n",
      "Total time: 270.87784242630005 s\n",
      "Test with 6 core/s\n"
     ]
    },
    {
     "name": "stderr",
     "output_type": "stream",
     "text": [
      "                                                                                \r"
     ]
    },
    {
     "name": "stdout",
     "output_type": "stream",
     "text": [
      "Means: [1.27838919e+03 2.13364895e+04 6.93013712e+03 6.25819129e+04\n",
      " 1.22276971e+08 1.57460545e+07 9.11132215e+00 1.89416481e+00\n",
      " 1.24196646e+02 2.12980313e+09 2.25738831e+09]\n",
      "\n",
      "Std: [1.60563017e+03 2.41267530e+04 1.63668384e+04 1.34535232e+05\n",
      " 2.34005376e+08 4.41865109e+07 5.28106132e+00 2.10223611e+00\n",
      " 9.03451248e+01 7.14764695e+08 1.30262025e+09]\n",
      "\n",
      "Block 0\n"
     ]
    },
    {
     "name": "stderr",
     "output_type": "stream",
     "text": [
      "                                                                                \r"
     ]
    },
    {
     "name": "stdout",
     "output_type": "stream",
     "text": [
      "24/02/15 11:28:15 WARN BlockManager: Task 28 already completed, not releasing lock for rdd_7_0\n"
     ]
    },
    {
     "name": "stderr",
     "output_type": "stream",
     "text": [
      "                                                                                \r"
     ]
    },
    {
     "name": "stdout",
     "output_type": "stream",
     "text": [
      "Accuracy of the model: 93.35420057593589 %\n",
      "Time for block 0: 28.343528747558594\n",
      "Block 1\n"
     ]
    },
    {
     "name": "stderr",
     "output_type": "stream",
     "text": [
      "                                                                                \r"
     ]
    },
    {
     "name": "stdout",
     "output_type": "stream",
     "text": [
      "24/02/15 11:28:46 WARN BlockManager: Task 125 already completed, not releasing lock for rdd_63_0\n"
     ]
    },
    {
     "name": "stderr",
     "output_type": "stream",
     "text": [
      "                                                                                \r"
     ]
    },
    {
     "name": "stdout",
     "output_type": "stream",
     "text": [
      "Accuracy of the model: 93.32513613209204 %\n",
      "Time for block 1: 27.486712217330933\n",
      "Block 2\n"
     ]
    },
    {
     "name": "stderr",
     "output_type": "stream",
     "text": [
      "                                                                                \r"
     ]
    },
    {
     "name": "stdout",
     "output_type": "stream",
     "text": [
      "24/02/15 11:29:16 WARN BlockManager: Task 222 already completed, not releasing lock for rdd_119_0\n"
     ]
    },
    {
     "name": "stderr",
     "output_type": "stream",
     "text": [
      "                                                                                \r"
     ]
    },
    {
     "name": "stdout",
     "output_type": "stream",
     "text": [
      "Accuracy of the model: 91.86014885146997 %\n",
      "Time for block 2: 26.54121232032776\n",
      "Block 3\n"
     ]
    },
    {
     "name": "stderr",
     "output_type": "stream",
     "text": [
      "                                                                                \r"
     ]
    },
    {
     "name": "stdout",
     "output_type": "stream",
     "text": [
      "24/02/15 11:29:44 WARN BlockManager: Task 319 already completed, not releasing lock for rdd_175_0\n"
     ]
    },
    {
     "name": "stderr",
     "output_type": "stream",
     "text": [
      "                                                                                \r"
     ]
    },
    {
     "name": "stdout",
     "output_type": "stream",
     "text": [
      "Accuracy of the model: 93.37183027868441 %\n",
      "Time for block 3: 26.38233971595764\n",
      "Block 4\n"
     ]
    },
    {
     "name": "stderr",
     "output_type": "stream",
     "text": [
      "                                                                                \r"
     ]
    },
    {
     "name": "stdout",
     "output_type": "stream",
     "text": [
      "Accuracy of the model: 92.78894221155768 %\n",
      "Time for block 4: 25.833898067474365\n",
      "Block 5\n"
     ]
    },
    {
     "name": "stderr",
     "output_type": "stream",
     "text": [
      "                                                                                \r"
     ]
    },
    {
     "name": "stdout",
     "output_type": "stream",
     "text": [
      "24/02/15 11:30:41 WARN BlockManager: Task 513 already completed, not releasing lock for rdd_287_0\n"
     ]
    },
    {
     "name": "stderr",
     "output_type": "stream",
     "text": [
      "                                                                                \r"
     ]
    },
    {
     "name": "stdout",
     "output_type": "stream",
     "text": [
      "Accuracy of the model: 92.55273785336243 %\n",
      "Time for block 5: 25.86725926399231\n",
      "Block 6\n"
     ]
    },
    {
     "name": "stderr",
     "output_type": "stream",
     "text": [
      "                                                                                \r"
     ]
    },
    {
     "name": "stdout",
     "output_type": "stream",
     "text": [
      "24/02/15 11:31:09 WARN BlockManager: Task 610 already completed, not releasing lock for rdd_343_0\n"
     ]
    },
    {
     "name": "stderr",
     "output_type": "stream",
     "text": [
      "                                                                                \r"
     ]
    },
    {
     "name": "stdout",
     "output_type": "stream",
     "text": [
      "Accuracy of the model: 93.72224313135115 %\n",
      "Time for block 6: 26.336307764053345\n",
      "Block 7\n"
     ]
    },
    {
     "name": "stderr",
     "output_type": "stream",
     "text": [
      "                                                                                \r"
     ]
    },
    {
     "name": "stdout",
     "output_type": "stream",
     "text": [
      "24/02/15 11:31:38 WARN BlockManager: Task 707 already completed, not releasing lock for rdd_399_0\n"
     ]
    },
    {
     "name": "stderr",
     "output_type": "stream",
     "text": [
      "                                                                                \r"
     ]
    },
    {
     "name": "stdout",
     "output_type": "stream",
     "text": [
      "Accuracy of the model: 92.95182832274523 %\n",
      "Time for block 7: 26.4155855178833\n",
      "Block 8\n"
     ]
    },
    {
     "name": "stderr",
     "output_type": "stream",
     "text": [
      "                                                                                \r"
     ]
    },
    {
     "name": "stdout",
     "output_type": "stream",
     "text": [
      "24/02/15 11:32:07 WARN BlockManager: Task 804 already completed, not releasing lock for rdd_455_0\n"
     ]
    },
    {
     "name": "stderr",
     "output_type": "stream",
     "text": [
      "                                                                                \r"
     ]
    },
    {
     "name": "stdout",
     "output_type": "stream",
     "text": [
      "Accuracy of the model: 92.7712639109698 %\n",
      "Time for block 8: 26.79742455482483\n",
      "Block 9\n"
     ]
    },
    {
     "name": "stderr",
     "output_type": "stream",
     "text": [
      "                                                                                \r"
     ]
    },
    {
     "name": "stdout",
     "output_type": "stream",
     "text": [
      "24/02/15 11:32:36 WARN BlockManager: Task 901 already completed, not releasing lock for rdd_511_0\n"
     ]
    },
    {
     "name": "stderr",
     "output_type": "stream",
     "text": [
      "                                                                                \r"
     ]
    },
    {
     "name": "stdout",
     "output_type": "stream",
     "text": [
      "Accuracy of the model: 92.09666558595406 %\n",
      "Time for block 9: 25.811640977859497\n",
      "Average accuracy: 92.87949968541226 %\n",
      "Total time: 265.8159091472626 s\n",
      "Test with 7 core/s\n"
     ]
    },
    {
     "name": "stderr",
     "output_type": "stream",
     "text": [
      "                                                                                \r"
     ]
    },
    {
     "name": "stdout",
     "output_type": "stream",
     "text": [
      "Means: [1.27838919e+03 2.13364895e+04 6.93013712e+03 6.25819129e+04\n",
      " 1.22276971e+08 1.57460545e+07 9.11132215e+00 1.89416481e+00\n",
      " 1.24196646e+02 2.12980313e+09 2.25738831e+09]\n",
      "\n",
      "Std: [1.60563017e+03 2.41267530e+04 1.63668384e+04 1.34535232e+05\n",
      " 2.34005376e+08 4.41865109e+07 5.28106132e+00 2.10223611e+00\n",
      " 9.03451248e+01 7.14764695e+08 1.30262025e+09]\n",
      "\n",
      "Block 0\n"
     ]
    },
    {
     "name": "stderr",
     "output_type": "stream",
     "text": [
      "                                                                                \r"
     ]
    },
    {
     "name": "stdout",
     "output_type": "stream",
     "text": [
      "24/02/15 11:33:09 WARN BlockManager: Task 28 already completed, not releasing lock for rdd_7_0\n"
     ]
    },
    {
     "name": "stderr",
     "output_type": "stream",
     "text": [
      "                                                                                \r"
     ]
    },
    {
     "name": "stdout",
     "output_type": "stream",
     "text": [
      "Accuracy of the model: 92.706300355302 %\n",
      "Time for block 0: 25.714463472366333\n",
      "Block 1\n"
     ]
    },
    {
     "name": "stderr",
     "output_type": "stream",
     "text": [
      "                                                                                \r"
     ]
    },
    {
     "name": "stdout",
     "output_type": "stream",
     "text": [
      "24/02/15 11:33:37 WARN BlockManager: Task 125 already completed, not releasing lock for rdd_63_0\n"
     ]
    },
    {
     "name": "stderr",
     "output_type": "stream",
     "text": [
      "                                                                                \r"
     ]
    },
    {
     "name": "stdout",
     "output_type": "stream",
     "text": [
      "Accuracy of the model: 93.0804907241173 %\n",
      "Time for block 1: 26.22614073753357\n",
      "Block 2\n"
     ]
    },
    {
     "name": "stderr",
     "output_type": "stream",
     "text": [
      "                                                                                \r"
     ]
    },
    {
     "name": "stdout",
     "output_type": "stream",
     "text": [
      "24/02/15 11:34:06 WARN BlockManager: Task 222 already completed, not releasing lock for rdd_119_0\n"
     ]
    },
    {
     "name": "stderr",
     "output_type": "stream",
     "text": [
      "                                                                                \r"
     ]
    },
    {
     "name": "stdout",
     "output_type": "stream",
     "text": [
      "Accuracy of the model: 92.25196066226815 %\n",
      "Time for block 2: 25.769695520401\n",
      "Block 3\n"
     ]
    },
    {
     "name": "stderr",
     "output_type": "stream",
     "text": [
      "                                                                                \r"
     ]
    },
    {
     "name": "stdout",
     "output_type": "stream",
     "text": [
      "24/02/15 11:34:34 WARN BlockManager: Task 319 already completed, not releasing lock for rdd_175_0\n"
     ]
    },
    {
     "name": "stderr",
     "output_type": "stream",
     "text": [
      "                                                                                \r"
     ]
    },
    {
     "name": "stdout",
     "output_type": "stream",
     "text": [
      "Accuracy of the model: 92.57988580586998 %\n",
      "Time for block 3: 25.36649513244629\n",
      "Block 4\n"
     ]
    },
    {
     "name": "stderr",
     "output_type": "stream",
     "text": [
      "                                                                                \r"
     ]
    },
    {
     "name": "stdout",
     "output_type": "stream",
     "text": [
      "24/02/15 11:35:01 WARN BlockManager: Task 416 already completed, not releasing lock for rdd_231_0\n"
     ]
    },
    {
     "name": "stderr",
     "output_type": "stream",
     "text": [
      "                                                                                \r"
     ]
    },
    {
     "name": "stdout",
     "output_type": "stream",
     "text": [
      "Accuracy of the model: 93.12363936641394 %\n",
      "Time for block 4: 25.425721883773804\n",
      "Block 5\n"
     ]
    },
    {
     "name": "stderr",
     "output_type": "stream",
     "text": [
      "                                                                                \r"
     ]
    },
    {
     "name": "stdout",
     "output_type": "stream",
     "text": [
      "24/02/15 11:35:29 WARN BlockManager: Task 513 already completed, not releasing lock for rdd_287_0\n"
     ]
    },
    {
     "name": "stderr",
     "output_type": "stream",
     "text": [
      "                                                                                \r"
     ]
    },
    {
     "name": "stdout",
     "output_type": "stream",
     "text": [
      "Accuracy of the model: 93.3472613773661 %\n",
      "Time for block 5: 28.243178844451904\n",
      "Block 6\n"
     ]
    },
    {
     "name": "stderr",
     "output_type": "stream",
     "text": [
      "                                                                                \r"
     ]
    },
    {
     "name": "stdout",
     "output_type": "stream",
     "text": [
      "24/02/15 11:36:00 WARN BlockManager: Task 610 already completed, not releasing lock for rdd_343_0\n"
     ]
    },
    {
     "name": "stderr",
     "output_type": "stream",
     "text": [
      "                                                                                \r"
     ]
    },
    {
     "name": "stdout",
     "output_type": "stream",
     "text": [
      "Accuracy of the model: 92.77042080757003 %\n",
      "Time for block 6: 27.70921230316162\n",
      "Block 7\n"
     ]
    },
    {
     "name": "stderr",
     "output_type": "stream",
     "text": [
      "                                                                                \r"
     ]
    },
    {
     "name": "stdout",
     "output_type": "stream",
     "text": [
      "24/02/15 11:36:30 WARN BlockManager: Task 707 already completed, not releasing lock for rdd_399_0\n"
     ]
    },
    {
     "name": "stderr",
     "output_type": "stream",
     "text": [
      "                                                                                \r"
     ]
    },
    {
     "name": "stdout",
     "output_type": "stream",
     "text": [
      "Accuracy of the model: 92.39257690870595 %\n",
      "Time for block 7: 25.10713768005371\n",
      "Block 8\n"
     ]
    },
    {
     "name": "stderr",
     "output_type": "stream",
     "text": [
      "                                                                                \r"
     ]
    },
    {
     "name": "stdout",
     "output_type": "stream",
     "text": [
      "24/02/15 11:36:57 WARN BlockManager: Task 804 already completed, not releasing lock for rdd_455_0\n"
     ]
    },
    {
     "name": "stderr",
     "output_type": "stream",
     "text": [
      "                                                                                \r"
     ]
    },
    {
     "name": "stdout",
     "output_type": "stream",
     "text": [
      "Accuracy of the model: 92.69490638011419 %\n",
      "Time for block 8: 26.83847141265869\n",
      "Block 9\n"
     ]
    },
    {
     "name": "stderr",
     "output_type": "stream",
     "text": [
      "                                                                                \r"
     ]
    },
    {
     "name": "stdout",
     "output_type": "stream",
     "text": [
      "24/02/15 11:37:26 WARN BlockManager: Task 901 already completed, not releasing lock for rdd_511_0\n"
     ]
    },
    {
     "name": "stderr",
     "output_type": "stream",
     "text": [
      "                                                                                \r"
     ]
    },
    {
     "name": "stdout",
     "output_type": "stream",
     "text": [
      "Accuracy of the model: 92.47648902821317 %\n",
      "Time for block 9: 27.052045106887817\n",
      "Average accuracy: 92.74239314159408 %\n",
      "Total time: 263.45256209373474 s\n",
      "Test with 8 core/s\n"
     ]
    },
    {
     "name": "stderr",
     "output_type": "stream",
     "text": [
      "                                                                                \r"
     ]
    },
    {
     "name": "stdout",
     "output_type": "stream",
     "text": [
      "Means: [1.27838919e+03 2.13364895e+04 6.93013712e+03 6.25819129e+04\n",
      " 1.22276971e+08 1.57460545e+07 9.11132215e+00 1.89416481e+00\n",
      " 1.24196646e+02 2.12980313e+09 2.25738831e+09]\n",
      "\n",
      "Std: [1.60563017e+03 2.41267530e+04 1.63668384e+04 1.34535232e+05\n",
      " 2.34005376e+08 4.41865109e+07 5.28106132e+00 2.10223611e+00\n",
      " 9.03451248e+01 7.14764695e+08 1.30262025e+09]\n",
      "\n",
      "Block 0\n"
     ]
    },
    {
     "name": "stderr",
     "output_type": "stream",
     "text": [
      "                                                                                \r"
     ]
    },
    {
     "name": "stdout",
     "output_type": "stream",
     "text": [
      "24/02/15 11:38:02 WARN BlockManager: Task 28 already completed, not releasing lock for rdd_7_0\n"
     ]
    },
    {
     "name": "stderr",
     "output_type": "stream",
     "text": [
      "                                                                                \r"
     ]
    },
    {
     "name": "stdout",
     "output_type": "stream",
     "text": [
      "Accuracy of the model: 92.29065020412227 %\n",
      "Time for block 0: 26.787673711776733\n",
      "Block 1\n"
     ]
    },
    {
     "name": "stderr",
     "output_type": "stream",
     "text": [
      "                                                                                \r"
     ]
    },
    {
     "name": "stdout",
     "output_type": "stream",
     "text": [
      "24/02/15 11:38:31 WARN BlockManager: Task 125 already completed, not releasing lock for rdd_63_0\n"
     ]
    },
    {
     "name": "stderr",
     "output_type": "stream",
     "text": [
      "                                                                                \r"
     ]
    },
    {
     "name": "stdout",
     "output_type": "stream",
     "text": [
      "Accuracy of the model: 93.96560394247209 %\n",
      "Time for block 1: 25.858757257461548\n",
      "Block 2\n"
     ]
    },
    {
     "name": "stderr",
     "output_type": "stream",
     "text": [
      "                                                                                \r"
     ]
    },
    {
     "name": "stdout",
     "output_type": "stream",
     "text": [
      "Accuracy of the model: 92.19807003581377 %\n",
      "Time for block 2: 26.977378129959106\n",
      "Block 3\n"
     ]
    },
    {
     "name": "stderr",
     "output_type": "stream",
     "text": [
      "                                                                                \r"
     ]
    },
    {
     "name": "stdout",
     "output_type": "stream",
     "text": [
      "24/02/15 11:39:28 WARN BlockManager: Task 319 already completed, not releasing lock for rdd_175_0\n"
     ]
    },
    {
     "name": "stderr",
     "output_type": "stream",
     "text": [
      "                                                                                \r"
     ]
    },
    {
     "name": "stdout",
     "output_type": "stream",
     "text": [
      "Accuracy of the model: 93.11759228969022 %\n",
      "Time for block 3: 26.027353286743164\n",
      "Block 4\n"
     ]
    },
    {
     "name": "stderr",
     "output_type": "stream",
     "text": [
      "                                                                                \r"
     ]
    },
    {
     "name": "stdout",
     "output_type": "stream",
     "text": [
      "24/02/15 11:39:57 WARN BlockManager: Task 416 already completed, not releasing lock for rdd_231_0\n"
     ]
    },
    {
     "name": "stderr",
     "output_type": "stream",
     "text": [
      "                                                                                \r"
     ]
    },
    {
     "name": "stdout",
     "output_type": "stream",
     "text": [
      "Accuracy of the model: 92.84694925014396 %\n",
      "Time for block 4: 26.852769374847412\n",
      "Block 5\n"
     ]
    },
    {
     "name": "stderr",
     "output_type": "stream",
     "text": [
      "                                                                                \r"
     ]
    },
    {
     "name": "stdout",
     "output_type": "stream",
     "text": [
      "24/02/15 11:40:26 WARN BlockManager: Task 513 already completed, not releasing lock for rdd_287_0\n"
     ]
    },
    {
     "name": "stderr",
     "output_type": "stream",
     "text": [
      "                                                                                \r"
     ]
    },
    {
     "name": "stdout",
     "output_type": "stream",
     "text": [
      "Accuracy of the model: 92.66994678180541 %\n",
      "Time for block 5: 26.0829439163208\n",
      "Block 6\n"
     ]
    },
    {
     "name": "stderr",
     "output_type": "stream",
     "text": [
      "                                                                                \r"
     ]
    },
    {
     "name": "stdout",
     "output_type": "stream",
     "text": [
      "24/02/15 11:40:55 WARN BlockManager: Task 610 already completed, not releasing lock for rdd_343_0\n"
     ]
    },
    {
     "name": "stderr",
     "output_type": "stream",
     "text": [
      "                                                                                \r"
     ]
    },
    {
     "name": "stdout",
     "output_type": "stream",
     "text": [
      "Accuracy of the model: 92.60623371417118 %\n",
      "Time for block 6: 26.648784160614014\n",
      "Block 7\n"
     ]
    },
    {
     "name": "stderr",
     "output_type": "stream",
     "text": [
      "                                                                                \r"
     ]
    },
    {
     "name": "stdout",
     "output_type": "stream",
     "text": [
      "24/02/15 11:41:23 WARN BlockManager: Task 707 already completed, not releasing lock for rdd_399_0\n"
     ]
    },
    {
     "name": "stderr",
     "output_type": "stream",
     "text": [
      "                                                                                \r"
     ]
    },
    {
     "name": "stdout",
     "output_type": "stream",
     "text": [
      "Accuracy of the model: 92.9366352516543 %\n",
      "Time for block 7: 26.439926862716675\n",
      "Block 8\n"
     ]
    },
    {
     "name": "stderr",
     "output_type": "stream",
     "text": [
      "                                                                                \r"
     ]
    },
    {
     "name": "stdout",
     "output_type": "stream",
     "text": [
      "24/02/15 11:41:52 WARN BlockManager: Task 804 already completed, not releasing lock for rdd_455_0\n"
     ]
    },
    {
     "name": "stderr",
     "output_type": "stream",
     "text": [
      "                                                                                \r"
     ]
    },
    {
     "name": "stdout",
     "output_type": "stream",
     "text": [
      "Accuracy of the model: 93.18981993763202 %\n",
      "Time for block 8: 26.70804715156555\n",
      "Block 9\n"
     ]
    },
    {
     "name": "stderr",
     "output_type": "stream",
     "text": [
      "                                                                                \r"
     ]
    },
    {
     "name": "stdout",
     "output_type": "stream",
     "text": [
      "24/02/15 11:42:21 WARN BlockManager: Task 901 already completed, not releasing lock for rdd_511_0\n"
     ]
    },
    {
     "name": "stderr",
     "output_type": "stream",
     "text": [
      "[Stage 254:==============>                                          (1 + 3) / 4]\r"
     ]
    },
    {
     "name": "stdout",
     "output_type": "stream",
     "text": [
      "Accuracy of the model: 93.52676338169084 %\n",
      "Time for block 9: 26.055997848510742\n",
      "Average accuracy: 92.9348264789196 %\n",
      "Total time: 264.43963170051575 s\n"
     ]
    },
    {
     "name": "stderr",
     "output_type": "stream",
     "text": [
      "\r\n",
      "                                                                                \r"
     ]
    }
   ],
   "source": [
    "num_workers = list(range(1, 9))\n",
    "tiempos_ejecucion_cv = []\n",
    "\n",
    "for i in num_workers:\n",
    "    print(f\"Test with {i} core/s\")\n",
    "    sc.stop()\n",
    "    sc = SparkContext(f\"local[{i}]\", \"CrossValidation\")\n",
    "    total_time, _ = test_cv(path, print_it=False)\n",
    "    tiempos_ejecucion_cv.append(total_time)"
   ]
  },
  {
   "cell_type": "code",
   "execution_count": 14,
   "metadata": {
    "ExecuteTime": {
     "end_time": "2024-02-15T10:42:48.130127Z",
     "start_time": "2024-02-15T10:42:47.972952Z"
    }
   },
   "outputs": [
    {
     "data": {
      "image/png": "[encoded data removed]",
      "text/plain": [
       "<Figure size 640x480 with 1 Axes>"
      ]
     },
     "metadata": {},
     "output_type": "display_data"
    }
   ],
   "source": [
    "plt.plot(num_workers, tiempos_ejecucion_cv, marker='o')\n",
    "plt.title('Curva de rendimiento con cross validation')\n",
    "plt.xlabel('Número de trabajadores')\n",
    "plt.ylabel('Tiempo de ejecución (segundos)')\n",
    "plt.grid(True)\n",
    "plt.show()"
   ]
  },
  {
   "cell_type": "code",
   "execution_count": 15,
   "metadata": {
    "ExecuteTime": {
     "end_time": "2024-02-15T10:42:48.135331Z",
     "start_time": "2024-02-15T10:42:48.131603Z"
    }
   },
   "outputs": [],
   "source": [
    "acceleration = []\n",
    "for i in range(0, 8):\n",
    "    acceleration.append(tiempos_ejecucion_cv[0]/tiempos_ejecucion_cv[i]) "
   ]
  },
  {
   "cell_type": "code",
   "execution_count": 16,
   "metadata": {
    "ExecuteTime": {
     "end_time": "2024-02-15T10:42:48.218907Z",
     "start_time": "2024-02-15T10:42:48.139158Z"
    }
   },
   "outputs": [
    {
     "data": {
      "image/png": "[encoded data removed]",
      "text/plain": [
       "<Figure size 640x480 with 1 Axes>"
      ]
     },
     "metadata": {},
     "output_type": "display_data"
    }
   ],
   "source": [
    "plt.plot(num_workers, acceleration, marker='o')\n",
    "plt.title('Curva de aceleración con cross validation')\n",
    "plt.xlabel('Número de trabajadores')\n",
    "plt.ylabel('Factor de aceleración (Speedup)')\n",
    "plt.grid(True)\n",
    "plt.show()"
   ]
  },
  {
   "cell_type": "code",
   "execution_count": null,
   "metadata": {},
   "outputs": [],
   "source": []
  }
 ],
 "metadata": {
  "kernelspec": {
   "display_name": "Python 3 (ipykernel)",
   "language": "python",
   "name": "python3"
  },
  "language_info": {
   "codemirror_mode": {
    "name": "ipython",
    "version": 3
   },
   "file_extension": ".py",
   "mimetype": "text/x-python",
   "name": "python",
   "nbconvert_exporter": "python",
   "pygments_lexer": "ipython3",
   "version": "3.7.16"
  },
  "toc": {
   "base_numbering": 1,
   "nav_menu": {},
   "number_sections": true,
   "sideBar": true,
   "skip_h1_title": false,
   "title_cell": "Table of Contents",
   "title_sidebar": "Contents",
   "toc_cell": false,
   "toc_position": {},
   "toc_section_display": true,
   "toc_window_display": false
  }
 },
 "nbformat": 4,
 "nbformat_minor": 1
}
